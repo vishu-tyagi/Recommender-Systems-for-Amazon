{
  "nbformat": 4,
  "nbformat_minor": 0,
  "metadata": {
    "colab": {
      "name": "video_games_data_cleaning.ipynb",
      "provenance": [],
      "collapsed_sections": [],
      "machine_shape": "hm"
    },
    "kernelspec": {
      "name": "python3",
      "display_name": "Python 3"
    },
    "language_info": {
      "name": "python"
    },
    "accelerator": "GPU"
  },
  "cells": [
    {
      "cell_type": "markdown",
      "metadata": {
        "id": "6wa1SEaQIjGs"
      },
      "source": [
        "# 1. Install Dependencies"
      ]
    },
    {
      "cell_type": "code",
      "metadata": {
        "id": "GFHlnTdA8e0g",
        "colab": {
          "base_uri": "https://localhost:8080/"
        },
        "outputId": "8c76e310-90f5-46de-90ed-bc98753abb2e"
      },
      "source": [
        "!pip install simplejson"
      ],
      "execution_count": null,
      "outputs": [
        {
          "output_type": "stream",
          "name": "stdout",
          "text": [
            "Requirement already satisfied: simplejson in /usr/local/lib/python3.7/dist-packages (3.17.5)\n"
          ]
        }
      ]
    },
    {
      "cell_type": "markdown",
      "metadata": {
        "id": "HNrumeEGIuCp"
      },
      "source": [
        "# 2. Import Libraries"
      ]
    },
    {
      "cell_type": "code",
      "metadata": {
        "id": "rSX-HyO-5Mki"
      },
      "source": [
        "import os\n",
        "import json\n",
        "\n",
        "import random\n",
        "import simplejson as json\n",
        "\n",
        "import numpy as np\n",
        "import pandas as pd\n",
        "import matplotlib.pyplot as plt\n",
        "import seaborn as sns\n",
        "\n",
        "import re "
      ],
      "execution_count": null,
      "outputs": []
    },
    {
      "cell_type": "code",
      "metadata": {
        "colab": {
          "base_uri": "https://localhost:8080/"
        },
        "id": "IsWgITpD5GvK",
        "outputId": "bb55d8cd-93d9-4e2a-95b0-d7116ac2b069"
      },
      "source": [
        "from google.colab import drive\n",
        "drive.mount('/content/drive')"
      ],
      "execution_count": null,
      "outputs": [
        {
          "output_type": "stream",
          "name": "stdout",
          "text": [
            "Drive already mounted at /content/drive; to attempt to forcibly remount, call drive.mount(\"/content/drive\", force_remount=True).\n"
          ]
        }
      ]
    },
    {
      "cell_type": "markdown",
      "metadata": {
        "id": "woGcTsZLI1tH"
      },
      "source": [
        "# 3. Parse Data"
      ]
    },
    {
      "cell_type": "code",
      "metadata": {
        "id": "FlDjeUyu5KnC"
      },
      "source": [
        "def parse(path):\n",
        "  g = open(path, 'rb')\n",
        "  for l in g:\n",
        "    yield json.loads(l)\n",
        "    "
      ],
      "execution_count": null,
      "outputs": []
    },
    {
      "cell_type": "code",
      "metadata": {
        "id": "nirCud_Z5SeF"
      },
      "source": [
        "def getDF(path):\n",
        "  i = 0\n",
        "  df = {}\n",
        "  for d in parse(path):\n",
        "    df[i] = d\n",
        "    i += 1\n",
        "  return pd.DataFrame.from_dict(df, orient='index')"
      ],
      "execution_count": null,
      "outputs": []
    },
    {
      "cell_type": "markdown",
      "metadata": {
        "id": "tI_BxGdeI7dM"
      },
      "source": [
        "# 4. Load Data"
      ]
    },
    {
      "cell_type": "code",
      "metadata": {
        "id": "1AA_BX5A7qFI"
      },
      "source": [
        "review = getDF('/content/drive/My Drive/Applied_ML/data/Video_Games.json')\n"
      ],
      "execution_count": null,
      "outputs": []
    },
    {
      "cell_type": "code",
      "metadata": {
        "id": "EKeGC2IH75Sq"
      },
      "source": [
        "meta = getDF('/content/drive/My Drive/Applied_ML/data/meta_Video_Games.json')\n",
        "\n",
        "# we are going to drop the columns for which no description is provided by the author\n",
        "# we have discussed rigorously and decided to drop them\n",
        "meta = meta.drop(axis=1, columns='fit')\n",
        "meta = meta.drop(axis=1, columns='date')"
      ],
      "execution_count": null,
      "outputs": []
    },
    {
      "cell_type": "code",
      "metadata": {
        "id": "wsDt7A3_9Tir",
        "colab": {
          "base_uri": "https://localhost:8080/",
          "height": 442
        },
        "outputId": "0b7b4d81-325e-462d-8c61-e51fa71ed27f"
      },
      "source": [
        "review.head(5)"
      ],
      "execution_count": null,
      "outputs": [
        {
          "output_type": "execute_result",
          "data": {
            "text/html": [
              "<div>\n",
              "<style scoped>\n",
              "    .dataframe tbody tr th:only-of-type {\n",
              "        vertical-align: middle;\n",
              "    }\n",
              "\n",
              "    .dataframe tbody tr th {\n",
              "        vertical-align: top;\n",
              "    }\n",
              "\n",
              "    .dataframe thead th {\n",
              "        text-align: right;\n",
              "    }\n",
              "</style>\n",
              "<table border=\"1\" class=\"dataframe\">\n",
              "  <thead>\n",
              "    <tr style=\"text-align: right;\">\n",
              "      <th></th>\n",
              "      <th>overall</th>\n",
              "      <th>verified</th>\n",
              "      <th>reviewTime</th>\n",
              "      <th>reviewerID</th>\n",
              "      <th>asin</th>\n",
              "      <th>reviewerName</th>\n",
              "      <th>reviewText</th>\n",
              "      <th>summary</th>\n",
              "      <th>unixReviewTime</th>\n",
              "      <th>vote</th>\n",
              "      <th>style</th>\n",
              "      <th>image</th>\n",
              "    </tr>\n",
              "  </thead>\n",
              "  <tbody>\n",
              "    <tr>\n",
              "      <th>0</th>\n",
              "      <td>1.0</td>\n",
              "      <td>True</td>\n",
              "      <td>06 9, 2014</td>\n",
              "      <td>A21ROB4YDOZA5P</td>\n",
              "      <td>0439381673</td>\n",
              "      <td>Mary M. Clark</td>\n",
              "      <td>I used to play this game years ago and loved i...</td>\n",
              "      <td>Did not like this</td>\n",
              "      <td>1402272000</td>\n",
              "      <td>NaN</td>\n",
              "      <td>NaN</td>\n",
              "      <td>NaN</td>\n",
              "    </tr>\n",
              "    <tr>\n",
              "      <th>1</th>\n",
              "      <td>3.0</td>\n",
              "      <td>True</td>\n",
              "      <td>05 10, 2014</td>\n",
              "      <td>A3TNZ2Q5E7HTHD</td>\n",
              "      <td>0439381673</td>\n",
              "      <td>Sarabatya</td>\n",
              "      <td>The game itself worked great but the story lin...</td>\n",
              "      <td>Almost Perfect</td>\n",
              "      <td>1399680000</td>\n",
              "      <td>NaN</td>\n",
              "      <td>NaN</td>\n",
              "      <td>NaN</td>\n",
              "    </tr>\n",
              "    <tr>\n",
              "      <th>2</th>\n",
              "      <td>4.0</td>\n",
              "      <td>True</td>\n",
              "      <td>02 7, 2014</td>\n",
              "      <td>A1OKRM3QFEATQO</td>\n",
              "      <td>0439381673</td>\n",
              "      <td>Amazon Customer</td>\n",
              "      <td>I had to learn the hard way after ordering thi...</td>\n",
              "      <td>DOES NOT WORK WITH MAC OS unless it is 10.3 or...</td>\n",
              "      <td>1391731200</td>\n",
              "      <td>15</td>\n",
              "      <td>NaN</td>\n",
              "      <td>NaN</td>\n",
              "    </tr>\n",
              "    <tr>\n",
              "      <th>3</th>\n",
              "      <td>1.0</td>\n",
              "      <td>True</td>\n",
              "      <td>02 7, 2014</td>\n",
              "      <td>A2XO1JFCNEYV3T</td>\n",
              "      <td>0439381673</td>\n",
              "      <td>ColoradoPartyof5</td>\n",
              "      <td>The product description should state this clea...</td>\n",
              "      <td>does not work on Mac OSX</td>\n",
              "      <td>1391731200</td>\n",
              "      <td>11</td>\n",
              "      <td>NaN</td>\n",
              "      <td>NaN</td>\n",
              "    </tr>\n",
              "    <tr>\n",
              "      <th>4</th>\n",
              "      <td>4.0</td>\n",
              "      <td>True</td>\n",
              "      <td>01 16, 2014</td>\n",
              "      <td>A19WLPIRHD15TH</td>\n",
              "      <td>0439381673</td>\n",
              "      <td>Karen Robinson</td>\n",
              "      <td>I would recommend this learning game for anyon...</td>\n",
              "      <td>Roughing it</td>\n",
              "      <td>1389830400</td>\n",
              "      <td>NaN</td>\n",
              "      <td>NaN</td>\n",
              "      <td>NaN</td>\n",
              "    </tr>\n",
              "  </tbody>\n",
              "</table>\n",
              "</div>"
            ],
            "text/plain": [
              "   overall  verified   reviewTime  ... vote style image\n",
              "0      1.0      True   06 9, 2014  ...  NaN   NaN   NaN\n",
              "1      3.0      True  05 10, 2014  ...  NaN   NaN   NaN\n",
              "2      4.0      True   02 7, 2014  ...   15   NaN   NaN\n",
              "3      1.0      True   02 7, 2014  ...   11   NaN   NaN\n",
              "4      4.0      True  01 16, 2014  ...  NaN   NaN   NaN\n",
              "\n",
              "[5 rows x 12 columns]"
            ]
          },
          "metadata": {},
          "execution_count": 8
        }
      ]
    },
    {
      "cell_type": "markdown",
      "metadata": {
        "id": "s6vxEHJPxuCn"
      },
      "source": [
        "**review** dataset with $2,565,349$ reviews where, \n",
        "\n",
        ">**reviewerID** - reviewer ID\n",
        ">\n",
        "> **asin** - product ID \n",
        ">\n",
        "> **reviewerName** - reviewer name \n",
        ">\n",
        "> **vote** - no. of votes for the review, indicating its helpfulness \n",
        ">\n",
        "> **style** - dictionary of product attributes \n",
        ">\n",
        "> **reviewText** - review statement\n",
        ">\n",
        "> **overall** - product rating provided by the reviewer \n",
        ">\n",
        "> **summary** - review summary \n",
        ">\n",
        "> **unixReviewTime** - unix time of the review \n",
        ">\n",
        "> **reviewTime** - raw time of the review \n",
        ">\n",
        "> **image** - images posted by reviewer\n"
      ]
    },
    {
      "cell_type": "code",
      "metadata": {
        "colab": {
          "base_uri": "https://localhost:8080/",
          "height": 649
        },
        "id": "owuiTrH2teHY",
        "outputId": "09cbe696-3d23-4028-bd6a-8f998534058e"
      },
      "source": [
        "meta.head(5)"
      ],
      "execution_count": null,
      "outputs": [
        {
          "output_type": "execute_result",
          "data": {
            "text/html": [
              "<div>\n",
              "<style scoped>\n",
              "    .dataframe tbody tr th:only-of-type {\n",
              "        vertical-align: middle;\n",
              "    }\n",
              "\n",
              "    .dataframe tbody tr th {\n",
              "        vertical-align: top;\n",
              "    }\n",
              "\n",
              "    .dataframe thead th {\n",
              "        text-align: right;\n",
              "    }\n",
              "</style>\n",
              "<table border=\"1\" class=\"dataframe\">\n",
              "  <thead>\n",
              "    <tr style=\"text-align: right;\">\n",
              "      <th></th>\n",
              "      <th>category</th>\n",
              "      <th>tech1</th>\n",
              "      <th>description</th>\n",
              "      <th>title</th>\n",
              "      <th>also_buy</th>\n",
              "      <th>tech2</th>\n",
              "      <th>brand</th>\n",
              "      <th>feature</th>\n",
              "      <th>rank</th>\n",
              "      <th>also_view</th>\n",
              "      <th>main_cat</th>\n",
              "      <th>similar_item</th>\n",
              "      <th>price</th>\n",
              "      <th>asin</th>\n",
              "      <th>imageURL</th>\n",
              "      <th>imageURLHighRes</th>\n",
              "      <th>details</th>\n",
              "    </tr>\n",
              "  </thead>\n",
              "  <tbody>\n",
              "    <tr>\n",
              "      <th>0</th>\n",
              "      <td>[Video Games, PC, Games]</td>\n",
              "      <td></td>\n",
              "      <td>[]</td>\n",
              "      <td>Reversi Sensory Challenger</td>\n",
              "      <td>[]</td>\n",
              "      <td></td>\n",
              "      <td>Fidelity Electronics</td>\n",
              "      <td>[]</td>\n",
              "      <td>[&gt;#2,623,937 in Toys &amp;amp; Games (See Top 100 ...</td>\n",
              "      <td>[]</td>\n",
              "      <td>Toys &amp;amp; Games</td>\n",
              "      <td></td>\n",
              "      <td></td>\n",
              "      <td>0042000742</td>\n",
              "      <td>[https://images-na.ssl-images-amazon.com/image...</td>\n",
              "      <td>[https://images-na.ssl-images-amazon.com/image...</td>\n",
              "      <td>NaN</td>\n",
              "    </tr>\n",
              "    <tr>\n",
              "      <th>1</th>\n",
              "      <td>[Video Games, Xbox 360, Games, &lt;/span&gt;&lt;/span&gt;&lt;...</td>\n",
              "      <td></td>\n",
              "      <td>[Brand new sealed!]</td>\n",
              "      <td>Medal of Honor: Warfighter - Includes Battlefi...</td>\n",
              "      <td>[B00PADROYW]</td>\n",
              "      <td></td>\n",
              "      <td>by\\n    \\n    EA Games</td>\n",
              "      <td>[]</td>\n",
              "      <td>[&gt;#67,231 in Video Games (See Top 100 in Video...</td>\n",
              "      <td>[B0050SY5BM, B072NQJCW5, B000TI836G, B002SRSQ7...</td>\n",
              "      <td>Video Games</td>\n",
              "      <td></td>\n",
              "      <td>\\n\\t\\t\\t\\t\\t\\t\\t\\t\\t\\t\\t\\t&lt;span class=\"vertica...</td>\n",
              "      <td>0078764343</td>\n",
              "      <td>[https://images-na.ssl-images-amazon.com/image...</td>\n",
              "      <td>[https://images-na.ssl-images-amazon.com/image...</td>\n",
              "      <td>NaN</td>\n",
              "    </tr>\n",
              "    <tr>\n",
              "      <th>2</th>\n",
              "      <td>[Video Games, Retro Gaming &amp; Microconsoles, Su...</td>\n",
              "      <td></td>\n",
              "      <td>[]</td>\n",
              "      <td>street fighter 2 II turbo super nintendo snes ...</td>\n",
              "      <td>[]</td>\n",
              "      <td></td>\n",
              "      <td>Nintendo</td>\n",
              "      <td>[]</td>\n",
              "      <td>[&gt;#134,433 in Video Games (See Top 100 in Vide...</td>\n",
              "      <td>[]</td>\n",
              "      <td>Video Games</td>\n",
              "      <td></td>\n",
              "      <td>$0.72</td>\n",
              "      <td>0276425316</td>\n",
              "      <td>[]</td>\n",
              "      <td>[]</td>\n",
              "      <td>NaN</td>\n",
              "    </tr>\n",
              "    <tr>\n",
              "      <th>3</th>\n",
              "      <td>[Video Games, Xbox 360, Accessories, Controlle...</td>\n",
              "      <td></td>\n",
              "      <td>[MAS's Pro Xbox 360 Stick (Perfect 360 Stick) ...</td>\n",
              "      <td>Xbox 360 MAS STICK</td>\n",
              "      <td>[]</td>\n",
              "      <td></td>\n",
              "      <td>by\\n    \\n    MAS SYSTEMS</td>\n",
              "      <td>[Original PCB used from Xbox 360 Control Pad (...</td>\n",
              "      <td>[&gt;#105,263 in Video Games (See Top 100 in Vide...</td>\n",
              "      <td>[]</td>\n",
              "      <td>Video Games</td>\n",
              "      <td></td>\n",
              "      <td></td>\n",
              "      <td>0324411812</td>\n",
              "      <td>[https://images-na.ssl-images-amazon.com/image...</td>\n",
              "      <td>[https://images-na.ssl-images-amazon.com/image...</td>\n",
              "      <td>NaN</td>\n",
              "    </tr>\n",
              "    <tr>\n",
              "      <th>4</th>\n",
              "      <td>[Video Games, PC, Games, &lt;/span&gt;&lt;/span&gt;&lt;/span&gt;...</td>\n",
              "      <td></td>\n",
              "      <td>[Phonics Alive! 3, The Speller teaches student...</td>\n",
              "      <td>Phonics Alive! 3: The Speller</td>\n",
              "      <td>[]</td>\n",
              "      <td></td>\n",
              "      <td>by\\n    \\n    Advanced Software Pty. Ltd.</td>\n",
              "      <td>[Grades 2-12, Spelling Program, Teaches Spelli...</td>\n",
              "      <td>[&gt;#92,397 in Video Games (See Top 100 in Video...</td>\n",
              "      <td>[B000BCZ7U0]</td>\n",
              "      <td>Video Games</td>\n",
              "      <td></td>\n",
              "      <td></td>\n",
              "      <td>0439335310</td>\n",
              "      <td>[https://images-na.ssl-images-amazon.com/image...</td>\n",
              "      <td>[https://images-na.ssl-images-amazon.com/image...</td>\n",
              "      <td>NaN</td>\n",
              "    </tr>\n",
              "  </tbody>\n",
              "</table>\n",
              "</div>"
            ],
            "text/plain": [
              "                                            category  ... details\n",
              "0                           [Video Games, PC, Games]  ...     NaN\n",
              "1  [Video Games, Xbox 360, Games, </span></span><...  ...     NaN\n",
              "2  [Video Games, Retro Gaming & Microconsoles, Su...  ...     NaN\n",
              "3  [Video Games, Xbox 360, Accessories, Controlle...  ...     NaN\n",
              "4  [Video Games, PC, Games, </span></span></span>...  ...     NaN\n",
              "\n",
              "[5 rows x 17 columns]"
            ]
          },
          "metadata": {},
          "execution_count": 9
        }
      ]
    },
    {
      "cell_type": "markdown",
      "metadata": {
        "id": "mm5OCcJUxCTB"
      },
      "source": [
        "**meta** dataset with $84,819$ sample points where,\n",
        "\n",
        "> **asin** - ID of the product\n",
        ">\n",
        "> **title** - name of the product\n",
        ">\n",
        "> **feature** - bullet-point format features of the product\n",
        ">\n",
        "> **description** - description of the product\n",
        ">\n",
        "> **price** - price in US dollars (at time of crawl)\n",
        ">\n",
        "> **imageURL** - url of the product image\n",
        ">\n",
        "> **imageURLHighRes** - url of the high resolution product image \n",
        ">\n",
        "> **related** - related products (also bought, also viewed, bought together, buy after viewing)\n",
        ">\n",
        "> **salesRank** - sales rank information\n",
        ">\n",
        "> **brand** - brand name\n",
        ">\n",
        "> **categories** - list of categories the product belongs to\n",
        ">\n",
        "> **tech1** - the first technical detail table of the product\n",
        ">\n",
        "> **tech2** - the second technical detail table of the product\n",
        ">\n",
        "> **similar_item** - similar product table"
      ]
    },
    {
      "cell_type": "markdown",
      "metadata": {
        "id": "CzO1xl6gJKBm"
      },
      "source": [
        "# 5. Cleaning"
      ]
    },
    {
      "cell_type": "markdown",
      "metadata": {
        "id": "DUCD5OUDnp7F"
      },
      "source": [
        "## 5.1 Handling Duplicates"
      ]
    },
    {
      "cell_type": "markdown",
      "metadata": {
        "id": "zTMikBu031fm"
      },
      "source": [
        "Since meta dataset contains product information, we expect to have unique values for the 'asin' column (which contains product ID). However, as we can see below, this is not the case:"
      ]
    },
    {
      "cell_type": "code",
      "metadata": {
        "colab": {
          "base_uri": "https://localhost:8080/"
        },
        "id": "LYnSOfxWJ2X7",
        "outputId": "56ddcdb7-0730-455a-fcb9-7ccd98f2bfb3"
      },
      "source": [
        "print('Number of unique values in asin for meta dataset: {:,}'.format(meta['asin'].nunique()))\n",
        "print('Total number of rows in meta dataset: {:,}'.format(len(meta)))"
      ],
      "execution_count": null,
      "outputs": [
        {
          "output_type": "stream",
          "name": "stdout",
          "text": [
            "Number of unique values in asin for meta dataset: 71,911\n",
            "Total number of rows in meta dataset: 84,819\n"
          ]
        }
      ]
    },
    {
      "cell_type": "markdown",
      "metadata": {
        "id": "WFvsOx4TKfVn"
      },
      "source": [
        "Hence, we need to get rid of duplicates..."
      ]
    },
    {
      "cell_type": "code",
      "metadata": {
        "colab": {
          "base_uri": "https://localhost:8080/",
          "height": 632
        },
        "id": "m3ytgzLN4XNH",
        "outputId": "fe447735-b612-4976-f89a-ef6423e0f6ea"
      },
      "source": [
        "meta = meta.loc[meta.astype(str).drop_duplicates().index].astype(str)\n",
        "meta.head()\n"
      ],
      "execution_count": null,
      "outputs": [
        {
          "output_type": "execute_result",
          "data": {
            "text/html": [
              "<div>\n",
              "<style scoped>\n",
              "    .dataframe tbody tr th:only-of-type {\n",
              "        vertical-align: middle;\n",
              "    }\n",
              "\n",
              "    .dataframe tbody tr th {\n",
              "        vertical-align: top;\n",
              "    }\n",
              "\n",
              "    .dataframe thead th {\n",
              "        text-align: right;\n",
              "    }\n",
              "</style>\n",
              "<table border=\"1\" class=\"dataframe\">\n",
              "  <thead>\n",
              "    <tr style=\"text-align: right;\">\n",
              "      <th></th>\n",
              "      <th>category</th>\n",
              "      <th>tech1</th>\n",
              "      <th>description</th>\n",
              "      <th>title</th>\n",
              "      <th>also_buy</th>\n",
              "      <th>tech2</th>\n",
              "      <th>brand</th>\n",
              "      <th>feature</th>\n",
              "      <th>rank</th>\n",
              "      <th>also_view</th>\n",
              "      <th>main_cat</th>\n",
              "      <th>similar_item</th>\n",
              "      <th>price</th>\n",
              "      <th>asin</th>\n",
              "      <th>imageURL</th>\n",
              "      <th>imageURLHighRes</th>\n",
              "      <th>details</th>\n",
              "    </tr>\n",
              "  </thead>\n",
              "  <tbody>\n",
              "    <tr>\n",
              "      <th>0</th>\n",
              "      <td>['Video Games', 'PC', 'Games']</td>\n",
              "      <td></td>\n",
              "      <td>[]</td>\n",
              "      <td>Reversi Sensory Challenger</td>\n",
              "      <td>[]</td>\n",
              "      <td></td>\n",
              "      <td>Fidelity Electronics</td>\n",
              "      <td>[]</td>\n",
              "      <td>['&gt;#2,623,937 in Toys &amp;amp; Games (See Top 100...</td>\n",
              "      <td>[]</td>\n",
              "      <td>Toys &amp;amp; Games</td>\n",
              "      <td></td>\n",
              "      <td></td>\n",
              "      <td>0042000742</td>\n",
              "      <td>['https://images-na.ssl-images-amazon.com/imag...</td>\n",
              "      <td>['https://images-na.ssl-images-amazon.com/imag...</td>\n",
              "      <td>nan</td>\n",
              "    </tr>\n",
              "    <tr>\n",
              "      <th>1</th>\n",
              "      <td>['Video Games', 'Xbox 360', 'Games', '&lt;/span&gt;&lt;...</td>\n",
              "      <td></td>\n",
              "      <td>['Brand new sealed!']</td>\n",
              "      <td>Medal of Honor: Warfighter - Includes Battlefi...</td>\n",
              "      <td>['B00PADROYW']</td>\n",
              "      <td></td>\n",
              "      <td>by\\n    \\n    EA Games</td>\n",
              "      <td>[]</td>\n",
              "      <td>['&gt;#67,231 in Video Games (See Top 100 in Vide...</td>\n",
              "      <td>['B0050SY5BM', 'B072NQJCW5', 'B000TI836G', 'B0...</td>\n",
              "      <td>Video Games</td>\n",
              "      <td></td>\n",
              "      <td>\\n\\t\\t\\t\\t\\t\\t\\t\\t\\t\\t\\t\\t&lt;span class=\"vertica...</td>\n",
              "      <td>0078764343</td>\n",
              "      <td>['https://images-na.ssl-images-amazon.com/imag...</td>\n",
              "      <td>['https://images-na.ssl-images-amazon.com/imag...</td>\n",
              "      <td>nan</td>\n",
              "    </tr>\n",
              "    <tr>\n",
              "      <th>2</th>\n",
              "      <td>['Video Games', 'Retro Gaming &amp; Microconsoles'...</td>\n",
              "      <td></td>\n",
              "      <td>[]</td>\n",
              "      <td>street fighter 2 II turbo super nintendo snes ...</td>\n",
              "      <td>[]</td>\n",
              "      <td></td>\n",
              "      <td>Nintendo</td>\n",
              "      <td>[]</td>\n",
              "      <td>['&gt;#134,433 in Video Games (See Top 100 in Vid...</td>\n",
              "      <td>[]</td>\n",
              "      <td>Video Games</td>\n",
              "      <td></td>\n",
              "      <td>$0.72</td>\n",
              "      <td>0276425316</td>\n",
              "      <td>[]</td>\n",
              "      <td>[]</td>\n",
              "      <td>nan</td>\n",
              "    </tr>\n",
              "    <tr>\n",
              "      <th>3</th>\n",
              "      <td>['Video Games', 'Xbox 360', 'Accessories', 'Co...</td>\n",
              "      <td></td>\n",
              "      <td>[\"MAS's Pro Xbox 360 Stick (Perfect 360 Stick)...</td>\n",
              "      <td>Xbox 360 MAS STICK</td>\n",
              "      <td>[]</td>\n",
              "      <td></td>\n",
              "      <td>by\\n    \\n    MAS SYSTEMS</td>\n",
              "      <td>['Original PCB used from Xbox 360 Control Pad ...</td>\n",
              "      <td>['&gt;#105,263 in Video Games (See Top 100 in Vid...</td>\n",
              "      <td>[]</td>\n",
              "      <td>Video Games</td>\n",
              "      <td></td>\n",
              "      <td></td>\n",
              "      <td>0324411812</td>\n",
              "      <td>['https://images-na.ssl-images-amazon.com/imag...</td>\n",
              "      <td>['https://images-na.ssl-images-amazon.com/imag...</td>\n",
              "      <td>nan</td>\n",
              "    </tr>\n",
              "    <tr>\n",
              "      <th>4</th>\n",
              "      <td>['Video Games', 'PC', 'Games', '&lt;/span&gt;&lt;/span&gt;...</td>\n",
              "      <td></td>\n",
              "      <td>['Phonics Alive! 3, The Speller teaches studen...</td>\n",
              "      <td>Phonics Alive! 3: The Speller</td>\n",
              "      <td>[]</td>\n",
              "      <td></td>\n",
              "      <td>by\\n    \\n    Advanced Software Pty. Ltd.</td>\n",
              "      <td>['Grades 2-12', 'Spelling Program', 'Teaches S...</td>\n",
              "      <td>['&gt;#92,397 in Video Games (See Top 100 in Vide...</td>\n",
              "      <td>['B000BCZ7U0']</td>\n",
              "      <td>Video Games</td>\n",
              "      <td></td>\n",
              "      <td></td>\n",
              "      <td>0439335310</td>\n",
              "      <td>['https://images-na.ssl-images-amazon.com/imag...</td>\n",
              "      <td>['https://images-na.ssl-images-amazon.com/imag...</td>\n",
              "      <td>nan</td>\n",
              "    </tr>\n",
              "  </tbody>\n",
              "</table>\n",
              "</div>"
            ],
            "text/plain": [
              "                                            category  ... details\n",
              "0                     ['Video Games', 'PC', 'Games']  ...     nan\n",
              "1  ['Video Games', 'Xbox 360', 'Games', '</span><...  ...     nan\n",
              "2  ['Video Games', 'Retro Gaming & Microconsoles'...  ...     nan\n",
              "3  ['Video Games', 'Xbox 360', 'Accessories', 'Co...  ...     nan\n",
              "4  ['Video Games', 'PC', 'Games', '</span></span>...  ...     nan\n",
              "\n",
              "[5 rows x 17 columns]"
            ]
          },
          "metadata": {},
          "execution_count": 11
        }
      ]
    },
    {
      "cell_type": "code",
      "metadata": {
        "colab": {
          "base_uri": "https://localhost:8080/"
        },
        "id": "OYGGzbgDH0cu",
        "outputId": "d6a31b6e-7c1b-4a88-d280-299da0c515d1"
      },
      "source": [
        "print('\\n\\nAfter dropping duplicates, we have')\n",
        "print('\\nNumber of unique values in asin for meta dataset: {:,}'.format(meta['asin'].nunique()))\n",
        "print('Total number of rows in meta dataset: {:,}'.format(len(meta)))"
      ],
      "execution_count": null,
      "outputs": [
        {
          "output_type": "stream",
          "name": "stdout",
          "text": [
            "\n",
            "\n",
            "After dropping duplicates, we have\n",
            "\n",
            "Number of unique values in asin for meta dataset: 71,911\n",
            "Total number of rows in meta dataset: 71,911\n"
          ]
        }
      ]
    },
    {
      "cell_type": "markdown",
      "metadata": {
        "id": "61MnwNOneRR0"
      },
      "source": [
        "Now, we will note the number of occurences where a a specific reviewer has reviewed the same video game multiple times..."
      ]
    },
    {
      "cell_type": "code",
      "metadata": {
        "colab": {
          "base_uri": "https://localhost:8080/",
          "height": 37
        },
        "id": "6HwCec2QeQIn",
        "outputId": "e095b4fa-9ea8-48c3-a057-7d37d5458dd4"
      },
      "source": [
        "t = review[['reviewerID', 'asin']]\n",
        "f\"Number of duplicated reviews: {len(t[t.duplicated()]):,}\""
      ],
      "execution_count": null,
      "outputs": [
        {
          "output_type": "execute_result",
          "data": {
            "application/vnd.google.colaboratory.intrinsic+json": {
              "type": "string"
            },
            "text/plain": [
              "'Number of duplicated reviews: 75,954'"
            ]
          },
          "metadata": {},
          "execution_count": 13
        }
      ]
    },
    {
      "cell_type": "markdown",
      "metadata": {
        "id": "pybH3uxifCDc"
      },
      "source": [
        "To handle these duplicates, we will first sort the reviews dataset by reviewTime and then, we'll only keep the lastest (last) review among the duplicates."
      ]
    },
    {
      "cell_type": "code",
      "metadata": {
        "colab": {
          "base_uri": "https://localhost:8080/",
          "height": 513
        },
        "id": "HesK8agqfAMd",
        "outputId": "e3772ff7-25ce-47dc-8e3e-6418b4b6e733"
      },
      "source": [
        "review = review.sort_values(by=['reviewTime'])\n",
        "review = review.loc[review.astype(str).drop_duplicates(subset=['reviewerID', 'asin'], keep='last').index].astype(str).reset_index()\n",
        "review.head()"
      ],
      "execution_count": null,
      "outputs": [
        {
          "output_type": "execute_result",
          "data": {
            "text/html": [
              "<div>\n",
              "<style scoped>\n",
              "    .dataframe tbody tr th:only-of-type {\n",
              "        vertical-align: middle;\n",
              "    }\n",
              "\n",
              "    .dataframe tbody tr th {\n",
              "        vertical-align: top;\n",
              "    }\n",
              "\n",
              "    .dataframe thead th {\n",
              "        text-align: right;\n",
              "    }\n",
              "</style>\n",
              "<table border=\"1\" class=\"dataframe\">\n",
              "  <thead>\n",
              "    <tr style=\"text-align: right;\">\n",
              "      <th></th>\n",
              "      <th>index</th>\n",
              "      <th>overall</th>\n",
              "      <th>verified</th>\n",
              "      <th>reviewTime</th>\n",
              "      <th>reviewerID</th>\n",
              "      <th>asin</th>\n",
              "      <th>reviewerName</th>\n",
              "      <th>reviewText</th>\n",
              "      <th>summary</th>\n",
              "      <th>unixReviewTime</th>\n",
              "      <th>vote</th>\n",
              "      <th>style</th>\n",
              "      <th>image</th>\n",
              "    </tr>\n",
              "  </thead>\n",
              "  <tbody>\n",
              "    <tr>\n",
              "      <th>0</th>\n",
              "      <td>22370</td>\n",
              "      <td>5.0</td>\n",
              "      <td>False</td>\n",
              "      <td>01 1, 2000</td>\n",
              "      <td>AYT4C9HQ5EEJ3</td>\n",
              "      <td>B00002CF9G</td>\n",
              "      <td>William G. Leaming</td>\n",
              "      <td>I've played Caesar for sometime so was a litle...</td>\n",
              "      <td>Highly Addictive! A Must Have</td>\n",
              "      <td>946684800</td>\n",
              "      <td>7</td>\n",
              "      <td>nan</td>\n",
              "      <td>nan</td>\n",
              "    </tr>\n",
              "    <tr>\n",
              "      <th>1</th>\n",
              "      <td>25386</td>\n",
              "      <td>5.0</td>\n",
              "      <td>False</td>\n",
              "      <td>01 1, 2000</td>\n",
              "      <td>A2UNE0FPB7UPJ</td>\n",
              "      <td>B00002NDRR</td>\n",
              "      <td>Andrew</td>\n",
              "      <td>I just recieved my copy of FS2000 an I was ama...</td>\n",
              "      <td>AMAZING!</td>\n",
              "      <td>946684800</td>\n",
              "      <td>5</td>\n",
              "      <td>nan</td>\n",
              "      <td>nan</td>\n",
              "    </tr>\n",
              "    <tr>\n",
              "      <th>2</th>\n",
              "      <td>16332</td>\n",
              "      <td>5.0</td>\n",
              "      <td>False</td>\n",
              "      <td>01 1, 2000</td>\n",
              "      <td>A26IQJUNT6OR80</td>\n",
              "      <td>B00001LDCK</td>\n",
              "      <td>Jamie S. Anderson</td>\n",
              "      <td>The graphics in this game are absolutely incre...</td>\n",
              "      <td>Intense!</td>\n",
              "      <td>946684800</td>\n",
              "      <td>8</td>\n",
              "      <td>{'Edition:': ' Standard'}</td>\n",
              "      <td>nan</td>\n",
              "    </tr>\n",
              "    <tr>\n",
              "      <th>3</th>\n",
              "      <td>23601</td>\n",
              "      <td>5.0</td>\n",
              "      <td>False</td>\n",
              "      <td>01 1, 2000</td>\n",
              "      <td>A261TLAGXR52NH</td>\n",
              "      <td>B00002CF8U</td>\n",
              "      <td>THOR (Global Gamer Reviewer/Previewer)</td>\n",
              "      <td>GTA2 is set in a futuristic city where you try...</td>\n",
              "      <td>Just read it!</td>\n",
              "      <td>946684800</td>\n",
              "      <td>2</td>\n",
              "      <td>{'Format:': ' Video Game'}</td>\n",
              "      <td>nan</td>\n",
              "    </tr>\n",
              "    <tr>\n",
              "      <th>4</th>\n",
              "      <td>16466</td>\n",
              "      <td>5.0</td>\n",
              "      <td>False</td>\n",
              "      <td>01 1, 2000</td>\n",
              "      <td>AMENNPIINM03J</td>\n",
              "      <td>B00000K4MC</td>\n",
              "      <td>John</td>\n",
              "      <td>It's so realalistic! It's practice to be respo...</td>\n",
              "      <td>This game is amazing!</td>\n",
              "      <td>946684800</td>\n",
              "      <td>7</td>\n",
              "      <td>{'Platform:': ' PC'}</td>\n",
              "      <td>nan</td>\n",
              "    </tr>\n",
              "  </tbody>\n",
              "</table>\n",
              "</div>"
            ],
            "text/plain": [
              "   index overall verified  ... vote                       style image\n",
              "0  22370     5.0    False  ...    7                         nan   nan\n",
              "1  25386     5.0    False  ...    5                         nan   nan\n",
              "2  16332     5.0    False  ...    8   {'Edition:': ' Standard'}   nan\n",
              "3  23601     5.0    False  ...    2  {'Format:': ' Video Game'}   nan\n",
              "4  16466     5.0    False  ...    7        {'Platform:': ' PC'}   nan\n",
              "\n",
              "[5 rows x 13 columns]"
            ]
          },
          "metadata": {},
          "execution_count": 14
        }
      ]
    },
    {
      "cell_type": "code",
      "metadata": {
        "colab": {
          "base_uri": "https://localhost:8080/",
          "height": 37
        },
        "id": "bGyU_21bgJT2",
        "outputId": "4487cac7-6983-4632-d8ca-27886b830628"
      },
      "source": [
        "f\"After dropping duplicates, number of reviews reduced from 2,565,349 to {len(review):,}, a reduction of {2565349-len(review):,} reviews\"\n"
      ],
      "execution_count": null,
      "outputs": [
        {
          "output_type": "execute_result",
          "data": {
            "application/vnd.google.colaboratory.intrinsic+json": {
              "type": "string"
            },
            "text/plain": [
              "'After dropping duplicates, number of reviews reduced from 2,565,349 to 2,489,395, a reduction of 75,954 reviews'"
            ]
          },
          "metadata": {},
          "execution_count": 15
        }
      ]
    },
    {
      "cell_type": "markdown",
      "metadata": {
        "id": "xJuQkH3j0zFX"
      },
      "source": [
        "Now, we can see that review and meta datasets are related to each other by 'asin', which is the product ID. "
      ]
    },
    {
      "cell_type": "code",
      "metadata": {
        "colab": {
          "base_uri": "https://localhost:8080/",
          "height": 37
        },
        "id": "cPsmTksh9S6w",
        "outputId": "a4716800-dc12-4d5a-eed7-7d9874cee8ad"
      },
      "source": [
        "f\"Number of rows in review dataset with missing values in asin: {review['asin'].isna().sum()}\""
      ],
      "execution_count": null,
      "outputs": [
        {
          "output_type": "execute_result",
          "data": {
            "application/vnd.google.colaboratory.intrinsic+json": {
              "type": "string"
            },
            "text/plain": [
              "'Number of rows in review dataset with missing values in asin: 0'"
            ]
          },
          "metadata": {},
          "execution_count": 16
        }
      ]
    },
    {
      "cell_type": "code",
      "metadata": {
        "colab": {
          "base_uri": "https://localhost:8080/",
          "height": 37
        },
        "id": "-Wn5JqPe9Uta",
        "outputId": "23049078-4453-4541-f118-1ff88c7f9ec7"
      },
      "source": [
        "f\"Number of rows in meta dataset with missing values in asin: {meta['asin'].isna().sum()}\""
      ],
      "execution_count": null,
      "outputs": [
        {
          "output_type": "execute_result",
          "data": {
            "application/vnd.google.colaboratory.intrinsic+json": {
              "type": "string"
            },
            "text/plain": [
              "'Number of rows in meta dataset with missing values in asin: 0'"
            ]
          },
          "metadata": {},
          "execution_count": 17
        }
      ]
    },
    {
      "cell_type": "markdown",
      "metadata": {
        "id": "LebaibNcoERw"
      },
      "source": [
        "## 5.2 Left Join"
      ]
    },
    {
      "cell_type": "markdown",
      "metadata": {
        "id": "2CHS-ep70-_v"
      },
      "source": [
        "To make sense of the data we have at hand, and to be able to draw meaningful insights that would help us later in model-building, we will first merge review dataset with meta dataset using a **LEFT JOIN** on 'asin', which is the product ID. This will result in a dataset consisting of all records from the review dataset and matching records from the meta dataset.\n",
        "\n",
        "**Note:** Doing so will get rid of those product IDs (and their corresponding data from meta dataset) that are present in the meta dataset but are absent from the review dataset. These product IDs are those which have no reviews listed in the review dataset, and hence, getting rid of these is quite reasonable."
      ]
    },
    {
      "cell_type": "code",
      "metadata": {
        "colab": {
          "base_uri": "https://localhost:8080/",
          "height": 649
        },
        "id": "bYwyjsEDxBNk",
        "outputId": "467aeaf8-283d-47e4-919f-350c47fe665f"
      },
      "source": [
        "df = review.merge(meta, on='asin', how='left')\n",
        "df.head()"
      ],
      "execution_count": null,
      "outputs": [
        {
          "output_type": "execute_result",
          "data": {
            "text/html": [
              "<div>\n",
              "<style scoped>\n",
              "    .dataframe tbody tr th:only-of-type {\n",
              "        vertical-align: middle;\n",
              "    }\n",
              "\n",
              "    .dataframe tbody tr th {\n",
              "        vertical-align: top;\n",
              "    }\n",
              "\n",
              "    .dataframe thead th {\n",
              "        text-align: right;\n",
              "    }\n",
              "</style>\n",
              "<table border=\"1\" class=\"dataframe\">\n",
              "  <thead>\n",
              "    <tr style=\"text-align: right;\">\n",
              "      <th></th>\n",
              "      <th>index</th>\n",
              "      <th>overall</th>\n",
              "      <th>verified</th>\n",
              "      <th>reviewTime</th>\n",
              "      <th>reviewerID</th>\n",
              "      <th>asin</th>\n",
              "      <th>reviewerName</th>\n",
              "      <th>reviewText</th>\n",
              "      <th>summary</th>\n",
              "      <th>unixReviewTime</th>\n",
              "      <th>vote</th>\n",
              "      <th>style</th>\n",
              "      <th>image</th>\n",
              "      <th>category</th>\n",
              "      <th>tech1</th>\n",
              "      <th>description</th>\n",
              "      <th>title</th>\n",
              "      <th>also_buy</th>\n",
              "      <th>tech2</th>\n",
              "      <th>brand</th>\n",
              "      <th>feature</th>\n",
              "      <th>rank</th>\n",
              "      <th>also_view</th>\n",
              "      <th>main_cat</th>\n",
              "      <th>similar_item</th>\n",
              "      <th>price</th>\n",
              "      <th>imageURL</th>\n",
              "      <th>imageURLHighRes</th>\n",
              "      <th>details</th>\n",
              "    </tr>\n",
              "  </thead>\n",
              "  <tbody>\n",
              "    <tr>\n",
              "      <th>0</th>\n",
              "      <td>22370</td>\n",
              "      <td>5.0</td>\n",
              "      <td>False</td>\n",
              "      <td>01 1, 2000</td>\n",
              "      <td>AYT4C9HQ5EEJ3</td>\n",
              "      <td>B00002CF9G</td>\n",
              "      <td>William G. Leaming</td>\n",
              "      <td>I've played Caesar for sometime so was a litle...</td>\n",
              "      <td>Highly Addictive! A Must Have</td>\n",
              "      <td>946684800</td>\n",
              "      <td>7</td>\n",
              "      <td>nan</td>\n",
              "      <td>nan</td>\n",
              "      <td>['Video Games', 'PC', 'Games', '&lt;/span&gt;&lt;/span&gt;...</td>\n",
              "      <td></td>\n",
              "      <td>['Pharaoh is a strategic city-building game se...</td>\n",
              "      <td>Pharaoh - PC</td>\n",
              "      <td>['B00004TFLJ', 'B00004TJ2N']</td>\n",
              "      <td></td>\n",
              "      <td>by\\n    \\n    Vivendi Universal</td>\n",
              "      <td>[]</td>\n",
              "      <td>['&gt;#41,983 in Video Games (See Top 100 in Vide...</td>\n",
              "      <td>['B00006FXDV', 'B000C05XRI', 'B00004TFLJ', 'B0...</td>\n",
              "      <td>Video Games</td>\n",
              "      <td></td>\n",
              "      <td></td>\n",
              "      <td>['https://images-na.ssl-images-amazon.com/imag...</td>\n",
              "      <td>['https://images-na.ssl-images-amazon.com/imag...</td>\n",
              "      <td>{}</td>\n",
              "    </tr>\n",
              "    <tr>\n",
              "      <th>1</th>\n",
              "      <td>25386</td>\n",
              "      <td>5.0</td>\n",
              "      <td>False</td>\n",
              "      <td>01 1, 2000</td>\n",
              "      <td>A2UNE0FPB7UPJ</td>\n",
              "      <td>B00002NDRR</td>\n",
              "      <td>Andrew</td>\n",
              "      <td>I just recieved my copy of FS2000 an I was ama...</td>\n",
              "      <td>AMAZING!</td>\n",
              "      <td>946684800</td>\n",
              "      <td>5</td>\n",
              "      <td>nan</td>\n",
              "      <td>nan</td>\n",
              "      <td>['Video Games', 'PC', 'Games', '&lt;/span&gt;&lt;/span&gt;...</td>\n",
              "      <td></td>\n",
              "      <td>['Microsoft continues its 17-year tradition of...</td>\n",
              "      <td>Microsoft Flight Simulator 2000 Professional - PC</td>\n",
              "      <td>[]</td>\n",
              "      <td></td>\n",
              "      <td>by\\n    \\n    Microsoft</td>\n",
              "      <td>[]</td>\n",
              "      <td>['&gt;#42,893 in Video Games (See Top 100 in Vide...</td>\n",
              "      <td>['B000096L71', 'B00002NDRL', 'B001DPZE84', 'B0...</td>\n",
              "      <td>Video Games</td>\n",
              "      <td></td>\n",
              "      <td>\\n\\t\\t                                        ...</td>\n",
              "      <td>['https://images-na.ssl-images-amazon.com/imag...</td>\n",
              "      <td>['https://images-na.ssl-images-amazon.com/imag...</td>\n",
              "      <td>{}</td>\n",
              "    </tr>\n",
              "    <tr>\n",
              "      <th>2</th>\n",
              "      <td>16332</td>\n",
              "      <td>5.0</td>\n",
              "      <td>False</td>\n",
              "      <td>01 1, 2000</td>\n",
              "      <td>A26IQJUNT6OR80</td>\n",
              "      <td>B00001LDCK</td>\n",
              "      <td>Jamie S. Anderson</td>\n",
              "      <td>The graphics in this game are absolutely incre...</td>\n",
              "      <td>Intense!</td>\n",
              "      <td>946684800</td>\n",
              "      <td>8</td>\n",
              "      <td>{'Edition:': ' Standard'}</td>\n",
              "      <td>nan</td>\n",
              "      <td>['Video Games', 'PC', 'Games', '&lt;/span&gt;&lt;/span&gt;...</td>\n",
              "      <td></td>\n",
              "      <td>['&lt;i&gt;Homeworld&lt;/i&gt; is the next evolution of re...</td>\n",
              "      <td>Homeworld - PC</td>\n",
              "      <td>['B00004T77G']</td>\n",
              "      <td></td>\n",
              "      <td>by\\n    \\n    Vivendi Universal</td>\n",
              "      <td>[]</td>\n",
              "      <td>['&gt;#39,346 in Video Games (See Top 100 in Vide...</td>\n",
              "      <td>['B00K6ZUOQE', 'B000063EKR', 'B000QIBWDA', 'B0...</td>\n",
              "      <td>Video Games</td>\n",
              "      <td></td>\n",
              "      <td>\\n\\t\\t                                        ...</td>\n",
              "      <td>['https://images-na.ssl-images-amazon.com/imag...</td>\n",
              "      <td>['https://images-na.ssl-images-amazon.com/imag...</td>\n",
              "      <td>{}</td>\n",
              "    </tr>\n",
              "    <tr>\n",
              "      <th>3</th>\n",
              "      <td>23601</td>\n",
              "      <td>5.0</td>\n",
              "      <td>False</td>\n",
              "      <td>01 1, 2000</td>\n",
              "      <td>A261TLAGXR52NH</td>\n",
              "      <td>B00002CF8U</td>\n",
              "      <td>THOR (Global Gamer Reviewer/Previewer)</td>\n",
              "      <td>GTA2 is set in a futuristic city where you try...</td>\n",
              "      <td>Just read it!</td>\n",
              "      <td>946684800</td>\n",
              "      <td>2</td>\n",
              "      <td>{'Format:': ' Video Game'}</td>\n",
              "      <td>nan</td>\n",
              "      <td>['Video Games', 'PC', 'Games', '&lt;/span&gt;&lt;/span&gt;...</td>\n",
              "      <td></td>\n",
              "      <td>[\"The sequel to the ever-popular car jacking g...</td>\n",
              "      <td>Grand Theft Auto 2 - PC</td>\n",
              "      <td>[]</td>\n",
              "      <td></td>\n",
              "      <td>by\\n    \\n    Rockstar Games</td>\n",
              "      <td>[]</td>\n",
              "      <td>['&gt;#49,434 in Video Games (See Top 100 in Vide...</td>\n",
              "      <td>['B00001ZUL7']</td>\n",
              "      <td>Video Games</td>\n",
              "      <td></td>\n",
              "      <td>\\n\\t\\t                                        ...</td>\n",
              "      <td>[]</td>\n",
              "      <td>[]</td>\n",
              "      <td>{}</td>\n",
              "    </tr>\n",
              "    <tr>\n",
              "      <th>4</th>\n",
              "      <td>16466</td>\n",
              "      <td>5.0</td>\n",
              "      <td>False</td>\n",
              "      <td>01 1, 2000</td>\n",
              "      <td>AMENNPIINM03J</td>\n",
              "      <td>B00000K4MC</td>\n",
              "      <td>John</td>\n",
              "      <td>It's so realalistic! It's practice to be respo...</td>\n",
              "      <td>This game is amazing!</td>\n",
              "      <td>946684800</td>\n",
              "      <td>7</td>\n",
              "      <td>{'Platform:': ' PC'}</td>\n",
              "      <td>nan</td>\n",
              "      <td>['Video Games', 'PC', 'Games', '&lt;/span&gt;&lt;/span&gt;...</td>\n",
              "      <td></td>\n",
              "      <td>['Experience the challenges and pulse-pounding...</td>\n",
              "      <td>Roller Coaster Tycoon - PC</td>\n",
              "      <td>['B0000695GX', 'B00008K2Y6', 'B01M5BXF54', 'B0...</td>\n",
              "      <td></td>\n",
              "      <td>by\\n    \\n    Atari</td>\n",
              "      <td>['The rest is up to you', 'Construct, demolish...</td>\n",
              "      <td>['&gt;#13,429 in Video Games (See Top 100 in Vide...</td>\n",
              "      <td>['B00006471Z', 'B0000695GX', 'B01M5BXF54', 'B0...</td>\n",
              "      <td>Video Games</td>\n",
              "      <td></td>\n",
              "      <td>\\n\\t\\t\\t\\t\\t\\t\\t\\t\\t\\t\\t\\t&lt;span class=\"vertica...</td>\n",
              "      <td>['https://images-na.ssl-images-amazon.com/imag...</td>\n",
              "      <td>['https://images-na.ssl-images-amazon.com/imag...</td>\n",
              "      <td>{}</td>\n",
              "    </tr>\n",
              "  </tbody>\n",
              "</table>\n",
              "</div>"
            ],
            "text/plain": [
              "   index overall  ...                                    imageURLHighRes details\n",
              "0  22370     5.0  ...  ['https://images-na.ssl-images-amazon.com/imag...      {}\n",
              "1  25386     5.0  ...  ['https://images-na.ssl-images-amazon.com/imag...      {}\n",
              "2  16332     5.0  ...  ['https://images-na.ssl-images-amazon.com/imag...      {}\n",
              "3  23601     5.0  ...                                                 []      {}\n",
              "4  16466     5.0  ...  ['https://images-na.ssl-images-amazon.com/imag...      {}\n",
              "\n",
              "[5 rows x 29 columns]"
            ]
          },
          "metadata": {},
          "execution_count": 18
        }
      ]
    },
    {
      "cell_type": "markdown",
      "metadata": {
        "id": "hRN46dhDh7QJ"
      },
      "source": [
        "As a sanity check, we can see that our merged dataset has no duplicate rows"
      ]
    },
    {
      "cell_type": "code",
      "metadata": {
        "colab": {
          "base_uri": "https://localhost:8080/",
          "height": 37
        },
        "id": "650X0nhOg-Ts",
        "outputId": "7511424d-fa49-4d06-a576-06f0f6072fed"
      },
      "source": [
        "f\"Number of duplicate rows in merged data frame: {len(df[df.duplicated()])}\""
      ],
      "execution_count": null,
      "outputs": [
        {
          "output_type": "execute_result",
          "data": {
            "application/vnd.google.colaboratory.intrinsic+json": {
              "type": "string"
            },
            "text/plain": [
              "'Number of duplicate rows in merged data frame: 0'"
            ]
          },
          "metadata": {},
          "execution_count": 19
        }
      ]
    },
    {
      "cell_type": "markdown",
      "metadata": {
        "id": "O7hEqZVE234x"
      },
      "source": [
        "Furthermore,"
      ]
    },
    {
      "cell_type": "code",
      "metadata": {
        "id": "jKBVid0R23KT",
        "colab": {
          "base_uri": "https://localhost:8080/"
        },
        "outputId": "b1dac715-8585-4215-e5c6-170a10828c65"
      },
      "source": [
        "print('Number of rows in review dataset equals number of rows in merged dataframe? {}'.format(len(df) == len(review)))"
      ],
      "execution_count": null,
      "outputs": [
        {
          "output_type": "stream",
          "name": "stdout",
          "text": [
            "Number of rows in review dataset equals number of rows in merged dataframe? True\n"
          ]
        }
      ]
    },
    {
      "cell_type": "markdown",
      "metadata": {
        "id": "rYpvpkGUoNx1"
      },
      "source": [
        "## 5.3 Handling Inconsistency"
      ]
    },
    {
      "cell_type": "markdown",
      "metadata": {
        "id": "RFUD_vZbiSJO"
      },
      "source": [
        "However, our merged data frame does contain some rows with missing value in 'title'. This has to be handled since there are no missing values for 'title' in meta dataset.\n"
      ]
    },
    {
      "cell_type": "code",
      "metadata": {
        "colab": {
          "base_uri": "https://localhost:8080/",
          "height": 37
        },
        "id": "-TaUR2Jz9qwb",
        "outputId": "da696aed-1455-48ed-fce0-56f7d3962348"
      },
      "source": [
        "f\"Number of rows in meta dataset with missing values in title: {meta['title'].isna().sum()}\""
      ],
      "execution_count": null,
      "outputs": [
        {
          "output_type": "execute_result",
          "data": {
            "application/vnd.google.colaboratory.intrinsic+json": {
              "type": "string"
            },
            "text/plain": [
              "'Number of rows in meta dataset with missing values in title: 0'"
            ]
          },
          "metadata": {},
          "execution_count": 21
        }
      ]
    },
    {
      "cell_type": "code",
      "metadata": {
        "id": "2Ij8CAZH9eCv",
        "colab": {
          "base_uri": "https://localhost:8080/",
          "height": 37
        },
        "outputId": "62987357-870a-46b7-d08f-661686c4b964"
      },
      "source": [
        "f\"Number of rows in merged dataframe with missing values in title: {df['title'].isna().sum()}\""
      ],
      "execution_count": null,
      "outputs": [
        {
          "output_type": "execute_result",
          "data": {
            "application/vnd.google.colaboratory.intrinsic+json": {
              "type": "string"
            },
            "text/plain": [
              "'Number of rows in merged dataframe with missing values in title: 2224'"
            ]
          },
          "metadata": {},
          "execution_count": 22
        }
      ]
    },
    {
      "cell_type": "markdown",
      "metadata": {
        "id": "67UUwXP0-CE3"
      },
      "source": [
        "These rows can be interpreted as follows:\n",
        "\n",
        ">There are some product IDs in review dataset which are not present in meta dataset. There rows in the merged data frame arise precisely because of the presence of such product IDs in review dataset.\n",
        "\n",
        "Since our meta dataset does not contain any information for these products (not even their title), it would be reasonable to drop these entries."
      ]
    },
    {
      "cell_type": "code",
      "metadata": {
        "colab": {
          "base_uri": "https://localhost:8080/",
          "height": 649
        },
        "id": "mhirdyip-Byd",
        "outputId": "887bd38a-53fc-4872-f7bc-2c16cd545a8c"
      },
      "source": [
        "df = df.dropna(subset=['title'], how='any', axis=0)\n",
        "df.head()"
      ],
      "execution_count": null,
      "outputs": [
        {
          "output_type": "execute_result",
          "data": {
            "text/html": [
              "<div>\n",
              "<style scoped>\n",
              "    .dataframe tbody tr th:only-of-type {\n",
              "        vertical-align: middle;\n",
              "    }\n",
              "\n",
              "    .dataframe tbody tr th {\n",
              "        vertical-align: top;\n",
              "    }\n",
              "\n",
              "    .dataframe thead th {\n",
              "        text-align: right;\n",
              "    }\n",
              "</style>\n",
              "<table border=\"1\" class=\"dataframe\">\n",
              "  <thead>\n",
              "    <tr style=\"text-align: right;\">\n",
              "      <th></th>\n",
              "      <th>index</th>\n",
              "      <th>overall</th>\n",
              "      <th>verified</th>\n",
              "      <th>reviewTime</th>\n",
              "      <th>reviewerID</th>\n",
              "      <th>asin</th>\n",
              "      <th>reviewerName</th>\n",
              "      <th>reviewText</th>\n",
              "      <th>summary</th>\n",
              "      <th>unixReviewTime</th>\n",
              "      <th>vote</th>\n",
              "      <th>style</th>\n",
              "      <th>image</th>\n",
              "      <th>category</th>\n",
              "      <th>tech1</th>\n",
              "      <th>description</th>\n",
              "      <th>title</th>\n",
              "      <th>also_buy</th>\n",
              "      <th>tech2</th>\n",
              "      <th>brand</th>\n",
              "      <th>feature</th>\n",
              "      <th>rank</th>\n",
              "      <th>also_view</th>\n",
              "      <th>main_cat</th>\n",
              "      <th>similar_item</th>\n",
              "      <th>price</th>\n",
              "      <th>imageURL</th>\n",
              "      <th>imageURLHighRes</th>\n",
              "      <th>details</th>\n",
              "    </tr>\n",
              "  </thead>\n",
              "  <tbody>\n",
              "    <tr>\n",
              "      <th>0</th>\n",
              "      <td>22370</td>\n",
              "      <td>5.0</td>\n",
              "      <td>False</td>\n",
              "      <td>01 1, 2000</td>\n",
              "      <td>AYT4C9HQ5EEJ3</td>\n",
              "      <td>B00002CF9G</td>\n",
              "      <td>William G. Leaming</td>\n",
              "      <td>I've played Caesar for sometime so was a litle...</td>\n",
              "      <td>Highly Addictive! A Must Have</td>\n",
              "      <td>946684800</td>\n",
              "      <td>7</td>\n",
              "      <td>nan</td>\n",
              "      <td>nan</td>\n",
              "      <td>['Video Games', 'PC', 'Games', '&lt;/span&gt;&lt;/span&gt;...</td>\n",
              "      <td></td>\n",
              "      <td>['Pharaoh is a strategic city-building game se...</td>\n",
              "      <td>Pharaoh - PC</td>\n",
              "      <td>['B00004TFLJ', 'B00004TJ2N']</td>\n",
              "      <td></td>\n",
              "      <td>by\\n    \\n    Vivendi Universal</td>\n",
              "      <td>[]</td>\n",
              "      <td>['&gt;#41,983 in Video Games (See Top 100 in Vide...</td>\n",
              "      <td>['B00006FXDV', 'B000C05XRI', 'B00004TFLJ', 'B0...</td>\n",
              "      <td>Video Games</td>\n",
              "      <td></td>\n",
              "      <td></td>\n",
              "      <td>['https://images-na.ssl-images-amazon.com/imag...</td>\n",
              "      <td>['https://images-na.ssl-images-amazon.com/imag...</td>\n",
              "      <td>{}</td>\n",
              "    </tr>\n",
              "    <tr>\n",
              "      <th>1</th>\n",
              "      <td>25386</td>\n",
              "      <td>5.0</td>\n",
              "      <td>False</td>\n",
              "      <td>01 1, 2000</td>\n",
              "      <td>A2UNE0FPB7UPJ</td>\n",
              "      <td>B00002NDRR</td>\n",
              "      <td>Andrew</td>\n",
              "      <td>I just recieved my copy of FS2000 an I was ama...</td>\n",
              "      <td>AMAZING!</td>\n",
              "      <td>946684800</td>\n",
              "      <td>5</td>\n",
              "      <td>nan</td>\n",
              "      <td>nan</td>\n",
              "      <td>['Video Games', 'PC', 'Games', '&lt;/span&gt;&lt;/span&gt;...</td>\n",
              "      <td></td>\n",
              "      <td>['Microsoft continues its 17-year tradition of...</td>\n",
              "      <td>Microsoft Flight Simulator 2000 Professional - PC</td>\n",
              "      <td>[]</td>\n",
              "      <td></td>\n",
              "      <td>by\\n    \\n    Microsoft</td>\n",
              "      <td>[]</td>\n",
              "      <td>['&gt;#42,893 in Video Games (See Top 100 in Vide...</td>\n",
              "      <td>['B000096L71', 'B00002NDRL', 'B001DPZE84', 'B0...</td>\n",
              "      <td>Video Games</td>\n",
              "      <td></td>\n",
              "      <td>\\n\\t\\t                                        ...</td>\n",
              "      <td>['https://images-na.ssl-images-amazon.com/imag...</td>\n",
              "      <td>['https://images-na.ssl-images-amazon.com/imag...</td>\n",
              "      <td>{}</td>\n",
              "    </tr>\n",
              "    <tr>\n",
              "      <th>2</th>\n",
              "      <td>16332</td>\n",
              "      <td>5.0</td>\n",
              "      <td>False</td>\n",
              "      <td>01 1, 2000</td>\n",
              "      <td>A26IQJUNT6OR80</td>\n",
              "      <td>B00001LDCK</td>\n",
              "      <td>Jamie S. Anderson</td>\n",
              "      <td>The graphics in this game are absolutely incre...</td>\n",
              "      <td>Intense!</td>\n",
              "      <td>946684800</td>\n",
              "      <td>8</td>\n",
              "      <td>{'Edition:': ' Standard'}</td>\n",
              "      <td>nan</td>\n",
              "      <td>['Video Games', 'PC', 'Games', '&lt;/span&gt;&lt;/span&gt;...</td>\n",
              "      <td></td>\n",
              "      <td>['&lt;i&gt;Homeworld&lt;/i&gt; is the next evolution of re...</td>\n",
              "      <td>Homeworld - PC</td>\n",
              "      <td>['B00004T77G']</td>\n",
              "      <td></td>\n",
              "      <td>by\\n    \\n    Vivendi Universal</td>\n",
              "      <td>[]</td>\n",
              "      <td>['&gt;#39,346 in Video Games (See Top 100 in Vide...</td>\n",
              "      <td>['B00K6ZUOQE', 'B000063EKR', 'B000QIBWDA', 'B0...</td>\n",
              "      <td>Video Games</td>\n",
              "      <td></td>\n",
              "      <td>\\n\\t\\t                                        ...</td>\n",
              "      <td>['https://images-na.ssl-images-amazon.com/imag...</td>\n",
              "      <td>['https://images-na.ssl-images-amazon.com/imag...</td>\n",
              "      <td>{}</td>\n",
              "    </tr>\n",
              "    <tr>\n",
              "      <th>3</th>\n",
              "      <td>23601</td>\n",
              "      <td>5.0</td>\n",
              "      <td>False</td>\n",
              "      <td>01 1, 2000</td>\n",
              "      <td>A261TLAGXR52NH</td>\n",
              "      <td>B00002CF8U</td>\n",
              "      <td>THOR (Global Gamer Reviewer/Previewer)</td>\n",
              "      <td>GTA2 is set in a futuristic city where you try...</td>\n",
              "      <td>Just read it!</td>\n",
              "      <td>946684800</td>\n",
              "      <td>2</td>\n",
              "      <td>{'Format:': ' Video Game'}</td>\n",
              "      <td>nan</td>\n",
              "      <td>['Video Games', 'PC', 'Games', '&lt;/span&gt;&lt;/span&gt;...</td>\n",
              "      <td></td>\n",
              "      <td>[\"The sequel to the ever-popular car jacking g...</td>\n",
              "      <td>Grand Theft Auto 2 - PC</td>\n",
              "      <td>[]</td>\n",
              "      <td></td>\n",
              "      <td>by\\n    \\n    Rockstar Games</td>\n",
              "      <td>[]</td>\n",
              "      <td>['&gt;#49,434 in Video Games (See Top 100 in Vide...</td>\n",
              "      <td>['B00001ZUL7']</td>\n",
              "      <td>Video Games</td>\n",
              "      <td></td>\n",
              "      <td>\\n\\t\\t                                        ...</td>\n",
              "      <td>[]</td>\n",
              "      <td>[]</td>\n",
              "      <td>{}</td>\n",
              "    </tr>\n",
              "    <tr>\n",
              "      <th>4</th>\n",
              "      <td>16466</td>\n",
              "      <td>5.0</td>\n",
              "      <td>False</td>\n",
              "      <td>01 1, 2000</td>\n",
              "      <td>AMENNPIINM03J</td>\n",
              "      <td>B00000K4MC</td>\n",
              "      <td>John</td>\n",
              "      <td>It's so realalistic! It's practice to be respo...</td>\n",
              "      <td>This game is amazing!</td>\n",
              "      <td>946684800</td>\n",
              "      <td>7</td>\n",
              "      <td>{'Platform:': ' PC'}</td>\n",
              "      <td>nan</td>\n",
              "      <td>['Video Games', 'PC', 'Games', '&lt;/span&gt;&lt;/span&gt;...</td>\n",
              "      <td></td>\n",
              "      <td>['Experience the challenges and pulse-pounding...</td>\n",
              "      <td>Roller Coaster Tycoon - PC</td>\n",
              "      <td>['B0000695GX', 'B00008K2Y6', 'B01M5BXF54', 'B0...</td>\n",
              "      <td></td>\n",
              "      <td>by\\n    \\n    Atari</td>\n",
              "      <td>['The rest is up to you', 'Construct, demolish...</td>\n",
              "      <td>['&gt;#13,429 in Video Games (See Top 100 in Vide...</td>\n",
              "      <td>['B00006471Z', 'B0000695GX', 'B01M5BXF54', 'B0...</td>\n",
              "      <td>Video Games</td>\n",
              "      <td></td>\n",
              "      <td>\\n\\t\\t\\t\\t\\t\\t\\t\\t\\t\\t\\t\\t&lt;span class=\"vertica...</td>\n",
              "      <td>['https://images-na.ssl-images-amazon.com/imag...</td>\n",
              "      <td>['https://images-na.ssl-images-amazon.com/imag...</td>\n",
              "      <td>{}</td>\n",
              "    </tr>\n",
              "  </tbody>\n",
              "</table>\n",
              "</div>"
            ],
            "text/plain": [
              "   index overall  ...                                    imageURLHighRes details\n",
              "0  22370     5.0  ...  ['https://images-na.ssl-images-amazon.com/imag...      {}\n",
              "1  25386     5.0  ...  ['https://images-na.ssl-images-amazon.com/imag...      {}\n",
              "2  16332     5.0  ...  ['https://images-na.ssl-images-amazon.com/imag...      {}\n",
              "3  23601     5.0  ...                                                 []      {}\n",
              "4  16466     5.0  ...  ['https://images-na.ssl-images-amazon.com/imag...      {}\n",
              "\n",
              "[5 rows x 29 columns]"
            ]
          },
          "metadata": {},
          "execution_count": 23
        }
      ]
    },
    {
      "cell_type": "markdown",
      "metadata": {
        "id": "DH51UkSDi3p1"
      },
      "source": [
        "Now, after handling duplicates, our data frame is pretty clean."
      ]
    },
    {
      "cell_type": "code",
      "metadata": {
        "colab": {
          "base_uri": "https://localhost:8080/",
          "height": 37
        },
        "id": "z3e1wdwQi17D",
        "outputId": "edcc6e03-4be8-4f92-df8d-d6182d6d4e8a"
      },
      "source": [
        "f\"Number of reviews after handling duplicates: {len(df):,}, an overall reduction of {2565349-len(df):,}\""
      ],
      "execution_count": null,
      "outputs": [
        {
          "output_type": "execute_result",
          "data": {
            "application/vnd.google.colaboratory.intrinsic+json": {
              "type": "string"
            },
            "text/plain": [
              "'Number of reviews after handling duplicates: 2,487,171, an overall reduction of 78,178'"
            ]
          },
          "metadata": {},
          "execution_count": 24
        }
      ]
    },
    {
      "cell_type": "markdown",
      "metadata": {
        "id": "E_ClstWUnJR6"
      },
      "source": [
        "## 5.4 10-core Subset"
      ]
    },
    {
      "cell_type": "markdown",
      "metadata": {
        "id": "YZB76Rh1jVb4"
      },
      "source": [
        "However, our data frame still consists of video games that have very few reviews as well as reviewers who have reviewed only a very few games.\n"
      ]
    },
    {
      "cell_type": "code",
      "metadata": {
        "colab": {
          "base_uri": "https://localhost:8080/"
        },
        "id": "WacRO7L93I86",
        "outputId": "071c2f28-0e6b-4bc9-d9c4-9d9797c45759"
      },
      "source": [
        "df['reviewerID'].value_counts()"
      ],
      "execution_count": null,
      "outputs": [
        {
          "output_type": "execute_result",
          "data": {
            "text/plain": [
              "A3V6Z4RCDGRC44    835\n",
              "AJKWF4W7QD4NS     778\n",
              "A3W4D8XOGLWUN5    705\n",
              "A2TCG2HV1VJP6V    627\n",
              "A2QHS1ZCIQOL7E    466\n",
              "                 ... \n",
              "A1KD0XG1A7LWL1      1\n",
              "A2VTJMGN21OS3O      1\n",
              "A2DXIA72UUP1UK      1\n",
              "A14U4442HIO6HH      1\n",
              "A1NDVMP5L1464T      1\n",
              "Name: reviewerID, Length: 1539732, dtype: int64"
            ]
          },
          "metadata": {},
          "execution_count": 25
        }
      ]
    },
    {
      "cell_type": "code",
      "metadata": {
        "colab": {
          "base_uri": "https://localhost:8080/"
        },
        "id": "Vp_O4GWSCSDy",
        "outputId": "fc06c475-35ac-4e38-d9cb-852e01755a37"
      },
      "source": [
        "df['asin'].value_counts()"
      ],
      "execution_count": null,
      "outputs": [
        {
          "output_type": "execute_result",
          "data": {
            "text/plain": [
              "B00HTK1NCS    6462\n",
              "B004RMK57U    5069\n",
              "B00KKAQYXM    4359\n",
              "B00JJNQG98    3962\n",
              "B003ZSP0WW    3960\n",
              "              ... \n",
              "B016PG5LGK       1\n",
              "B000EFVGHC       1\n",
              "B00BKC9PZS       1\n",
              "B00U0A8QBK       1\n",
              "B005GT2AX0       1\n",
              "Name: asin, Length: 71909, dtype: int64"
            ]
          },
          "metadata": {},
          "execution_count": 26
        }
      ]
    },
    {
      "cell_type": "markdown",
      "metadata": {
        "id": "o2XX3ipd_Xba"
      },
      "source": [
        "In order to deal with sparsity which we might face later on and also to overcome computational limitation, we'd like to put a threshold on the minimum number of reviews for a video game that appears in our data frame as well as for the minimum number of reviews provided by a reviewer who is present in our data frame. \n",
        "\n",
        "To accomplish this, we take the subset of data frame which ensures that each video game has alteast 10 reviews and each reviewer has provided atleast 10 reviews. The resultant subset is called **10-core** dataset, as defined by the author of the Amazon Review Data repository. "
      ]
    },
    {
      "cell_type": "code",
      "metadata": {
        "colab": {
          "base_uri": "https://localhost:8080/"
        },
        "id": "v_VofC5ucTpV",
        "outputId": "05596a2e-a163-4fd1-eba0-7ccae8e45739"
      },
      "source": [
        "# build 10-core subset\n",
        "while(1):\n",
        "  if df['asin'].value_counts()[-1] < 10:\n",
        "    leastReviewedProducts = []\n",
        "    counts = df['asin'].value_counts()\n",
        "\n",
        "    for val in list(df['asin'].unique()):\n",
        "      if counts[val] < 10:\n",
        "        leastReviewedProducts.append(val)\n",
        "\n",
        "    df = df[~(df['asin'].isin(leastReviewedProducts))]\n",
        "    print('Removed products\\t\\t\\t Remaining Number of Reviews: {:,}'.format(len(df)))\n",
        "\n",
        "  elif df['reviewerID'].value_counts()[-1] < 10:\n",
        "    leastReviewsBy = []\n",
        "    counts = df['reviewerID'].value_counts()\n",
        "\n",
        "    for val in list(df['reviewerID'].unique()):\n",
        "      if counts[val] < 10:\n",
        "        leastReviewsBy.append(val)\n",
        "\n",
        "    df = df[~(df['reviewerID'].isin(leastReviewsBy))]\n",
        "    print('Removed reviewers\\t\\t\\t Remaining Number of Reviews: {:,}'.format(len(df)))\n",
        "\n",
        "  else:\n",
        "    print('\\n\\n----')\n",
        "    print('Obtained 10-core subset')\n",
        "    break"
      ],
      "execution_count": null,
      "outputs": [
        {
          "output_type": "stream",
          "name": "stdout",
          "text": [
            "Removed products\t\t\t Remaining Number of Reviews: 2,348,836\n",
            "Removed reviewers\t\t\t Remaining Number of Reviews: 230,116\n",
            "Removed products\t\t\t Remaining Number of Reviews: 172,402\n",
            "Removed reviewers\t\t\t Remaining Number of Reviews: 136,480\n",
            "Removed products\t\t\t Remaining Number of Reviews: 125,639\n",
            "Removed reviewers\t\t\t Remaining Number of Reviews: 116,375\n",
            "Removed products\t\t\t Remaining Number of Reviews: 112,551\n",
            "Removed reviewers\t\t\t Remaining Number of Reviews: 108,935\n",
            "Removed products\t\t\t Remaining Number of Reviews: 107,575\n",
            "Removed reviewers\t\t\t Remaining Number of Reviews: 106,210\n",
            "Removed products\t\t\t Remaining Number of Reviews: 105,462\n",
            "Removed reviewers\t\t\t Remaining Number of Reviews: 104,700\n",
            "Removed products\t\t\t Remaining Number of Reviews: 104,460\n",
            "Removed reviewers\t\t\t Remaining Number of Reviews: 104,166\n",
            "Removed products\t\t\t Remaining Number of Reviews: 103,981\n",
            "Removed reviewers\t\t\t Remaining Number of Reviews: 103,810\n",
            "Removed products\t\t\t Remaining Number of Reviews: 103,721\n",
            "Removed reviewers\t\t\t Remaining Number of Reviews: 103,604\n",
            "Removed products\t\t\t Remaining Number of Reviews: 103,569\n",
            "Removed reviewers\t\t\t Remaining Number of Reviews: 103,479\n",
            "Removed products\t\t\t Remaining Number of Reviews: 103,425\n",
            "Removed reviewers\t\t\t Remaining Number of Reviews: 103,380\n",
            "Removed products\t\t\t Remaining Number of Reviews: 103,362\n",
            "\n",
            "\n",
            "----\n",
            "Obtained 10-core subset\n"
          ]
        }
      ]
    },
    {
      "cell_type": "code",
      "metadata": {
        "colab": {
          "base_uri": "https://localhost:8080/"
        },
        "id": "szV2XWCCEtDb",
        "outputId": "7bbfade6-ffd9-4a72-e0b9-f2cdc48d6c8f"
      },
      "source": [
        "print(\"No. of rows in review dataset: {:,}\".format(len(review)))\n",
        "print(\"No. of rows in 10-core subset: {:,}\".format(len(df)))\n"
      ],
      "execution_count": null,
      "outputs": [
        {
          "output_type": "stream",
          "name": "stdout",
          "text": [
            "No. of rows in review dataset: 2,489,395\n",
            "No. of rows in 10-core subset: 103,362\n"
          ]
        }
      ]
    },
    {
      "cell_type": "markdown",
      "metadata": {
        "id": "0JJ5nV4dm0YW"
      },
      "source": [
        "Sanity check:"
      ]
    },
    {
      "cell_type": "code",
      "metadata": {
        "colab": {
          "base_uri": "https://localhost:8080/"
        },
        "id": "KdA3fE1mmzmB",
        "outputId": "189c054f-48af-4549-f846-099dd2ee46ed"
      },
      "source": [
        "df['asin'].value_counts()"
      ],
      "execution_count": null,
      "outputs": [
        {
          "output_type": "execute_result",
          "data": {
            "text/plain": [
              "B00JK00S0S    255\n",
              "B00GODZYNA    243\n",
              "B00BGA9YZK    227\n",
              "B00BGA9Y3W    226\n",
              "B00KVR4HEC    221\n",
              "             ... \n",
              "B000069675     10\n",
              "B01H2DKHSM     10\n",
              "B00009VE6E     10\n",
              "B000006OVJ     10\n",
              "B000GHLBUA     10\n",
              "Name: asin, Length: 3784, dtype: int64"
            ]
          },
          "metadata": {},
          "execution_count": 29
        }
      ]
    },
    {
      "cell_type": "code",
      "metadata": {
        "colab": {
          "base_uri": "https://localhost:8080/"
        },
        "id": "9J-mQy3Km5yT",
        "outputId": "4fbef04c-be93-4c6e-a478-c8c8d515ccf2"
      },
      "source": [
        "df['reviewerID'].value_counts()"
      ],
      "execution_count": null,
      "outputs": [
        {
          "output_type": "execute_result",
          "data": {
            "text/plain": [
              "A3V6Z4RCDGRC44    417\n",
              "AJKWF4W7QD4NS     355\n",
              "A29BQ6B90Y1R5F    307\n",
              "A2QHS1ZCIQOL7E    271\n",
              "A119Q9NFGVOEJZ    193\n",
              "                 ... \n",
              "A3UGHKTPO1C5IZ     10\n",
              "A8GWAPQEW7VYU      10\n",
              "ATIVK9XUANIUE      10\n",
              "A10IJF7UD9I86G     10\n",
              "AT2L9P49VHVY5      10\n",
              "Name: reviewerID, Length: 5921, dtype: int64"
            ]
          },
          "metadata": {},
          "execution_count": 30
        }
      ]
    },
    {
      "cell_type": "code",
      "metadata": {
        "colab": {
          "base_uri": "https://localhost:8080/"
        },
        "id": "GhjeCdjYm8aK",
        "outputId": "e5c3a57c-8ae7-4441-845a-09ae879a2757"
      },
      "source": [
        "len(df[df.duplicated()])"
      ],
      "execution_count": null,
      "outputs": [
        {
          "output_type": "execute_result",
          "data": {
            "text/plain": [
              "0"
            ]
          },
          "metadata": {},
          "execution_count": 31
        }
      ]
    },
    {
      "cell_type": "markdown",
      "metadata": {
        "id": "uNs63UrGFawj"
      },
      "source": [
        "We are now ready to carry out data exploration on this dataset."
      ]
    },
    {
      "cell_type": "markdown",
      "metadata": {
        "id": "7uExoIiXnQNN"
      },
      "source": [
        "# Cleaned Dataset for Data Visualization"
      ]
    },
    {
      "cell_type": "code",
      "metadata": {
        "id": "gG-rnMZgMdqS"
      },
      "source": [
        "df.to_csv(path_or_buf='/content/drive/My Drive/Applied_ML/data/10_core_Video_Games.csv', index=False)"
      ],
      "execution_count": null,
      "outputs": []
    },
    {
      "cell_type": "markdown",
      "metadata": {
        "id": "KsFFDiMZmBOc"
      },
      "source": [
        "Data visualization continued in 'video_games_data_visualization.ipynb'"
      ]
    },
    {
      "cell_type": "markdown",
      "metadata": {
        "id": "O9uaUq5Ukka1"
      },
      "source": [
        "# References"
      ]
    },
    {
      "cell_type": "markdown",
      "metadata": {
        "id": "lnA-BSXdkmYy"
      },
      "source": [
        "1. [Amazon Review Data (2018)](https://nijianmo.github.io/amazon/index.html)\n",
        ">Justifying recommendations using distantly-labeled reviews and  fined-grained aspects\n",
        ">\n",
        ">Jianmo Ni, Jiacheng Li, Julian McAuley\n",
        ">\n",
        ">Empirical Methods in Natural Language Processing (EMNLP), 2019\n",
        "\n"
      ]
    },
    {
      "cell_type": "markdown",
      "source": [
        "2. Download 10_core_Video_Games [CSV file](https://drive.google.com/file/d/1Mg4PivasbqapPq5ov5cZvZa69Xpt5jXU/view?usp=sharing)\n"
      ],
      "metadata": {
        "id": "4DoJRTYcqoJj"
      }
    },
    {
      "cell_type": "code",
      "source": [
        ""
      ],
      "metadata": {
        "id": "F4pctUsvqmTN"
      },
      "execution_count": null,
      "outputs": []
    },
    {
      "cell_type": "code",
      "metadata": {
        "id": "4CK96Syokl0a"
      },
      "source": [
        ""
      ],
      "execution_count": null,
      "outputs": []
    }
  ]
}