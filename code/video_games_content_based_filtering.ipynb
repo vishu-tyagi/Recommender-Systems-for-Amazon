{
  "cells": [
    {
      "cell_type": "markdown",
      "metadata": {
        "id": "IzYtNwzw77dg"
      },
      "source": [
        "# 1. Import Libraries\n",
        "\n"
      ]
    },
    {
      "cell_type": "code",
      "execution_count": 9,
      "metadata": {
        "colab": {
          "base_uri": "https://localhost:8080/"
        },
        "id": "sHCYf0EMgJxA",
        "outputId": "d51ec00d-bbd0-4a6e-96a0-a640258dd07d"
      },
      "outputs": [
        {
          "output_type": "stream",
          "name": "stdout",
          "text": [
            "[nltk_data] Downloading package stopwords to /root/nltk_data...\n",
            "[nltk_data]   Package stopwords is already up-to-date!\n",
            "[nltk_data] Downloading package wordnet to /root/nltk_data...\n",
            "[nltk_data]   Package wordnet is already up-to-date!\n",
            "[nltk_data] Downloading package punkt to /root/nltk_data...\n",
            "[nltk_data]   Package punkt is already up-to-date!\n"
          ]
        }
      ],
      "source": [
        "import re\n",
        "import os\n",
        "import random\n",
        "\n",
        "import numpy as np\n",
        "import pandas as pd\n",
        "import matplotlib.pyplot as plt\n",
        "import seaborn as sns\n",
        "import scipy\n",
        "\n",
        "from collections import defaultdict\n",
        "from sklearn.model_selection import train_test_split\n",
        "from sklearn.feature_extraction.text import ENGLISH_STOP_WORDS, CountVectorizer, TfidfVectorizer\n",
        "from sklearn.metrics.pairwise import linear_kernel\n",
        "\n",
        "import nltk\n",
        "nltk.download('stopwords');\n",
        "nltk.download('wordnet');\n",
        "nltk.download('punkt')\n",
        "\n",
        "from nltk.corpus import stopwords\n",
        "from nltk.tokenize import word_tokenize\n",
        "from nltk.stem.porter import *\n",
        "from nltk.stem.wordnet import WordNetLemmatizer\n",
        "\n",
        "from textblob import TextBlob"
      ]
    },
    {
      "cell_type": "markdown",
      "metadata": {
        "id": "GbEmustG8A1j"
      },
      "source": [
        "# 2. Load Data\n"
      ]
    },
    {
      "cell_type": "code",
      "execution_count": 10,
      "metadata": {
        "colab": {
          "base_uri": "https://localhost:8080/"
        },
        "id": "h5tAs_wzgeJ-",
        "outputId": "aa72590d-2d01-4d62-9766-4da49989e3e9"
      },
      "outputs": [
        {
          "output_type": "stream",
          "name": "stdout",
          "text": [
            "Drive already mounted at /content/drive; to attempt to forcibly remount, call drive.mount(\"/content/drive\", force_remount=True).\n"
          ]
        }
      ],
      "source": [
        "from google.colab import drive\n",
        "drive.mount('/content/drive')"
      ]
    },
    {
      "cell_type": "code",
      "execution_count": 11,
      "metadata": {
        "colab": {
          "base_uri": "https://localhost:8080/",
          "height": 649
        },
        "id": "hHbyDRUlgOPe",
        "outputId": "1b76ae2c-fd88-4702-e83a-97c13877eb2c"
      },
      "outputs": [
        {
          "output_type": "execute_result",
          "data": {
            "text/html": [
              "<div>\n",
              "<style scoped>\n",
              "    .dataframe tbody tr th:only-of-type {\n",
              "        vertical-align: middle;\n",
              "    }\n",
              "\n",
              "    .dataframe tbody tr th {\n",
              "        vertical-align: top;\n",
              "    }\n",
              "\n",
              "    .dataframe thead th {\n",
              "        text-align: right;\n",
              "    }\n",
              "</style>\n",
              "<table border=\"1\" class=\"dataframe\">\n",
              "  <thead>\n",
              "    <tr style=\"text-align: right;\">\n",
              "      <th></th>\n",
              "      <th>overall</th>\n",
              "      <th>verified</th>\n",
              "      <th>reviewTime</th>\n",
              "      <th>reviewerID</th>\n",
              "      <th>asin</th>\n",
              "      <th>reviewerName</th>\n",
              "      <th>reviewText</th>\n",
              "      <th>summary</th>\n",
              "      <th>category</th>\n",
              "      <th>description</th>\n",
              "      <th>title</th>\n",
              "      <th>also_buy</th>\n",
              "      <th>brand</th>\n",
              "      <th>feature</th>\n",
              "      <th>also_view</th>\n",
              "      <th>similar_item</th>\n",
              "      <th>details</th>\n",
              "    </tr>\n",
              "  </thead>\n",
              "  <tbody>\n",
              "    <tr>\n",
              "      <th>0</th>\n",
              "      <td>5.0</td>\n",
              "      <td>False</td>\n",
              "      <td>2001-01-01</td>\n",
              "      <td>A3BEJOL2X8PS8I</td>\n",
              "      <td>B00004TC6E</td>\n",
              "      <td>ATHF Fan</td>\n",
              "      <td>Before I start this review let me get somethin...</td>\n",
              "      <td>The best RPG... Ever!</td>\n",
              "      <td>['Video Games', 'Retro Gaming &amp; Microconsoles'...</td>\n",
              "      <td>[\"While it's officially a sequel to the immens...</td>\n",
              "      <td>Chrono Cross - PlayStation</td>\n",
              "      <td>['B00002R28C', 'B00005LOXE', 'B00004Y57G', 'B0...</td>\n",
              "      <td>by\\n    \\n    Square Enix</td>\n",
              "      <td>['PSX']</td>\n",
              "      <td>['B0045L3SNQ', 'B00005LOXE', 'B00004Y57G', 'B0...</td>\n",
              "      <td>NaN</td>\n",
              "      <td>NaN</td>\n",
              "    </tr>\n",
              "    <tr>\n",
              "      <th>1</th>\n",
              "      <td>5.0</td>\n",
              "      <td>False</td>\n",
              "      <td>2003-01-01</td>\n",
              "      <td>A3E0MSKBIWMU6F</td>\n",
              "      <td>B000069D39</td>\n",
              "      <td>obryanstars</td>\n",
              "      <td>Well, at first, getting used to the controls i...</td>\n",
              "      <td>A Great Game, a HALO for the PS2 (maybe)</td>\n",
              "      <td>['Video Games', 'Retro Gaming &amp;amp; Microconso...</td>\n",
              "      <td>['The evil race of TimeSplitters is traveling ...</td>\n",
              "      <td>Time Splitters 2 - PlayStation 2</td>\n",
              "      <td>['B00004WKN9', 'B0006ZJP8M', 'B0009O7HVM', 'B0...</td>\n",
              "      <td>by\\n    \\n    Square Enix</td>\n",
              "      <td>[\"This time you've got to stop the evil lords ...</td>\n",
              "      <td>['B0006ZJP8M', 'B00006AVB1', 'B00004WKN9', 'B0...</td>\n",
              "      <td>NaN</td>\n",
              "      <td>NaN</td>\n",
              "    </tr>\n",
              "    <tr>\n",
              "      <th>2</th>\n",
              "      <td>4.0</td>\n",
              "      <td>False</td>\n",
              "      <td>2003-01-01</td>\n",
              "      <td>A3KI73MFVL0QWH</td>\n",
              "      <td>B00005NN5J</td>\n",
              "      <td>GAMEMASTER</td>\n",
              "      <td>this game is pretty good its graphics and game...</td>\n",
              "      <td>cool game</td>\n",
              "      <td>['Video Games', 'Retro Gaming &amp; Microconsoles'...</td>\n",
              "      <td>[\"Danger takes wing again, as Namco's breaknec...</td>\n",
              "      <td>Namco Ace Combat 4 Shattered Skies</td>\n",
              "      <td>['B01L1P49OA', 'B00JA81WQE', 'B0000C7GHG', 'B0...</td>\n",
              "      <td>Playstation</td>\n",
              "      <td>['Soar through the blue in 24 missions, piloti...</td>\n",
              "      <td>['B00065QTT0', 'B01A0P8NBC', 'B015PJ68BK', 'B0...</td>\n",
              "      <td>NaN</td>\n",
              "      <td>NaN</td>\n",
              "    </tr>\n",
              "    <tr>\n",
              "      <th>3</th>\n",
              "      <td>5.0</td>\n",
              "      <td>False</td>\n",
              "      <td>2003-01-01</td>\n",
              "      <td>A3E0MSKBIWMU6F</td>\n",
              "      <td>B00007E1OC</td>\n",
              "      <td>obryanstars</td>\n",
              "      <td>The Lord of the Rings: The Two Towers (the gam...</td>\n",
              "      <td>So Much Fun, So Many Things To Do!  A Classic!!!</td>\n",
              "      <td>['Video Games', 'Retro Gaming &amp; Microconsoles'...</td>\n",
              "      <td>['Features detailed tactical component.', '&lt;I&gt;...</td>\n",
              "      <td>Lord of the Rings The Two Towers - Gamecube</td>\n",
              "      <td>['B00009VE6B', 'B0002I9RQI', 'B01LWA474D', 'B0...</td>\n",
              "      <td>by\\n    \\n    Electronic Arts</td>\n",
              "      <td>[\"The evil Wizard Saruman has built is buildin...</td>\n",
              "      <td>['B00009VE6B', 'B00008KTW7', 'B0002I9RQI', 'B0...</td>\n",
              "      <td>NaN</td>\n",
              "      <td>NaN</td>\n",
              "    </tr>\n",
              "    <tr>\n",
              "      <th>4</th>\n",
              "      <td>4.0</td>\n",
              "      <td>False</td>\n",
              "      <td>2003-01-01</td>\n",
              "      <td>A3713PP4MADKED</td>\n",
              "      <td>B00006GSNZ</td>\n",
              "      <td>Nick Watkins</td>\n",
              "      <td>I got this game for Christmas, and played it a...</td>\n",
              "      <td>Good...BUT TOO HARD!!!!!!</td>\n",
              "      <td>['Video Games', 'Retro Gaming &amp; Microconsoles'...</td>\n",
              "      <td>[\"Battle the evil forces of Mordor and experie...</td>\n",
              "      <td>Lord of the Rings The Two Towers - PlayStation 2</td>\n",
              "      <td>['B00009VE6D', 'B00006LEM9', 'B0002IQD1U', 'B0...</td>\n",
              "      <td>by\\n    \\n    Electronic Arts</td>\n",
              "      <td>['Enter the pastoral world of Middle Earth whe...</td>\n",
              "      <td>['B00009VE6D', 'B00006LEM9', 'B0002IQD1U', 'B0...</td>\n",
              "      <td>NaN</td>\n",
              "      <td>NaN</td>\n",
              "    </tr>\n",
              "  </tbody>\n",
              "</table>\n",
              "</div>"
            ],
            "text/plain": [
              "   overall  verified  ... similar_item details\n",
              "0      5.0     False  ...          NaN     NaN\n",
              "1      5.0     False  ...          NaN     NaN\n",
              "2      4.0     False  ...          NaN     NaN\n",
              "3      5.0     False  ...          NaN     NaN\n",
              "4      4.0     False  ...          NaN     NaN\n",
              "\n",
              "[5 rows x 17 columns]"
            ]
          },
          "metadata": {},
          "execution_count": 11
        }
      ],
      "source": [
        "data = df = pd.read_csv('/content/drive/MyDrive/Applied_ML/data/10_core_Video_Games_Processed.csv')\n",
        "data.head()"
      ]
    },
    {
      "cell_type": "markdown",
      "metadata": {
        "id": "9hzzCDc-8GXm"
      },
      "source": [
        "# 3. Preprocessing"
      ]
    },
    {
      "cell_type": "code",
      "execution_count": 12,
      "metadata": {
        "colab": {
          "base_uri": "https://localhost:8080/",
          "height": 374
        },
        "id": "H6oFl84xgSdE",
        "outputId": "a3b2f3e9-36e2-4c44-c392-3f32639860d6"
      },
      "outputs": [
        {
          "output_type": "execute_result",
          "data": {
            "text/html": [
              "<div>\n",
              "<style scoped>\n",
              "    .dataframe tbody tr th:only-of-type {\n",
              "        vertical-align: middle;\n",
              "    }\n",
              "\n",
              "    .dataframe tbody tr th {\n",
              "        vertical-align: top;\n",
              "    }\n",
              "\n",
              "    .dataframe thead th {\n",
              "        text-align: right;\n",
              "    }\n",
              "</style>\n",
              "<table border=\"1\" class=\"dataframe\">\n",
              "  <thead>\n",
              "    <tr style=\"text-align: right;\">\n",
              "      <th></th>\n",
              "      <th>asin</th>\n",
              "      <th>title</th>\n",
              "      <th>also_buy</th>\n",
              "      <th>also_view</th>\n",
              "      <th>overall</th>\n",
              "      <th>description</th>\n",
              "      <th>reviewText</th>\n",
              "      <th>summary</th>\n",
              "    </tr>\n",
              "  </thead>\n",
              "  <tbody>\n",
              "    <tr>\n",
              "      <th>0</th>\n",
              "      <td>0804161380</td>\n",
              "      <td>Legend of Zelda Box Set Prima Official Game Guide</td>\n",
              "      <td>['1911015214', '1911015222', '1506703356', '11...</td>\n",
              "      <td>['1911015486', '1506703356', '1616550414', '15...</td>\n",
              "      <td>4.733333</td>\n",
              "      <td>[\"It's 6 Legend Of Zelda strategy guides, offe...</td>\n",
              "      <td>['amazing\\n\\ncool awesome interesting guides o...</td>\n",
              "      <td>['Great' 'Five Stars' 'Five Stars' 'Epic colle...</td>\n",
              "    </tr>\n",
              "    <tr>\n",
              "      <th>1</th>\n",
              "      <td>9629971372</td>\n",
              "      <td>Dotop Sony Playstation 2 PS2 64MB Memory Card</td>\n",
              "      <td>['B01LY4QRT8', 'B0000C7GHG', 'B00004SQPD', 'B0...</td>\n",
              "      <td></td>\n",
              "      <td>4.588235</td>\n",
              "      <td>[\"This is Memory Card 128MB for PlayStation 2 ...</td>\n",
              "      <td>['How can you go wrong with obtaining a 128 Me...</td>\n",
              "      <td>['Works on 95% of games!' 'nice' 'As Expected'...</td>\n",
              "    </tr>\n",
              "    <tr>\n",
              "      <th>2</th>\n",
              "      <td>B000006OVJ</td>\n",
              "      <td>Mega Man Legends</td>\n",
              "      <td>['B00004XONL', 'B0045L3SNQ', 'B0009XBWY6', 'B0...</td>\n",
              "      <td>['B0045L3SNQ', 'B00004XONL', 'B00000K1VC', 'B0...</td>\n",
              "      <td>4.400000</td>\n",
              "      <td>['It is a world covered by endless water. Only...</td>\n",
              "      <td>['Well as far as the person who sold this to m...</td>\n",
              "      <td>['Hmm' 'Mega Man Legends For The PlayStation'\\...</td>\n",
              "    </tr>\n",
              "    <tr>\n",
              "      <th>3</th>\n",
              "      <td>B000006P0K</td>\n",
              "      <td>Tekken 2</td>\n",
              "      <td>['B00000K2X5', 'B000006P0J', 'B0000664JF', 'B0...</td>\n",
              "      <td>['B00000K2X5', 'B0002CHJ8C', 'B0000664JF', 'B0...</td>\n",
              "      <td>5.000000</td>\n",
              "      <td>['New green label', \"They're all here Heihachi...</td>\n",
              "      <td>[\"Same goes for Tekken 2: played but never own...</td>\n",
              "      <td>['Tekken 2' 'Five Stars' 'One of the best figh...</td>\n",
              "    </tr>\n",
              "    <tr>\n",
              "      <th>4</th>\n",
              "      <td>B000006RGR</td>\n",
              "      <td>Tomb Raider II</td>\n",
              "      <td>['B00000DMB4', 'B008LYNLFI', 'B00001ZT9E', 'B0...</td>\n",
              "      <td>['B008LYNLFI', 'B00000DMB4', 'B00002SFNG', 'B0...</td>\n",
              "      <td>4.833333</td>\n",
              "      <td>[\"Lara's Back. Explore new worlds. Awesome Cla...</td>\n",
              "      <td>[\"Tomb Raider II is the best of the series, fo...</td>\n",
              "      <td>['best tomb raider' 'A better game than the or...</td>\n",
              "    </tr>\n",
              "  </tbody>\n",
              "</table>\n",
              "</div>"
            ],
            "text/plain": [
              "         asin  ...                                            summary\n",
              "0  0804161380  ...  ['Great' 'Five Stars' 'Five Stars' 'Epic colle...\n",
              "1  9629971372  ...  ['Works on 95% of games!' 'nice' 'As Expected'...\n",
              "2  B000006OVJ  ...  ['Hmm' 'Mega Man Legends For The PlayStation'\\...\n",
              "3  B000006P0K  ...  ['Tekken 2' 'Five Stars' 'One of the best figh...\n",
              "4  B000006RGR  ...  ['best tomb raider' 'A better game than the or...\n",
              "\n",
              "[5 rows x 8 columns]"
            ]
          },
          "metadata": {},
          "execution_count": 12
        }
      ],
      "source": [
        "data[['description','reviewText', 'summary', 'also_buy', 'also_view']] = data[['description','reviewText', 'summary', 'also_buy', 'also_view']].fillna('')\n",
        "\n",
        "meta = data[['asin', 'title', 'also_buy', 'also_view', 'overall', 'description', 'reviewText', 'summary']]\n",
        "meta = meta.groupby(['asin', 'title', 'also_buy', 'also_view'], as_index=False).agg({'overall':'mean', \n",
        "                                                                                     'description':'first',\n",
        "                                                                                     'reviewText': lambda x: ''.join(str(x.values)),\n",
        "                                                                                     'summary': lambda x: ''.join(str(x.values))})\n",
        "\n",
        "meta.head()"
      ]
    },
    {
      "cell_type": "code",
      "execution_count": 13,
      "metadata": {
        "colab": {
          "base_uri": "https://localhost:8080/",
          "height": 459
        },
        "id": "gKpWZ83RgSZJ",
        "outputId": "a45df863-0e8b-4188-f17f-dd441662fdc6"
      },
      "outputs": [
        {
          "output_type": "execute_result",
          "data": {
            "text/html": [
              "<div>\n",
              "<style scoped>\n",
              "    .dataframe tbody tr th:only-of-type {\n",
              "        vertical-align: middle;\n",
              "    }\n",
              "\n",
              "    .dataframe tbody tr th {\n",
              "        vertical-align: top;\n",
              "    }\n",
              "\n",
              "    .dataframe thead th {\n",
              "        text-align: right;\n",
              "    }\n",
              "</style>\n",
              "<table border=\"1\" class=\"dataframe\">\n",
              "  <thead>\n",
              "    <tr style=\"text-align: right;\">\n",
              "      <th></th>\n",
              "      <th>asin</th>\n",
              "      <th>title</th>\n",
              "      <th>also_buy</th>\n",
              "      <th>also_view</th>\n",
              "      <th>overall</th>\n",
              "      <th>description</th>\n",
              "      <th>reviewText</th>\n",
              "      <th>summary</th>\n",
              "    </tr>\n",
              "  </thead>\n",
              "  <tbody>\n",
              "    <tr>\n",
              "      <th>0</th>\n",
              "      <td>0804161380</td>\n",
              "      <td>Legend of Zelda Box Set Prima Official Game Guide</td>\n",
              "      <td>[1911015214, 1911015222, 1506703356, 110189843...</td>\n",
              "      <td>[1911015486, 1506703356, 1616550414, 150670740...</td>\n",
              "      <td>4.733333</td>\n",
              "      <td>its 6 legend of zelda strategy guides offered ...</td>\n",
              "      <td>amazingnncool awesome interesting guides of th...</td>\n",
              "      <td>great five stars five stars epic collection fi...</td>\n",
              "    </tr>\n",
              "    <tr>\n",
              "      <th>1</th>\n",
              "      <td>9629971372</td>\n",
              "      <td>Dotop Sony Playstation 2 PS2 64MB Memory Card</td>\n",
              "      <td>[B01LY4QRT8, B0000C7GHG, B00004SQPD, B000SEU92...</td>\n",
              "      <td>[]</td>\n",
              "      <td>4.588235</td>\n",
              "      <td>this is memory card 128mb for playstation 2 ps...</td>\n",
              "      <td>how can you go wrong with obtaining a 128 mega...</td>\n",
              "      <td>works on 95 of games nice as expected my first...</td>\n",
              "    </tr>\n",
              "    <tr>\n",
              "      <th>2</th>\n",
              "      <td>B000006OVJ</td>\n",
              "      <td>Mega Man Legends</td>\n",
              "      <td>[B00004XONL, B0045L3SNQ, B0009XBWY6, B00005MA9...</td>\n",
              "      <td>[B0045L3SNQ, B00004XONL, B00000K1VC, B000050FA...</td>\n",
              "      <td>4.400000</td>\n",
              "      <td>it is a world covered by endless water only sm...</td>\n",
              "      <td>well as far as the person who sold this to me ...</td>\n",
              "      <td>hmm mega man legends for the playstation megam...</td>\n",
              "    </tr>\n",
              "    <tr>\n",
              "      <th>3</th>\n",
              "      <td>B000006P0K</td>\n",
              "      <td>Tekken 2</td>\n",
              "      <td>[B00000K2X5, B000006P0J, B0000664JF, B0002CHJ8...</td>\n",
              "      <td>[B00000K2X5, B0002CHJ8C, B0000664JF, B000006P0...</td>\n",
              "      <td>5.000000</td>\n",
              "      <td>new green label theyre all here heihachi paul ...</td>\n",
              "      <td>same goes for tekken 2 played but never owned ...</td>\n",
              "      <td>tekken 2 five stars one of the best fighting g...</td>\n",
              "    </tr>\n",
              "    <tr>\n",
              "      <th>4</th>\n",
              "      <td>B000006RGR</td>\n",
              "      <td>Tomb Raider II</td>\n",
              "      <td>[B00000DMB4, B008LYNLFI, B00001ZT9E, B000006RG...</td>\n",
              "      <td>[B008LYNLFI, B00000DMB4, B00002SFNG, B00001ZT9...</td>\n",
              "      <td>4.833333</td>\n",
              "      <td>laras back explore new worlds awesome classic ...</td>\n",
              "      <td>tomb raider ii is the best of the series follo...</td>\n",
              "      <td>best tomb raider a better game than the origin...</td>\n",
              "    </tr>\n",
              "  </tbody>\n",
              "</table>\n",
              "</div>"
            ],
            "text/plain": [
              "         asin  ...                                            summary\n",
              "0  0804161380  ...  great five stars five stars epic collection fi...\n",
              "1  9629971372  ...  works on 95 of games nice as expected my first...\n",
              "2  B000006OVJ  ...  hmm mega man legends for the playstation megam...\n",
              "3  B000006P0K  ...  tekken 2 five stars one of the best fighting g...\n",
              "4  B000006RGR  ...  best tomb raider a better game than the origin...\n",
              "\n",
              "[5 rows x 8 columns]"
            ]
          },
          "metadata": {},
          "execution_count": 13
        }
      ],
      "source": [
        "process = lambda x: str(x).replace(' ', '').replace(\"'\", '')[1:-1].split(',')\n",
        "cleanText = lambda x: (re.sub(r'[^A-Za-z0-9 ]+', '', x)).lower()\n",
        "\n",
        "meta[['description', 'reviewText', 'summary', 'also_buy', 'also_view']] = meta.apply({'description': lambda x: cleanText(x), \n",
        "                                                                                      'reviewText': lambda x: cleanText(x), \n",
        "                                                                                      'summary': lambda x: cleanText(x), \n",
        "                                                                                      'also_buy': lambda x: process(x), \n",
        "                                                                                      'also_view': lambda x: process(x)})\n",
        "\n",
        "meta.head()"
      ]
    },
    {
      "cell_type": "code",
      "execution_count": 14,
      "metadata": {
        "colab": {
          "base_uri": "https://localhost:8080/",
          "height": 459
        },
        "id": "E8ioa89YgSVi",
        "outputId": "692f9cc2-5bbb-4e88-aac4-3a0f69c89192"
      },
      "outputs": [
        {
          "output_type": "execute_result",
          "data": {
            "text/html": [
              "<div>\n",
              "<style scoped>\n",
              "    .dataframe tbody tr th:only-of-type {\n",
              "        vertical-align: middle;\n",
              "    }\n",
              "\n",
              "    .dataframe tbody tr th {\n",
              "        vertical-align: top;\n",
              "    }\n",
              "\n",
              "    .dataframe thead th {\n",
              "        text-align: right;\n",
              "    }\n",
              "</style>\n",
              "<table border=\"1\" class=\"dataframe\">\n",
              "  <thead>\n",
              "    <tr style=\"text-align: right;\">\n",
              "      <th></th>\n",
              "      <th>asin</th>\n",
              "      <th>title</th>\n",
              "      <th>also_buy</th>\n",
              "      <th>also_view</th>\n",
              "      <th>overall</th>\n",
              "      <th>description</th>\n",
              "      <th>reviewText</th>\n",
              "      <th>summary</th>\n",
              "    </tr>\n",
              "  </thead>\n",
              "  <tbody>\n",
              "    <tr>\n",
              "      <th>0</th>\n",
              "      <td>0804161380</td>\n",
              "      <td>Legend of Zelda Box Set Prima Official Game Guide</td>\n",
              "      <td>[1911015214, 1911015222, 1506703356, 110189843...</td>\n",
              "      <td>[1911015486, 1506703356, 1616550414, 150670740...</td>\n",
              "      <td>4.733333</td>\n",
              "      <td>6 legend zelda strategy guides offered numbere...</td>\n",
              "      <td>amazingnncool awesome interesting guides legen...</td>\n",
              "      <td>great five stars five stars epic collection fi...</td>\n",
              "    </tr>\n",
              "    <tr>\n",
              "      <th>1</th>\n",
              "      <td>9629971372</td>\n",
              "      <td>Dotop Sony Playstation 2 PS2 64MB Memory Card</td>\n",
              "      <td>[B01LY4QRT8, B0000C7GHG, B00004SQPD, B000SEU92...</td>\n",
              "      <td>[]</td>\n",
              "      <td>4.588235</td>\n",
              "      <td>memory card 128mb playstation 2 ps2 building b...</td>\n",
              "      <td>go wrong obtaining 128 megabyte memory card ps...</td>\n",
              "      <td>works 95 games nice expected first ps2 memory ...</td>\n",
              "    </tr>\n",
              "    <tr>\n",
              "      <th>2</th>\n",
              "      <td>B000006OVJ</td>\n",
              "      <td>Mega Man Legends</td>\n",
              "      <td>[B00004XONL, B0045L3SNQ, B0009XBWY6, B00005MA9...</td>\n",
              "      <td>[B0045L3SNQ, B00004XONL, B00000K1VC, B000050FA...</td>\n",
              "      <td>4.400000</td>\n",
              "      <td>world covered endless water small patches land...</td>\n",
              "      <td>well far person sold goes game came described ...</td>\n",
              "      <td>hmm mega man legends playstation megaman ocari...</td>\n",
              "    </tr>\n",
              "    <tr>\n",
              "      <th>3</th>\n",
              "      <td>B000006P0K</td>\n",
              "      <td>Tekken 2</td>\n",
              "      <td>[B00000K2X5, B000006P0J, B0000664JF, B0002CHJ8...</td>\n",
              "      <td>[B00000K2X5, B0002CHJ8C, B0000664JF, B000006P0...</td>\n",
              "      <td>5.000000</td>\n",
              "      <td>new green label theyre heihachi paul phoenix k...</td>\n",
              "      <td>goes tekken 2 played never owned im officially...</td>\n",
              "      <td>tekken 2 five stars one best fighting games ti...</td>\n",
              "    </tr>\n",
              "    <tr>\n",
              "      <th>4</th>\n",
              "      <td>B000006RGR</td>\n",
              "      <td>Tomb Raider II</td>\n",
              "      <td>[B00000DMB4, B008LYNLFI, B00001ZT9E, B000006RG...</td>\n",
              "      <td>[B008LYNLFI, B00000DMB4, B00002SFNG, B00001ZT9...</td>\n",
              "      <td>4.833333</td>\n",
              "      <td>laras back explore new worlds awesome classic ...</td>\n",
              "      <td>tomb raider ii best series followed original s...</td>\n",
              "      <td>best tomb raider better game original perfect ...</td>\n",
              "    </tr>\n",
              "  </tbody>\n",
              "</table>\n",
              "</div>"
            ],
            "text/plain": [
              "         asin  ...                                            summary\n",
              "0  0804161380  ...  great five stars five stars epic collection fi...\n",
              "1  9629971372  ...  works 95 games nice expected first ps2 memory ...\n",
              "2  B000006OVJ  ...  hmm mega man legends playstation megaman ocari...\n",
              "3  B000006P0K  ...  tekken 2 five stars one best fighting games ti...\n",
              "4  B000006RGR  ...  best tomb raider better game original perfect ...\n",
              "\n",
              "[5 rows x 8 columns]"
            ]
          },
          "metadata": {},
          "execution_count": 14
        }
      ],
      "source": [
        "stop = stopwords.words('english')\n",
        "removeStopWords = lambda x:' '.join([word for word in x.split() if word not in (stop)])\n",
        "\n",
        "meta[['description', 'reviewText', 'summary']] = meta.apply({\n",
        "    'description': lambda x: removeStopWords(x), \n",
        "    'reviewText': lambda x: removeStopWords(x), \n",
        "    'summary': lambda x: removeStopWords(x)})\n",
        "\n",
        "meta.head()"
      ]
    },
    {
      "cell_type": "code",
      "execution_count": 15,
      "metadata": {
        "colab": {
          "base_uri": "https://localhost:8080/",
          "height": 459
        },
        "id": "lnc6sbSbgSSg",
        "outputId": "9fd56e43-72e6-4fe5-b449-4b6c9f46a989"
      },
      "outputs": [
        {
          "output_type": "execute_result",
          "data": {
            "text/html": [
              "<div>\n",
              "<style scoped>\n",
              "    .dataframe tbody tr th:only-of-type {\n",
              "        vertical-align: middle;\n",
              "    }\n",
              "\n",
              "    .dataframe tbody tr th {\n",
              "        vertical-align: top;\n",
              "    }\n",
              "\n",
              "    .dataframe thead th {\n",
              "        text-align: right;\n",
              "    }\n",
              "</style>\n",
              "<table border=\"1\" class=\"dataframe\">\n",
              "  <thead>\n",
              "    <tr style=\"text-align: right;\">\n",
              "      <th></th>\n",
              "      <th>asin</th>\n",
              "      <th>title</th>\n",
              "      <th>also_buy</th>\n",
              "      <th>also_view</th>\n",
              "      <th>overall</th>\n",
              "      <th>description</th>\n",
              "      <th>reviewText</th>\n",
              "      <th>summary</th>\n",
              "    </tr>\n",
              "  </thead>\n",
              "  <tbody>\n",
              "    <tr>\n",
              "      <th>0</th>\n",
              "      <td>0804161380</td>\n",
              "      <td>Legend of Zelda Box Set Prima Official Game Guide</td>\n",
              "      <td>[1911015214, 1911015222, 1506703356, 110189843...</td>\n",
              "      <td>[1911015486, 1506703356, 1616550414, 150670740...</td>\n",
              "      <td>4.733333</td>\n",
              "      <td>6 legend zelda strategy guide offered numbered...</td>\n",
              "      <td>amazingnncool awesome interesting guide legend...</td>\n",
              "      <td>great five star five star epic collection five...</td>\n",
              "    </tr>\n",
              "    <tr>\n",
              "      <th>1</th>\n",
              "      <td>9629971372</td>\n",
              "      <td>Dotop Sony Playstation 2 PS2 64MB Memory Card</td>\n",
              "      <td>[B01LY4QRT8, B0000C7GHG, B00004SQPD, B000SEU92...</td>\n",
              "      <td>[]</td>\n",
              "      <td>4.588235</td>\n",
              "      <td>memory card 128mb playstation 2 ps2 building b...</td>\n",
              "      <td>go wrong obtaining 128 megabyte memory card ps...</td>\n",
              "      <td>work 95 game nice expected first ps2 memory ca...</td>\n",
              "    </tr>\n",
              "    <tr>\n",
              "      <th>2</th>\n",
              "      <td>B000006OVJ</td>\n",
              "      <td>Mega Man Legends</td>\n",
              "      <td>[B00004XONL, B0045L3SNQ, B0009XBWY6, B00005MA9...</td>\n",
              "      <td>[B0045L3SNQ, B00004XONL, B00000K1VC, B000050FA...</td>\n",
              "      <td>4.400000</td>\n",
              "      <td>world covered endless water small patch land s...</td>\n",
              "      <td>well far person sold go game came described we...</td>\n",
              "      <td>hmm mega man legend playstation megaman ocarin...</td>\n",
              "    </tr>\n",
              "    <tr>\n",
              "      <th>3</th>\n",
              "      <td>B000006P0K</td>\n",
              "      <td>Tekken 2</td>\n",
              "      <td>[B00000K2X5, B000006P0J, B0000664JF, B0002CHJ8...</td>\n",
              "      <td>[B00000K2X5, B0002CHJ8C, B0000664JF, B000006P0...</td>\n",
              "      <td>5.000000</td>\n",
              "      <td>new green label theyre heihachi paul phoenix k...</td>\n",
              "      <td>go tekken 2 played never owned im officially b...</td>\n",
              "      <td>tekken 2 five star one best fighting game time...</td>\n",
              "    </tr>\n",
              "    <tr>\n",
              "      <th>4</th>\n",
              "      <td>B000006RGR</td>\n",
              "      <td>Tomb Raider II</td>\n",
              "      <td>[B00000DMB4, B008LYNLFI, B00001ZT9E, B000006RG...</td>\n",
              "      <td>[B008LYNLFI, B00000DMB4, B00002SFNG, B00001ZT9...</td>\n",
              "      <td>4.833333</td>\n",
              "      <td>laras back explore new world awesome classic g...</td>\n",
              "      <td>tomb raider ii best series followed original s...</td>\n",
              "      <td>best tomb raider better game original perfect ...</td>\n",
              "    </tr>\n",
              "  </tbody>\n",
              "</table>\n",
              "</div>"
            ],
            "text/plain": [
              "         asin  ...                                            summary\n",
              "0  0804161380  ...  great five star five star epic collection five...\n",
              "1  9629971372  ...  work 95 game nice expected first ps2 memory ca...\n",
              "2  B000006OVJ  ...  hmm mega man legend playstation megaman ocarin...\n",
              "3  B000006P0K  ...  tekken 2 five star one best fighting game time...\n",
              "4  B000006RGR  ...  best tomb raider better game original perfect ...\n",
              "\n",
              "[5 rows x 8 columns]"
            ]
          },
          "metadata": {},
          "execution_count": 15
        }
      ],
      "source": [
        "lemmatizer = WordNetLemmatizer()\n",
        "lemmtizeText = lambda sentence: ' '.join([lemmatizer.lemmatize(w) for w in nltk.word_tokenize(sentence)])\n",
        "\n",
        "meta[['description', 'reviewText', 'summary']] = meta.apply({\n",
        "    'description': lambda x: lemmtizeText(x), \n",
        "    'reviewText': lambda x: lemmtizeText(x), \n",
        "    'summary': lambda x: lemmtizeText(x)})\n",
        "\n",
        "meta.head()"
      ]
    },
    {
      "cell_type": "code",
      "execution_count": 16,
      "metadata": {
        "colab": {
          "base_uri": "https://localhost:8080/",
          "height": 527
        },
        "id": "K1rZ5CZfhn_F",
        "outputId": "6c4765b5-60e4-4418-cc67-f9f90ae3c988"
      },
      "outputs": [
        {
          "output_type": "execute_result",
          "data": {
            "text/html": [
              "<div>\n",
              "<style scoped>\n",
              "    .dataframe tbody tr th:only-of-type {\n",
              "        vertical-align: middle;\n",
              "    }\n",
              "\n",
              "    .dataframe tbody tr th {\n",
              "        vertical-align: top;\n",
              "    }\n",
              "\n",
              "    .dataframe thead th {\n",
              "        text-align: right;\n",
              "    }\n",
              "</style>\n",
              "<table border=\"1\" class=\"dataframe\">\n",
              "  <thead>\n",
              "    <tr style=\"text-align: right;\">\n",
              "      <th></th>\n",
              "      <th>asin</th>\n",
              "      <th>title</th>\n",
              "      <th>also_buy</th>\n",
              "      <th>also_view</th>\n",
              "      <th>overall</th>\n",
              "      <th>description</th>\n",
              "      <th>reviewText</th>\n",
              "      <th>summary</th>\n",
              "      <th>without reviewText</th>\n",
              "      <th>with reviewText</th>\n",
              "    </tr>\n",
              "  </thead>\n",
              "  <tbody>\n",
              "    <tr>\n",
              "      <th>0</th>\n",
              "      <td>0804161380</td>\n",
              "      <td>Legend of Zelda Box Set Prima Official Game Guide</td>\n",
              "      <td>[1911015214, 1911015222, 1506703356, 110189843...</td>\n",
              "      <td>[1911015486, 1506703356, 1616550414, 150670740...</td>\n",
              "      <td>4.733333</td>\n",
              "      <td>6 legend zelda strategy guide offered numbered...</td>\n",
              "      <td>amazingnncool awesome interesting guide legend...</td>\n",
              "      <td>great five star five star epic collection five...</td>\n",
              "      <td>great five star five star epic collection five...</td>\n",
              "      <td>great five star five star epic collection five...</td>\n",
              "    </tr>\n",
              "    <tr>\n",
              "      <th>1</th>\n",
              "      <td>9629971372</td>\n",
              "      <td>Dotop Sony Playstation 2 PS2 64MB Memory Card</td>\n",
              "      <td>[B01LY4QRT8, B0000C7GHG, B00004SQPD, B000SEU92...</td>\n",
              "      <td>[]</td>\n",
              "      <td>4.588235</td>\n",
              "      <td>memory card 128mb playstation 2 ps2 building b...</td>\n",
              "      <td>go wrong obtaining 128 megabyte memory card ps...</td>\n",
              "      <td>work 95 game nice expected first ps2 memory ca...</td>\n",
              "      <td>work 95 game nice expected first ps2 memory ca...</td>\n",
              "      <td>work 95 game nice expected first ps2 memory ca...</td>\n",
              "    </tr>\n",
              "    <tr>\n",
              "      <th>2</th>\n",
              "      <td>B000006OVJ</td>\n",
              "      <td>Mega Man Legends</td>\n",
              "      <td>[B00004XONL, B0045L3SNQ, B0009XBWY6, B00005MA9...</td>\n",
              "      <td>[B0045L3SNQ, B00004XONL, B00000K1VC, B000050FA...</td>\n",
              "      <td>4.400000</td>\n",
              "      <td>world covered endless water small patch land s...</td>\n",
              "      <td>well far person sold go game came described we...</td>\n",
              "      <td>hmm mega man legend playstation megaman ocarin...</td>\n",
              "      <td>hmm mega man legend playstation megaman ocarin...</td>\n",
              "      <td>hmm mega man legend playstation megaman ocarin...</td>\n",
              "    </tr>\n",
              "    <tr>\n",
              "      <th>3</th>\n",
              "      <td>B000006P0K</td>\n",
              "      <td>Tekken 2</td>\n",
              "      <td>[B00000K2X5, B000006P0J, B0000664JF, B0002CHJ8...</td>\n",
              "      <td>[B00000K2X5, B0002CHJ8C, B0000664JF, B000006P0...</td>\n",
              "      <td>5.000000</td>\n",
              "      <td>new green label theyre heihachi paul phoenix k...</td>\n",
              "      <td>go tekken 2 played never owned im officially b...</td>\n",
              "      <td>tekken 2 five star one best fighting game time...</td>\n",
              "      <td>tekken 2 five star one best fighting game time...</td>\n",
              "      <td>tekken 2 five star one best fighting game time...</td>\n",
              "    </tr>\n",
              "    <tr>\n",
              "      <th>4</th>\n",
              "      <td>B000006RGR</td>\n",
              "      <td>Tomb Raider II</td>\n",
              "      <td>[B00000DMB4, B008LYNLFI, B00001ZT9E, B000006RG...</td>\n",
              "      <td>[B008LYNLFI, B00000DMB4, B00002SFNG, B00001ZT9...</td>\n",
              "      <td>4.833333</td>\n",
              "      <td>laras back explore new world awesome classic g...</td>\n",
              "      <td>tomb raider ii best series followed original s...</td>\n",
              "      <td>best tomb raider better game original perfect ...</td>\n",
              "      <td>best tomb raider better game original perfect ...</td>\n",
              "      <td>best tomb raider better game original perfect ...</td>\n",
              "    </tr>\n",
              "  </tbody>\n",
              "</table>\n",
              "</div>"
            ],
            "text/plain": [
              "         asin  ...                                    with reviewText\n",
              "0  0804161380  ...  great five star five star epic collection five...\n",
              "1  9629971372  ...  work 95 game nice expected first ps2 memory ca...\n",
              "2  B000006OVJ  ...  hmm mega man legend playstation megaman ocarin...\n",
              "3  B000006P0K  ...  tekken 2 five star one best fighting game time...\n",
              "4  B000006RGR  ...  best tomb raider better game original perfect ...\n",
              "\n",
              "[5 rows x 10 columns]"
            ]
          },
          "metadata": {},
          "execution_count": 16
        }
      ],
      "source": [
        "meta['without reviewText'] = meta['summary'] + meta['description']\n",
        "meta['with reviewText'] = meta['summary'] + meta['description'] + meta['reviewText']\n",
        "meta.head()"
      ]
    },
    {
      "cell_type": "markdown",
      "metadata": {
        "id": "syhMNveY8NeQ"
      },
      "source": [
        "# 4. Model Building"
      ]
    },
    {
      "cell_type": "code",
      "execution_count": 17,
      "metadata": {
        "id": "dSnJzbh0ix8W"
      },
      "outputs": [],
      "source": [
        "def tf_similarity(df, col):\n",
        "  tf = TfidfVectorizer()\n",
        "  mat = tf.fit_transform(df[col])\n",
        "  # print('Tfidf Matrix Shape: {}'.format(mat.shape))\n",
        "  sim = linear_kernel(mat, mat)\n",
        "  # print('Similarity Matrix Shape: {}\\n'.format(sim.shape))\n",
        "  return sim\n",
        "\n",
        "def cv_similarity(df, col):\n",
        "  cv = CountVectorizer()\n",
        "  mat = cv.fit_transform(df[col])\n",
        "  # print('CV Matrix Shape: {}'.format(mat.shape))\n",
        "  sim = linear_kernel(mat, mat)\n",
        "  # print('Similarity Matrix Shape: {}\\n'.format(sim.shape))\n",
        "  return sim\n",
        "\n",
        "def get_recommendations(df, col, method, id):\n",
        "  # similarity matrix\n",
        "  sim = tf_similarity(df, col) if method == 'tfidf' else cv_similarity(df, col)\n",
        "\n",
        "  # find recommendations\n",
        "  ids = df['asin']\n",
        "  indices = pd.Series(df.index, index=df['asin'])\n",
        "  idx = indices[id]\n",
        "  sim_scores = list(enumerate(sim[idx]))\n",
        "  sim_scores = sorted(sim_scores, key=lambda x: x[1], reverse=True)\n",
        "  sim_scores = sim_scores[1:31]\n",
        "  prod_indices = [i[0] for i in sim_scores]\n",
        "  return ids.iloc[prod_indices]\n",
        "\n",
        "def display_recommendations(df, col, method, id):\n",
        "  for rid in get_recommendations(df, col, method, id).head(10).values:\n",
        "    print(df[df['asin'] == rid]['title'].unique())\n",
        "    "
      ]
    },
    {
      "cell_type": "markdown",
      "metadata": {
        "id": "Ir7JwYKHlxj7"
      },
      "source": [
        "**Recommendations**"
      ]
    },
    {
      "cell_type": "code",
      "execution_count": 37,
      "metadata": {
        "colab": {
          "base_uri": "https://localhost:8080/"
        },
        "id": "IPT-li15lXGG",
        "outputId": "73520986-fc22-4167-8de1-339f10a61059"
      },
      "outputs": [
        {
          "output_type": "stream",
          "name": "stdout",
          "text": [
            "--- Recommendations created using Tfidf without reviewText\n",
            "\n",
            "--- Displaying games similar to: Legend of Zelda Box Set Prima Official Game Guide\n",
            "\n",
            "['The Legend of Zelda:  Phantom Hourglass']\n",
            "['The Legend of Zelda: The Wind Waker']\n",
            "['The Legend of Zelda: A Link Between Worlds 3D']\n",
            "['The Legend of Zelda: Twilight Princess HD - Wii U']\n",
            "['The Legend of Zelda: Skyward Sword']\n",
            "['The Legend of Zelda: Twilight Princess']\n",
            "['Zelda II: The Adventure of Link']\n",
            "['The Legend of Zelda: Spirit Tracks']\n",
            "['The Legend of Zelda']\n",
            "['The Legend of Zelda: TriForce Heroes - 3DS']\n"
          ]
        }
      ],
      "source": [
        "print('--- Recommendations created using Tfidf without reviewText')\n",
        "print('\\n--- Displaying games similar to: {}\\n'.format(df[df['asin']=='0804161380']['title'].unique()[0]))\n",
        "display_recommendations(meta, 'without reviewText', 'tfidf', '0804161380')"
      ]
    },
    {
      "cell_type": "code",
      "execution_count": 38,
      "metadata": {
        "colab": {
          "base_uri": "https://localhost:8080/"
        },
        "id": "ns-L9jZxvl7o",
        "outputId": "1d926a6e-413c-4c21-ad39-99c8cd6b1ae3"
      },
      "outputs": [
        {
          "output_type": "stream",
          "name": "stdout",
          "text": [
            "--- Recommendations created using Tfidf with reviewText\n",
            "\n",
            "--- Displaying games similar to: Legend of Zelda Box Set Prima Official Game Guide\n",
            "\n",
            "['The Legend of Zelda: Skyward Sword']\n",
            "['The Legend of Zelda: Twilight Princess']\n",
            "['The Legend of Zelda: Twilight Princess']\n",
            "['The Legend of Zelda: Twilight Princess (Nintendo Selects)']\n",
            "[\"The Legend of Zelda: Collector's Edition (Zelda / Zelda II: The Adventure of Link / Ocarina of Time / Majora's Mask)\"]\n",
            "['The Legend of Zelda: Ocarina of Time']\n",
            "['The Legend of Zelda: The Wind Waker']\n",
            "['The Legend of Zelda:  Phantom Hourglass']\n",
            "['The Legend of Zelda: A Link to the Past']\n",
            "['The Legend of Zelda: Spirit Tracks']\n"
          ]
        }
      ],
      "source": [
        "print('--- Recommendations created using Tfidf with reviewText')\n",
        "print('\\n--- Displaying games similar to: {}\\n'.format(df[df['asin']=='0804161380']['title'].unique()[0]))\n",
        "display_recommendations(meta, 'with reviewText', 'tfidf', '0804161380')"
      ]
    },
    {
      "cell_type": "code",
      "source": [
        "print('--- Recommendations created using CV without reviewText')\n",
        "print('\\n--- Displaying games similar to: {}\\n'.format(df[df['asin']=='0804161380']['title'].unique()[0]))\n",
        "display_recommendations(meta, 'without reviewText', 'cv', '0804161380')"
      ],
      "metadata": {
        "colab": {
          "base_uri": "https://localhost:8080/"
        },
        "id": "9o3uR_g73hRn",
        "outputId": "e200da0c-9c0a-4072-c073-e90864913c81"
      },
      "execution_count": 39,
      "outputs": [
        {
          "output_type": "stream",
          "name": "stdout",
          "text": [
            "--- Recommendations created using CV without reviewText\n",
            "\n",
            "--- Displaying games similar to: Legend of Zelda Box Set Prima Official Game Guide\n",
            "\n",
            "['Yoshi amiibo (Super Smash Bros Series)']\n",
            "['Killzone: Shadow Fall (PlayStation 4)']\n",
            "[\"Uncharted 4: A Thief's End - PlayStation 4\"]\n",
            "['Xbox 360 Wireless Controller - Glossy Black']\n",
            "['Xbox One Wireless Controller (Without 3.5 millimeter headset jack)']\n",
            "['Far Cry 4 - PlayStation 4']\n",
            "['Watch Dogs - PlayStation 4']\n",
            "[\"Assassin's Creed IV Black Flag - Playstation 3\"]\n",
            "['Destiny - Standard Edition - PlayStation 4']\n",
            "[\"Assassin's Creed Unity Limited Edition - PlayStation 4\"]\n"
          ]
        }
      ]
    },
    {
      "cell_type": "code",
      "source": [
        "print('--- Recommendations created using CV with reviewText')\n",
        "print('\\n--- Displaying games similar to: {}\\n'.format(df[df['asin']=='0804161380']['title'].unique()[0]))\n",
        "display_recommendations(meta, 'with reviewText', 'cv', '0804161380')"
      ],
      "metadata": {
        "colab": {
          "base_uri": "https://localhost:8080/"
        },
        "id": "qc9YoUlX3m1D",
        "outputId": "8294e474-d698-48c0-b13c-422341e41caf"
      },
      "execution_count": 40,
      "outputs": [
        {
          "output_type": "stream",
          "name": "stdout",
          "text": [
            "--- Recommendations created using CV with reviewText\n",
            "\n",
            "--- Displaying games similar to: Legend of Zelda Box Set Prima Official Game Guide\n",
            "\n",
            "['Bloodborne']\n",
            "[\"Assassin's Creed\"]\n",
            "['Uncharted 2: Among Thieves - Playstation 3']\n",
            "['Metal Gear Solid 4: Guns of the Patriots']\n",
            "['Destiny - Standard Edition - PlayStation 4']\n",
            "[' Mass Effect 2 Platinum Hits']\n",
            "['Wii']\n",
            "['Final Fantasy X']\n",
            "['Diablo III']\n",
            "['Grand Theft Auto IV']\n"
          ]
        }
      ]
    },
    {
      "cell_type": "markdown",
      "metadata": {
        "id": "pKVxO9V1lxj9"
      },
      "source": [
        "**Personalized Recommendations for Users**"
      ]
    },
    {
      "cell_type": "code",
      "execution_count": 41,
      "metadata": {
        "id": "Nxh_G1oulxj9"
      },
      "outputs": [],
      "source": [
        "user_df = df.loc[df[\"overall\"] == 5]\n",
        "user_df = df.groupby(\"reviewerID\")[\"asin\"].apply(lambda x: \",\".join(x)).reset_index()\n",
        "\n",
        "def get_rec_user(df, col, method, id):\n",
        "    \n",
        "    rec_set = set()\n",
        "    \n",
        "    product_list = user_df.loc[user_df['reviewerID'] == id]['asin']\n",
        "    product_list = list(product_list)[0].split(\",\")\n",
        "    for item in product_list:\n",
        "        rec_list = get_recommendations(df, col, method, item).head(2) #Top 2 recommendation for each product reviewed\n",
        "        \n",
        "        for r in rec_list:\n",
        "            rec_set.add(r)\n",
        "    \n",
        "    for i in rec_set:\n",
        "        print(df[df['asin'] == i]['title'].unique())"
      ]
    },
    {
      "cell_type": "code",
      "source": [
        "print('--- Recommendations created using Tfidf with reviewText')\n",
        "print('\\n--- Displaying games for reviewer: {}\\n'.format(df[df['reviewerID']=='A0380485C177Q6QQNJIX']['reviewerName'].unique()[0]))\n",
        "get_rec_user(meta,\"with reviewText\",'tfidf',\"A0380485C177Q6QQNJIX\")"
      ],
      "metadata": {
        "colab": {
          "base_uri": "https://localhost:8080/"
        },
        "id": "C-gLCtVk3_Yj",
        "outputId": "b240d580-b243-42a0-f5bd-43109d02ff19"
      },
      "execution_count": 43,
      "outputs": [
        {
          "output_type": "stream",
          "name": "stdout",
          "text": [
            "--- Recommendations created using Tfidf with reviewText\n",
            "\n",
            "--- Displaying games for reviewer: Franklin Tineo\n",
            "\n",
            "[\"Assassin's Creed\"]\n",
            "['AmazonBasics Heavy-Duty Vault Case for PlayStation Vita and Vita Slim (Officially Licensed by Sony)']\n",
            "['PlayStation Vita First Edition Bundle']\n",
            "['16GB PlayStation Vita Memory Card']\n",
            "['Need for Speed Most Wanted - Playstation 3']\n",
            "['Metal Gear Solid 2: Sons of Liberty']\n",
            "['Killzone 2 - Playstation 3']\n",
            "['Metal Gear Solid']\n",
            "['Killzone - PlayStation 2']\n",
            "['inFAMOUS: Second Son Limited Edition (PlayStation 4)']\n",
            "['PlayStation 4 500GB Console [Old Model][Discontinued]']\n",
            "['Gravity Rush Remastered - PlayStation 4']\n",
            "['Jak 3 - PlayStation 2']\n",
            "['Gravity Rush 2 - PlayStation 4']\n",
            "['Wipeout Pure - Sony PSP']\n",
            "['PlayStation 4 Battlefield 4 Launch Day Bundle']\n",
            "['inFAMOUS - Playstation 3']\n",
            "[\"Assassin's Creed - Playstation 3\"]\n",
            "['Need for Speed: Most Wanted']\n",
            "[\"Guitar Hero Encore: Rocks the 80's - PlayStation 2\"]\n",
            "['Nintendo 3DS - Flame Red']\n",
            "['PlayStation Vita Memory Card 64GB (PCH-Z641J)']\n",
            "['Jak II - PlayStation 2']\n",
            "['Nintendo 3DS XL - Black [Old Model]']\n",
            "['Guitar Hero III: Legends of Rock Bundle']\n",
            "['CTA Digital PS Vita Travel EVA Protective Case']\n"
          ]
        }
      ]
    },
    {
      "cell_type": "markdown",
      "metadata": {
        "id": "J2mi5LkB8Q19"
      },
      "source": [
        "# 5. Evaluation"
      ]
    },
    {
      "cell_type": "code",
      "execution_count": 52,
      "metadata": {
        "id": "pC6424XRxtAd"
      },
      "outputs": [],
      "source": [
        "def evaluate(items, df, col, method):\n",
        "    arr_buy = []\n",
        "    arr_view = []\n",
        "    print('--- Building Recommendations ---')\n",
        "    i = 1\n",
        "    for id in items:\n",
        "        recommendations_ = get_recommendations(df, col, method, id)[0:5]\n",
        "        recommendations_ = set(recommendations_)\n",
        "\n",
        "        also_buy_ = list(df[df['asin']==id].also_buy)[0]\n",
        "        also_buy_ = set(also_buy_)\n",
        "\n",
        "        also_view_ = list(df[df['asin']==id].also_view)[0]\n",
        "        also_view_ = set(also_view_)\n",
        "\n",
        "        intr_buy = also_buy_.intersection(recommendations_)\n",
        "        intr_view = also_view_.intersection(recommendations_)\n",
        "\n",
        "        arr_buy.append(len(intr_buy)/len(recommendations_))\n",
        "        arr_view.append(len(intr_view)/len(recommendations_))\n",
        "\n",
        "        if (i%20 == 0):\n",
        "            print('{} IDs processed'.format(i))\n",
        "        i += 1\n",
        "\n",
        "    print('\\n\\n--- Evaluation Result ---')\n",
        "    print('Model Parameters: {}, method-{}'.format(col, method))\n",
        "    buy_score = sum(arr_buy)/len(arr_buy)\n",
        "    view_score = sum(arr_view)/len(arr_view)\n",
        "\n",
        "    print('Also Buy Score: {}'.format(buy_score))\n",
        "    print('Also View Score: {}\\n\\n'.format(view_score))\n",
        "    return buy_score, view_score"
      ]
    },
    {
      "cell_type": "markdown",
      "source": [
        "Let us select a random sample to evaluate on"
      ],
      "metadata": {
        "id": "q0u1KAQUSC5r"
      }
    },
    {
      "cell_type": "code",
      "source": [
        "random.seed(1024)\n",
        "rdf = meta.sample(100)"
      ],
      "metadata": {
        "id": "GdSIu-gIRDrC"
      },
      "execution_count": 53,
      "outputs": []
    },
    {
      "cell_type": "code",
      "source": [
        "tfidf_without_reviewText_buy_score = evaluate(list(rdf.asin.values), meta, 'without reviewText', 'tfidf')"
      ],
      "metadata": {
        "colab": {
          "base_uri": "https://localhost:8080/"
        },
        "id": "AdtalZfcSB3k",
        "outputId": "b6d8c543-86ac-4c78-b53a-87a9a60e3ac4"
      },
      "execution_count": 54,
      "outputs": [
        {
          "output_type": "stream",
          "name": "stdout",
          "text": [
            "--- Building Recommendations ---\n",
            "20 IDs processed\n",
            "40 IDs processed\n",
            "60 IDs processed\n",
            "80 IDs processed\n",
            "100 IDs processed\n",
            "\n",
            "\n",
            "--- Evaluation Result ---\n",
            "Model Parameters: without reviewText, method-tfidf\n",
            "Also Buy Score: 0.26199999999999984\n",
            "Also View Score: 0.28799999999999987\n",
            "\n",
            "\n"
          ]
        }
      ]
    },
    {
      "cell_type": "code",
      "source": [
        "tfidf_without_reviewText_buy_score = evaluate(list(rdf.asin.values), meta, 'with reviewText', 'tfidf')"
      ],
      "metadata": {
        "colab": {
          "base_uri": "https://localhost:8080/"
        },
        "id": "p86uwfuySTph",
        "outputId": "5989ccc8-2613-41b6-e240-d91214b3f7dd"
      },
      "execution_count": 55,
      "outputs": [
        {
          "output_type": "stream",
          "name": "stdout",
          "text": [
            "--- Building Recommendations ---\n",
            "20 IDs processed\n",
            "40 IDs processed\n",
            "60 IDs processed\n",
            "80 IDs processed\n",
            "100 IDs processed\n",
            "\n",
            "\n",
            "--- Evaluation Result ---\n",
            "Model Parameters: with reviewText, method-tfidf\n",
            "Also Buy Score: 0.2959999999999998\n",
            "Also View Score: 0.36599999999999994\n",
            "\n",
            "\n"
          ]
        }
      ]
    },
    {
      "cell_type": "code",
      "source": [
        "tfidf_without_reviewText_buy_score = evaluate(list(rdf.asin.values), meta, 'without reviewText', 'cv')"
      ],
      "metadata": {
        "colab": {
          "base_uri": "https://localhost:8080/"
        },
        "id": "qzMEfA_NSUHv",
        "outputId": "aa40cc0b-6e0e-46ce-e5cd-82ddb3a6a4ac"
      },
      "execution_count": 56,
      "outputs": [
        {
          "output_type": "stream",
          "name": "stdout",
          "text": [
            "--- Building Recommendations ---\n",
            "20 IDs processed\n",
            "40 IDs processed\n",
            "60 IDs processed\n",
            "80 IDs processed\n",
            "100 IDs processed\n",
            "\n",
            "\n",
            "--- Evaluation Result ---\n",
            "Model Parameters: without reviewText, method-cv\n",
            "Also Buy Score: 0.06000000000000001\n",
            "Also View Score: 0.03600000000000001\n",
            "\n",
            "\n"
          ]
        }
      ]
    },
    {
      "cell_type": "code",
      "source": [
        "tfidf_without_reviewText_buy_score = evaluate(list(rdf.asin.values), meta, 'with reviewText', 'cv')"
      ],
      "metadata": {
        "colab": {
          "base_uri": "https://localhost:8080/"
        },
        "id": "0l_reSafSUdF",
        "outputId": "3dbd36cf-4603-4f68-cba6-8e0ec3b105bf"
      },
      "execution_count": 57,
      "outputs": [
        {
          "output_type": "stream",
          "name": "stdout",
          "text": [
            "--- Building Recommendations ---\n",
            "20 IDs processed\n",
            "40 IDs processed\n",
            "60 IDs processed\n",
            "80 IDs processed\n",
            "100 IDs processed\n",
            "\n",
            "\n",
            "--- Evaluation Result ---\n",
            "Model Parameters: with reviewText, method-cv\n",
            "Also Buy Score: 0.036000000000000004\n",
            "Also View Score: 0.018\n",
            "\n",
            "\n"
          ]
        }
      ]
    },
    {
      "cell_type": "markdown",
      "source": [
        "We can see that the tfidf method massively outperforms cout vectorizer and incorporating reviews further increases performance."
      ],
      "metadata": {
        "id": "c-eT3rP8Szmt"
      }
    },
    {
      "cell_type": "code",
      "source": [
        "meta_sentiment = meta\n",
        "meta_sentiment['sentiment'] = [TextBlob(x).sentiment.polarity for x in meta_sentiment['reviewText']]\n",
        "\n",
        "def get_rec_user2(df, col, method, id):\n",
        "    \n",
        "    rec_set = set()\n",
        "    \n",
        "    product_list = user_df.loc[user_df['reviewerID'] == id]['asin']\n",
        "    product_list = list(product_list)[0].split(\",\")\n",
        "    for item in product_list:\n",
        "        rec_list = get_recommendations(df, col, method, item).head(3) #Top 3 recommendation for each product reviewed\n",
        "        \n",
        "        for r in rec_list:\n",
        "            rec_set.add(r)\n",
        "    \n",
        "    for i in rec_set:\n",
        "        print(df[df['asin'] == i]['title'].unique(), df[df['asin'] == i]['sentiment'].unique())"
      ],
      "metadata": {
        "id": "Nki_sfuHTRHZ"
      },
      "execution_count": null,
      "outputs": []
    },
    {
      "cell_type": "code",
      "execution_count": 50,
      "metadata": {
        "colab": {
          "base_uri": "https://localhost:8080/"
        },
        "id": "9j_3RIGNlxkD",
        "outputId": "3cb279f5-8d60-43df-a62c-3c865daef4b3"
      },
      "outputs": [
        {
          "output_type": "stream",
          "name": "stdout",
          "text": [
            "['PlayStation Vita - Wifi'] [0.10032147]\n",
            "['Guitar Hero (Bundle with Guitar)'] [0.05447983]\n",
            "[\"Assassin's Creed\"] [0.03121219]\n",
            "['AmazonBasics Heavy-Duty Vault Case for PlayStation Vita and Vita Slim (Officially Licensed by Sony)'] [0.15200534]\n",
            "['PlayStation Vita First Edition Bundle'] [0.12163719]\n",
            "['16GB PlayStation Vita Memory Card'] [0.06429179]\n",
            "[\"PDP PSVita Pull 'N Go Folio\"] [0.09772855]\n",
            "['Need for Speed Most Wanted - Playstation 3'] [0.07401091]\n",
            "['Need for Speed: Most Wanted'] [0.07372272]\n",
            "['Metal Gear Solid 2: Sons of Liberty'] [0.06206398]\n",
            "['Killzone 2 - Playstation 3'] [0.07157758]\n",
            "['Jak and Daxter: The Precursor Legacy'] [0.04960144]\n",
            "['Metal Gear Solid'] [0.06570472]\n",
            "['Killzone - PlayStation 2'] [0.04276713]\n",
            "[\"Assassin's Creed II: Platinum Hits Edition\"] [0.07601453]\n",
            "['inFAMOUS: Second Son Limited Edition (PlayStation 4)'] [0.07041592]\n",
            "['PlayStation 4 500GB Console [Old Model][Discontinued]'] [0.13228985]\n",
            "['Gravity Rush Remastered - PlayStation 4'] [0.09492452]\n",
            "['Jak 3 - PlayStation 2'] [0.09602104]\n",
            "['Gravity Rush 2 - PlayStation 4'] [0.08070165]\n",
            "['PlayStation 4 Killzone Launch Day Bundle'] [0.15249402]\n",
            "['Wipeout Pure - Sony PSP'] [0.03835125]\n",
            "['PlayStation 4 Battlefield 4 Launch Day Bundle'] [0.12405212]\n",
            "['inFAMOUS - Playstation 3'] [0.03677528]\n",
            "[' Metal Gear Solid 4'] [0.06293106]\n",
            "[\"Assassin's Creed - Playstation 3\"] [0.05295993]\n",
            "['Nintendo New 3DS XL - Black'] [0.13365623]\n",
            "['inFAMOUS First Light - PS4 [Digital Code]'] [0.06272281]\n",
            "['Need for Speed: Most Wanted'] [0.10685179]\n",
            "[\"Guitar Hero Encore: Rocks the 80's - PlayStation 2\"] [0.07583765]\n",
            "['Nintendo 3DS - Flame Red'] [0.11211388]\n",
            "['PlayStation Vita Memory Card 64GB (PCH-Z641J)'] [0.08255984]\n",
            "['Jak II - PlayStation 2'] [0.03944632]\n",
            "['Need for Speed: Rivals'] [0.06636188]\n",
            "['Nintendo 3DS XL - Black [Old Model]'] [0.14048065]\n",
            "['Killzone Mercenary'] [0.11199486]\n",
            "['Guitar Hero III: Legends of Rock Bundle'] [0.11076198]\n",
            "['CTA Digital PS Vita Travel EVA Protective Case'] [0.19875773]\n"
          ]
        }
      ],
      "source": [
        "get_rec_user2(meta_sentiment,\"with reviewText\",'tfidf',\"A0380485C177Q6QQNJIX\")"
      ]
    }
  ],
  "metadata": {
    "accelerator": "GPU",
    "colab": {
      "machine_shape": "hm",
      "name": "video_games_content_based_filtering.ipynb",
      "provenance": [],
      "collapsed_sections": []
    },
    "kernelspec": {
      "display_name": "Python 3",
      "language": "python",
      "name": "python3"
    },
    "language_info": {
      "codemirror_mode": {
        "name": "ipython",
        "version": 3
      },
      "file_extension": ".py",
      "mimetype": "text/x-python",
      "name": "python",
      "nbconvert_exporter": "python",
      "pygments_lexer": "ipython3",
      "version": "3.8.8"
    }
  },
  "nbformat": 4,
  "nbformat_minor": 0
}