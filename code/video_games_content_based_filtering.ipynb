{
  "cells": [
    {
      "cell_type": "markdown",
      "metadata": {
        "id": "IzYtNwzw77dg"
      },
      "source": [
        "# 1. Import Libraries\n",
        "\n"
      ]
    },
    {
      "cell_type": "code",
      "execution_count": 1,
      "metadata": {
        "colab": {
          "base_uri": "https://localhost:8080/"
        },
        "id": "sHCYf0EMgJxA",
        "outputId": "c5be282b-3575-43e9-9dfe-58e4f61838ce"
      },
      "outputs": [
        {
          "output_type": "stream",
          "name": "stdout",
          "text": [
            "[nltk_data] Downloading package stopwords to /root/nltk_data...\n",
            "[nltk_data]   Unzipping corpora/stopwords.zip.\n",
            "[nltk_data] Downloading package wordnet to /root/nltk_data...\n",
            "[nltk_data]   Unzipping corpora/wordnet.zip.\n",
            "[nltk_data] Downloading package punkt to /root/nltk_data...\n",
            "[nltk_data]   Unzipping tokenizers/punkt.zip.\n"
          ]
        }
      ],
      "source": [
        "import re\n",
        "import os\n",
        "import random\n",
        "\n",
        "import numpy as np\n",
        "import pandas as pd\n",
        "import matplotlib.pyplot as plt\n",
        "import seaborn as sns\n",
        "import scipy\n",
        "\n",
        "from collections import defaultdict\n",
        "from sklearn.model_selection import train_test_split\n",
        "from sklearn.feature_extraction.text import ENGLISH_STOP_WORDS, CountVectorizer, TfidfVectorizer\n",
        "from sklearn.metrics.pairwise import linear_kernel\n",
        "\n",
        "import nltk\n",
        "nltk.download('stopwords');\n",
        "nltk.download('wordnet');\n",
        "nltk.download('punkt')\n",
        "\n",
        "from nltk.corpus import stopwords\n",
        "from nltk.tokenize import word_tokenize\n",
        "from nltk.stem.porter import *\n",
        "from nltk.stem.wordnet import WordNetLemmatizer\n",
        "\n",
        "from textblob import TextBlob"
      ]
    },
    {
      "cell_type": "markdown",
      "metadata": {
        "id": "GbEmustG8A1j"
      },
      "source": [
        "# 2. Load Data\n"
      ]
    },
    {
      "cell_type": "code",
      "execution_count": 2,
      "metadata": {
        "colab": {
          "base_uri": "https://localhost:8080/"
        },
        "id": "h5tAs_wzgeJ-",
        "outputId": "875e6652-2f00-494c-e79b-810568b21b3f"
      },
      "outputs": [
        {
          "output_type": "stream",
          "name": "stdout",
          "text": [
            "Mounted at /content/drive\n"
          ]
        }
      ],
      "source": [
        "from google.colab import drive\n",
        "drive.mount('/content/drive')"
      ]
    },
    {
      "cell_type": "code",
      "execution_count": 3,
      "metadata": {
        "colab": {
          "base_uri": "https://localhost:8080/",
          "height": 649
        },
        "id": "hHbyDRUlgOPe",
        "outputId": "1b811726-3b95-482b-9615-474de5f99012"
      },
      "outputs": [
        {
          "output_type": "execute_result",
          "data": {
            "text/html": [
              "<div>\n",
              "<style scoped>\n",
              "    .dataframe tbody tr th:only-of-type {\n",
              "        vertical-align: middle;\n",
              "    }\n",
              "\n",
              "    .dataframe tbody tr th {\n",
              "        vertical-align: top;\n",
              "    }\n",
              "\n",
              "    .dataframe thead th {\n",
              "        text-align: right;\n",
              "    }\n",
              "</style>\n",
              "<table border=\"1\" class=\"dataframe\">\n",
              "  <thead>\n",
              "    <tr style=\"text-align: right;\">\n",
              "      <th></th>\n",
              "      <th>overall</th>\n",
              "      <th>verified</th>\n",
              "      <th>reviewTime</th>\n",
              "      <th>reviewerID</th>\n",
              "      <th>asin</th>\n",
              "      <th>reviewerName</th>\n",
              "      <th>reviewText</th>\n",
              "      <th>summary</th>\n",
              "      <th>category</th>\n",
              "      <th>description</th>\n",
              "      <th>title</th>\n",
              "      <th>also_buy</th>\n",
              "      <th>brand</th>\n",
              "      <th>feature</th>\n",
              "      <th>also_view</th>\n",
              "      <th>similar_item</th>\n",
              "      <th>details</th>\n",
              "    </tr>\n",
              "  </thead>\n",
              "  <tbody>\n",
              "    <tr>\n",
              "      <th>0</th>\n",
              "      <td>5.0</td>\n",
              "      <td>False</td>\n",
              "      <td>2001-01-01</td>\n",
              "      <td>A3BEJOL2X8PS8I</td>\n",
              "      <td>B00004TC6E</td>\n",
              "      <td>ATHF Fan</td>\n",
              "      <td>Before I start this review let me get somethin...</td>\n",
              "      <td>The best RPG... Ever!</td>\n",
              "      <td>['Video Games', 'Retro Gaming &amp; Microconsoles'...</td>\n",
              "      <td>[\"While it's officially a sequel to the immens...</td>\n",
              "      <td>Chrono Cross - PlayStation</td>\n",
              "      <td>['B00002R28C', 'B00005LOXE', 'B00004Y57G', 'B0...</td>\n",
              "      <td>by\\n    \\n    Square Enix</td>\n",
              "      <td>['PSX']</td>\n",
              "      <td>['B0045L3SNQ', 'B00005LOXE', 'B00004Y57G', 'B0...</td>\n",
              "      <td>NaN</td>\n",
              "      <td>NaN</td>\n",
              "    </tr>\n",
              "    <tr>\n",
              "      <th>1</th>\n",
              "      <td>5.0</td>\n",
              "      <td>False</td>\n",
              "      <td>2003-01-01</td>\n",
              "      <td>A3E0MSKBIWMU6F</td>\n",
              "      <td>B000069D39</td>\n",
              "      <td>obryanstars</td>\n",
              "      <td>Well, at first, getting used to the controls i...</td>\n",
              "      <td>A Great Game, a HALO for the PS2 (maybe)</td>\n",
              "      <td>['Video Games', 'Retro Gaming &amp;amp; Microconso...</td>\n",
              "      <td>['The evil race of TimeSplitters is traveling ...</td>\n",
              "      <td>Time Splitters 2 - PlayStation 2</td>\n",
              "      <td>['B00004WKN9', 'B0006ZJP8M', 'B0009O7HVM', 'B0...</td>\n",
              "      <td>by\\n    \\n    Square Enix</td>\n",
              "      <td>[\"This time you've got to stop the evil lords ...</td>\n",
              "      <td>['B0006ZJP8M', 'B00006AVB1', 'B00004WKN9', 'B0...</td>\n",
              "      <td>NaN</td>\n",
              "      <td>NaN</td>\n",
              "    </tr>\n",
              "    <tr>\n",
              "      <th>2</th>\n",
              "      <td>4.0</td>\n",
              "      <td>False</td>\n",
              "      <td>2003-01-01</td>\n",
              "      <td>A3KI73MFVL0QWH</td>\n",
              "      <td>B00005NN5J</td>\n",
              "      <td>GAMEMASTER</td>\n",
              "      <td>this game is pretty good its graphics and game...</td>\n",
              "      <td>cool game</td>\n",
              "      <td>['Video Games', 'Retro Gaming &amp; Microconsoles'...</td>\n",
              "      <td>[\"Danger takes wing again, as Namco's breaknec...</td>\n",
              "      <td>Namco Ace Combat 4 Shattered Skies</td>\n",
              "      <td>['B01L1P49OA', 'B00JA81WQE', 'B0000C7GHG', 'B0...</td>\n",
              "      <td>Playstation</td>\n",
              "      <td>['Soar through the blue in 24 missions, piloti...</td>\n",
              "      <td>['B00065QTT0', 'B01A0P8NBC', 'B015PJ68BK', 'B0...</td>\n",
              "      <td>NaN</td>\n",
              "      <td>NaN</td>\n",
              "    </tr>\n",
              "    <tr>\n",
              "      <th>3</th>\n",
              "      <td>5.0</td>\n",
              "      <td>False</td>\n",
              "      <td>2003-01-01</td>\n",
              "      <td>A3E0MSKBIWMU6F</td>\n",
              "      <td>B00007E1OC</td>\n",
              "      <td>obryanstars</td>\n",
              "      <td>The Lord of the Rings: The Two Towers (the gam...</td>\n",
              "      <td>So Much Fun, So Many Things To Do!  A Classic!!!</td>\n",
              "      <td>['Video Games', 'Retro Gaming &amp; Microconsoles'...</td>\n",
              "      <td>['Features detailed tactical component.', '&lt;I&gt;...</td>\n",
              "      <td>Lord of the Rings The Two Towers - Gamecube</td>\n",
              "      <td>['B00009VE6B', 'B0002I9RQI', 'B01LWA474D', 'B0...</td>\n",
              "      <td>by\\n    \\n    Electronic Arts</td>\n",
              "      <td>[\"The evil Wizard Saruman has built is buildin...</td>\n",
              "      <td>['B00009VE6B', 'B00008KTW7', 'B0002I9RQI', 'B0...</td>\n",
              "      <td>NaN</td>\n",
              "      <td>NaN</td>\n",
              "    </tr>\n",
              "    <tr>\n",
              "      <th>4</th>\n",
              "      <td>4.0</td>\n",
              "      <td>False</td>\n",
              "      <td>2003-01-01</td>\n",
              "      <td>A3713PP4MADKED</td>\n",
              "      <td>B00006GSNZ</td>\n",
              "      <td>Nick Watkins</td>\n",
              "      <td>I got this game for Christmas, and played it a...</td>\n",
              "      <td>Good...BUT TOO HARD!!!!!!</td>\n",
              "      <td>['Video Games', 'Retro Gaming &amp; Microconsoles'...</td>\n",
              "      <td>[\"Battle the evil forces of Mordor and experie...</td>\n",
              "      <td>Lord of the Rings The Two Towers - PlayStation 2</td>\n",
              "      <td>['B00009VE6D', 'B00006LEM9', 'B0002IQD1U', 'B0...</td>\n",
              "      <td>by\\n    \\n    Electronic Arts</td>\n",
              "      <td>['Enter the pastoral world of Middle Earth whe...</td>\n",
              "      <td>['B00009VE6D', 'B00006LEM9', 'B0002IQD1U', 'B0...</td>\n",
              "      <td>NaN</td>\n",
              "      <td>NaN</td>\n",
              "    </tr>\n",
              "  </tbody>\n",
              "</table>\n",
              "</div>"
            ],
            "text/plain": [
              "   overall  verified  ... similar_item details\n",
              "0      5.0     False  ...          NaN     NaN\n",
              "1      5.0     False  ...          NaN     NaN\n",
              "2      4.0     False  ...          NaN     NaN\n",
              "3      5.0     False  ...          NaN     NaN\n",
              "4      4.0     False  ...          NaN     NaN\n",
              "\n",
              "[5 rows x 17 columns]"
            ]
          },
          "metadata": {},
          "execution_count": 3
        }
      ],
      "source": [
        "data = pd.read_csv('/content/drive/MyDrive/Applied_ML/data/10_core_Video_Games_Processed.csv')\n",
        "data.head()"
      ]
    },
    {
      "cell_type": "markdown",
      "metadata": {
        "id": "9hzzCDc-8GXm"
      },
      "source": [
        "# 3. Preprocessing"
      ]
    },
    {
      "cell_type": "markdown",
      "source": [
        "> 'description' - game description - maps one-to-one with 'asin'\n",
        "> \n",
        "> 'category' - game category - maps one-to-one with 'asin'\n",
        "> \n",
        "> 'brand' - game brand - maps one-to-one with 'asin'\n",
        "> \n",
        "> 'feature' - game features - maps one-to-one with 'asin'\n",
        "> \n",
        "> 'reviewText' - review for a game - maps many-to-one with 'asin' \n",
        "> \n",
        "> 'summary' - concise summary of the review - maps many-to-one with 'asin' \n",
        "> \n",
        "> 'overall' - rating given by reviewer - maps many-to-one with 'asin'\n",
        "> \n",
        "> 'also_buy' - games recommended by amazon for buying together - maps one-to-one with 'asin'\n",
        "> \n",
        "> 'also_view' - games recommended by amazon for viewier together - maps one-to-one with 'asin'"
      ],
      "metadata": {
        "id": "kMU0Snu7jbgg"
      }
    },
    {
      "cell_type": "code",
      "execution_count": 4,
      "metadata": {
        "colab": {
          "base_uri": "https://localhost:8080/",
          "height": 561
        },
        "id": "H6oFl84xgSdE",
        "outputId": "7555d2f6-9f38-4bd0-dffc-439b2457248a"
      },
      "outputs": [
        {
          "output_type": "execute_result",
          "data": {
            "text/html": [
              "<div>\n",
              "<style scoped>\n",
              "    .dataframe tbody tr th:only-of-type {\n",
              "        vertical-align: middle;\n",
              "    }\n",
              "\n",
              "    .dataframe tbody tr th {\n",
              "        vertical-align: top;\n",
              "    }\n",
              "\n",
              "    .dataframe thead th {\n",
              "        text-align: right;\n",
              "    }\n",
              "</style>\n",
              "<table border=\"1\" class=\"dataframe\">\n",
              "  <thead>\n",
              "    <tr style=\"text-align: right;\">\n",
              "      <th></th>\n",
              "      <th>asin</th>\n",
              "      <th>title</th>\n",
              "      <th>also_buy</th>\n",
              "      <th>also_view</th>\n",
              "      <th>overall</th>\n",
              "      <th>description</th>\n",
              "      <th>category</th>\n",
              "      <th>brand</th>\n",
              "      <th>feature</th>\n",
              "      <th>reviewText</th>\n",
              "      <th>summary</th>\n",
              "    </tr>\n",
              "  </thead>\n",
              "  <tbody>\n",
              "    <tr>\n",
              "      <th>0</th>\n",
              "      <td>0804161380</td>\n",
              "      <td>Legend of Zelda Box Set Prima Official Game Guide</td>\n",
              "      <td>['1911015214', '1911015222', '1506703356', '11...</td>\n",
              "      <td>['1911015486', '1506703356', '1616550414', '15...</td>\n",
              "      <td>4.733333</td>\n",
              "      <td>[\"It's 6 Legend Of Zelda strategy guides, offe...</td>\n",
              "      <td></td>\n",
              "      <td>DIAMOND SELECT TOYS</td>\n",
              "      <td>['Set includes 6x Legend Of Zelda strategy gui...</td>\n",
              "      <td>['amazing\\n\\ncool awesome interesting guides o...</td>\n",
              "      <td>['Great' 'Five Stars' 'Five Stars' 'Epic colle...</td>\n",
              "    </tr>\n",
              "    <tr>\n",
              "      <th>1</th>\n",
              "      <td>9629971372</td>\n",
              "      <td>Dotop Sony Playstation 2 PS2 64MB Memory Card</td>\n",
              "      <td>['B01LY4QRT8', 'B0000C7GHG', 'B00004SQPD', 'B0...</td>\n",
              "      <td></td>\n",
              "      <td>4.588235</td>\n",
              "      <td>[\"This is Memory Card 128MB for PlayStation 2 ...</td>\n",
              "      <td>['Video Games', 'Retro Gaming &amp;amp; Microconso...</td>\n",
              "      <td>Dotop</td>\n",
              "      <td>['brand new']</td>\n",
              "      <td>['How can you go wrong with obtaining a 128 Me...</td>\n",
              "      <td>['Works on 95% of games!' 'nice' 'As Expected'...</td>\n",
              "    </tr>\n",
              "    <tr>\n",
              "      <th>2</th>\n",
              "      <td>B000006OVJ</td>\n",
              "      <td>Mega Man Legends</td>\n",
              "      <td>['B00004XONL', 'B0045L3SNQ', 'B0009XBWY6', 'B0...</td>\n",
              "      <td>['B0045L3SNQ', 'B00004XONL', 'B00000K1VC', 'B0...</td>\n",
              "      <td>4.400000</td>\n",
              "      <td>['It is a world covered by endless water. Only...</td>\n",
              "      <td>['Video Games', 'Retro Gaming &amp; Microconsoles'...</td>\n",
              "      <td>Capcom</td>\n",
              "      <td></td>\n",
              "      <td>['Well as far as the person who sold this to m...</td>\n",
              "      <td>['Hmm' 'Mega Man Legends For The PlayStation'\\...</td>\n",
              "    </tr>\n",
              "    <tr>\n",
              "      <th>3</th>\n",
              "      <td>B000006P0K</td>\n",
              "      <td>Tekken 2</td>\n",
              "      <td>['B00000K2X5', 'B000006P0J', 'B0000664JF', 'B0...</td>\n",
              "      <td>['B00000K2X5', 'B0002CHJ8C', 'B0000664JF', 'B0...</td>\n",
              "      <td>5.000000</td>\n",
              "      <td>['New green label', \"They're all here Heihachi...</td>\n",
              "      <td>['Video Games', 'Retro Gaming &amp; Microconsoles'...</td>\n",
              "      <td>Namco</td>\n",
              "      <td></td>\n",
              "      <td>[\"Same goes for Tekken 2: played but never own...</td>\n",
              "      <td>['Tekken 2' 'Five Stars' 'One of the best figh...</td>\n",
              "    </tr>\n",
              "    <tr>\n",
              "      <th>4</th>\n",
              "      <td>B000006RGR</td>\n",
              "      <td>Tomb Raider II</td>\n",
              "      <td>['B00000DMB4', 'B008LYNLFI', 'B00001ZT9E', 'B0...</td>\n",
              "      <td>['B008LYNLFI', 'B00000DMB4', 'B00002SFNG', 'B0...</td>\n",
              "      <td>4.833333</td>\n",
              "      <td>[\"Lara's Back. Explore new worlds. Awesome Cla...</td>\n",
              "      <td>['Video Games', 'Retro Gaming &amp; Microconsoles'...</td>\n",
              "      <td>by\\n    \\n    Square Enix</td>\n",
              "      <td>['Classic action/adventure game sequel', 'New ...</td>\n",
              "      <td>[\"Tomb Raider II is the best of the series, fo...</td>\n",
              "      <td>['best tomb raider' 'A better game than the or...</td>\n",
              "    </tr>\n",
              "  </tbody>\n",
              "</table>\n",
              "</div>"
            ],
            "text/plain": [
              "         asin  ...                                            summary\n",
              "0  0804161380  ...  ['Great' 'Five Stars' 'Five Stars' 'Epic colle...\n",
              "1  9629971372  ...  ['Works on 95% of games!' 'nice' 'As Expected'...\n",
              "2  B000006OVJ  ...  ['Hmm' 'Mega Man Legends For The PlayStation'\\...\n",
              "3  B000006P0K  ...  ['Tekken 2' 'Five Stars' 'One of the best figh...\n",
              "4  B000006RGR  ...  ['best tomb raider' 'A better game than the or...\n",
              "\n",
              "[5 rows x 11 columns]"
            ]
          },
          "metadata": {},
          "execution_count": 4
        }
      ],
      "source": [
        "data[['asin', 'description', 'category', 'brand', 'feature', 'reviewText', \n",
        "      'summary', 'overall', 'also_buy', 'also_view']] = data[['asin', 'description', 'category', 'brand', 'feature', 'reviewText', \n",
        "                                                   \n",
        "                                                              'summary','overall', 'also_buy', 'also_view']].fillna('')\n",
        "meta = data[['asin', 'title', 'description', 'category', 'brand', \n",
        "             'feature', 'reviewText', 'summary', 'overall', 'also_buy', 'also_view']]\n",
        "\n",
        "# mean - for overall rating\n",
        "# first - for columns uniquely mapped to 'asin' \n",
        "# concatenate - for columns that map many-to-one with 'asin' \n",
        "meta = meta.groupby(['asin', 'title', 'also_buy', 'also_view'], as_index=False).agg({'overall':'mean', \n",
        "                                                                                     'description':'first',\n",
        "                                                                                     'category':'first',\n",
        "                                                                                     'brand':'first',\n",
        "                                                                                     'feature':'first',\n",
        "                                                                                     'reviewText': lambda x: ''.join(str(x.values)),\n",
        "                                                                                     'summary': lambda x: ''.join(str(x.values))})\n",
        "\n",
        "meta.head()"
      ]
    },
    {
      "cell_type": "code",
      "source": [
        "type(meta['also_buy'][1])"
      ],
      "metadata": {
        "colab": {
          "base_uri": "https://localhost:8080/"
        },
        "id": "GAop3z4oon-v",
        "outputId": "47988fc9-3b7d-49a2-c623-b01fb303dc30"
      },
      "execution_count": 5,
      "outputs": [
        {
          "output_type": "execute_result",
          "data": {
            "text/plain": [
              "str"
            ]
          },
          "metadata": {},
          "execution_count": 5
        }
      ]
    },
    {
      "cell_type": "code",
      "execution_count": 6,
      "metadata": {
        "colab": {
          "base_uri": "https://localhost:8080/",
          "height": 612
        },
        "id": "gKpWZ83RgSZJ",
        "outputId": "b6f161a1-09e7-47b5-d69e-723219048db9"
      },
      "outputs": [
        {
          "output_type": "execute_result",
          "data": {
            "text/html": [
              "<div>\n",
              "<style scoped>\n",
              "    .dataframe tbody tr th:only-of-type {\n",
              "        vertical-align: middle;\n",
              "    }\n",
              "\n",
              "    .dataframe tbody tr th {\n",
              "        vertical-align: top;\n",
              "    }\n",
              "\n",
              "    .dataframe thead th {\n",
              "        text-align: right;\n",
              "    }\n",
              "</style>\n",
              "<table border=\"1\" class=\"dataframe\">\n",
              "  <thead>\n",
              "    <tr style=\"text-align: right;\">\n",
              "      <th></th>\n",
              "      <th>asin</th>\n",
              "      <th>title</th>\n",
              "      <th>also_buy</th>\n",
              "      <th>also_view</th>\n",
              "      <th>overall</th>\n",
              "      <th>description</th>\n",
              "      <th>category</th>\n",
              "      <th>brand</th>\n",
              "      <th>feature</th>\n",
              "      <th>reviewText</th>\n",
              "      <th>summary</th>\n",
              "    </tr>\n",
              "  </thead>\n",
              "  <tbody>\n",
              "    <tr>\n",
              "      <th>0</th>\n",
              "      <td>0804161380</td>\n",
              "      <td>Legend of Zelda Box Set Prima Official Game Guide</td>\n",
              "      <td>[1911015214, 1911015222, 1506703356, 110189843...</td>\n",
              "      <td>[1911015486, 1506703356, 1616550414, 150670740...</td>\n",
              "      <td>4.733333</td>\n",
              "      <td>its 6 legend of zelda strategy guides offered ...</td>\n",
              "      <td></td>\n",
              "      <td>diamond select toys</td>\n",
              "      <td>set includes 6x legend of zelda strategy guide...</td>\n",
              "      <td>amazingnncool awesome interesting guides of th...</td>\n",
              "      <td>great five stars five stars epic collection fi...</td>\n",
              "    </tr>\n",
              "    <tr>\n",
              "      <th>1</th>\n",
              "      <td>9629971372</td>\n",
              "      <td>Dotop Sony Playstation 2 PS2 64MB Memory Card</td>\n",
              "      <td>[B01LY4QRT8, B0000C7GHG, B00004SQPD, B000SEU92...</td>\n",
              "      <td>[]</td>\n",
              "      <td>4.588235</td>\n",
              "      <td>this is memory card 128mb for playstation 2 ps...</td>\n",
              "      <td>video games retro gaming amp microconsoles pla...</td>\n",
              "      <td>dotop</td>\n",
              "      <td>brand new</td>\n",
              "      <td>how can you go wrong with obtaining a 128 mega...</td>\n",
              "      <td>works on 95 of games nice as expected my first...</td>\n",
              "    </tr>\n",
              "    <tr>\n",
              "      <th>2</th>\n",
              "      <td>B000006OVJ</td>\n",
              "      <td>Mega Man Legends</td>\n",
              "      <td>[B00004XONL, B0045L3SNQ, B0009XBWY6, B00005MA9...</td>\n",
              "      <td>[B0045L3SNQ, B00004XONL, B00000K1VC, B000050FA...</td>\n",
              "      <td>4.400000</td>\n",
              "      <td>it is a world covered by endless water only sm...</td>\n",
              "      <td>video games retro gaming  microconsoles playst...</td>\n",
              "      <td>capcom</td>\n",
              "      <td></td>\n",
              "      <td>well as far as the person who sold this to me ...</td>\n",
              "      <td>hmm mega man legends for the playstation megam...</td>\n",
              "    </tr>\n",
              "    <tr>\n",
              "      <th>3</th>\n",
              "      <td>B000006P0K</td>\n",
              "      <td>Tekken 2</td>\n",
              "      <td>[B00000K2X5, B000006P0J, B0000664JF, B0002CHJ8...</td>\n",
              "      <td>[B00000K2X5, B0002CHJ8C, B0000664JF, B000006P0...</td>\n",
              "      <td>5.000000</td>\n",
              "      <td>new green label theyre all here heihachi paul ...</td>\n",
              "      <td>video games retro gaming  microconsoles playst...</td>\n",
              "      <td>namco</td>\n",
              "      <td></td>\n",
              "      <td>same goes for tekken 2 played but never owned ...</td>\n",
              "      <td>tekken 2 five stars one of the best fighting g...</td>\n",
              "    </tr>\n",
              "    <tr>\n",
              "      <th>4</th>\n",
              "      <td>B000006RGR</td>\n",
              "      <td>Tomb Raider II</td>\n",
              "      <td>[B00000DMB4, B008LYNLFI, B00001ZT9E, B000006RG...</td>\n",
              "      <td>[B008LYNLFI, B00000DMB4, B00002SFNG, B00001ZT9...</td>\n",
              "      <td>4.833333</td>\n",
              "      <td>laras back explore new worlds awesome classic ...</td>\n",
              "      <td>video games retro gaming  microconsoles playst...</td>\n",
              "      <td>by        square enix</td>\n",
              "      <td>classic actionadventure game sequel new moves ...</td>\n",
              "      <td>tomb raider ii is the best of the series follo...</td>\n",
              "      <td>best tomb raider a better game than the origin...</td>\n",
              "    </tr>\n",
              "  </tbody>\n",
              "</table>\n",
              "</div>"
            ],
            "text/plain": [
              "         asin  ...                                            summary\n",
              "0  0804161380  ...  great five stars five stars epic collection fi...\n",
              "1  9629971372  ...  works on 95 of games nice as expected my first...\n",
              "2  B000006OVJ  ...  hmm mega man legends for the playstation megam...\n",
              "3  B000006P0K  ...  tekken 2 five stars one of the best fighting g...\n",
              "4  B000006RGR  ...  best tomb raider a better game than the origin...\n",
              "\n",
              "[5 rows x 11 columns]"
            ]
          },
          "metadata": {},
          "execution_count": 6
        }
      ],
      "source": [
        "process = lambda x: str(x).replace(' ', '').replace(\"'\", '')[1:-1].split(',')\n",
        "cleanText = lambda x: (re.sub(r'[^A-Za-z0-9 ]+', '', x)).lower()\n",
        "\n",
        "meta[['description', 'category', 'brand', 'feature', 'reviewText', 'summary', 'also_buy', 'also_view']] = meta.apply({\n",
        "          'description': lambda x: cleanText(x), \n",
        "          'category': lambda x: cleanText(x), \n",
        "          'brand': lambda x: cleanText(x), \n",
        "          'feature': lambda x: cleanText(x), \n",
        "          'reviewText': lambda x: cleanText(x), \n",
        "          'summary': lambda x: cleanText(x), \n",
        "          'also_buy': lambda x: process(x), \n",
        "          'also_view': lambda x: process(x)})\n",
        "\n",
        "meta.head()"
      ]
    },
    {
      "cell_type": "code",
      "execution_count": 7,
      "metadata": {
        "colab": {
          "base_uri": "https://localhost:8080/",
          "height": 595
        },
        "id": "E8ioa89YgSVi",
        "outputId": "0236272a-6284-48a2-ef4a-f587ced223db"
      },
      "outputs": [
        {
          "output_type": "execute_result",
          "data": {
            "text/html": [
              "<div>\n",
              "<style scoped>\n",
              "    .dataframe tbody tr th:only-of-type {\n",
              "        vertical-align: middle;\n",
              "    }\n",
              "\n",
              "    .dataframe tbody tr th {\n",
              "        vertical-align: top;\n",
              "    }\n",
              "\n",
              "    .dataframe thead th {\n",
              "        text-align: right;\n",
              "    }\n",
              "</style>\n",
              "<table border=\"1\" class=\"dataframe\">\n",
              "  <thead>\n",
              "    <tr style=\"text-align: right;\">\n",
              "      <th></th>\n",
              "      <th>asin</th>\n",
              "      <th>title</th>\n",
              "      <th>also_buy</th>\n",
              "      <th>also_view</th>\n",
              "      <th>overall</th>\n",
              "      <th>description</th>\n",
              "      <th>category</th>\n",
              "      <th>brand</th>\n",
              "      <th>feature</th>\n",
              "      <th>reviewText</th>\n",
              "      <th>summary</th>\n",
              "    </tr>\n",
              "  </thead>\n",
              "  <tbody>\n",
              "    <tr>\n",
              "      <th>0</th>\n",
              "      <td>0804161380</td>\n",
              "      <td>Legend of Zelda Box Set Prima Official Game Guide</td>\n",
              "      <td>[1911015214, 1911015222, 1506703356, 110189843...</td>\n",
              "      <td>[1911015486, 1506703356, 1616550414, 150670740...</td>\n",
              "      <td>4.733333</td>\n",
              "      <td>6 legend zelda strategy guides offered numbere...</td>\n",
              "      <td></td>\n",
              "      <td>diamond select toys</td>\n",
              "      <td>set includes 6x legend zelda strategy guides o...</td>\n",
              "      <td>amazingnncool awesome interesting guides legen...</td>\n",
              "      <td>great five stars five stars epic collection fi...</td>\n",
              "    </tr>\n",
              "    <tr>\n",
              "      <th>1</th>\n",
              "      <td>9629971372</td>\n",
              "      <td>Dotop Sony Playstation 2 PS2 64MB Memory Card</td>\n",
              "      <td>[B01LY4QRT8, B0000C7GHG, B00004SQPD, B000SEU92...</td>\n",
              "      <td>[]</td>\n",
              "      <td>4.588235</td>\n",
              "      <td>memory card 128mb playstation 2 ps2 building b...</td>\n",
              "      <td>video games retro gaming amp microconsoles pla...</td>\n",
              "      <td>dotop</td>\n",
              "      <td>brand new</td>\n",
              "      <td>go wrong obtaining 128 megabyte memory card ps...</td>\n",
              "      <td>works 95 games nice expected first ps2 memory ...</td>\n",
              "    </tr>\n",
              "    <tr>\n",
              "      <th>2</th>\n",
              "      <td>B000006OVJ</td>\n",
              "      <td>Mega Man Legends</td>\n",
              "      <td>[B00004XONL, B0045L3SNQ, B0009XBWY6, B00005MA9...</td>\n",
              "      <td>[B0045L3SNQ, B00004XONL, B00000K1VC, B000050FA...</td>\n",
              "      <td>4.400000</td>\n",
              "      <td>world covered endless water small patches land...</td>\n",
              "      <td>video games retro gaming microconsoles playsta...</td>\n",
              "      <td>capcom</td>\n",
              "      <td></td>\n",
              "      <td>well far person sold goes game came described ...</td>\n",
              "      <td>hmm mega man legends playstation megaman ocari...</td>\n",
              "    </tr>\n",
              "    <tr>\n",
              "      <th>3</th>\n",
              "      <td>B000006P0K</td>\n",
              "      <td>Tekken 2</td>\n",
              "      <td>[B00000K2X5, B000006P0J, B0000664JF, B0002CHJ8...</td>\n",
              "      <td>[B00000K2X5, B0002CHJ8C, B0000664JF, B000006P0...</td>\n",
              "      <td>5.000000</td>\n",
              "      <td>new green label theyre heihachi paul phoenix k...</td>\n",
              "      <td>video games retro gaming microconsoles playsta...</td>\n",
              "      <td>namco</td>\n",
              "      <td></td>\n",
              "      <td>goes tekken 2 played never owned im officially...</td>\n",
              "      <td>tekken 2 five stars one best fighting games ti...</td>\n",
              "    </tr>\n",
              "    <tr>\n",
              "      <th>4</th>\n",
              "      <td>B000006RGR</td>\n",
              "      <td>Tomb Raider II</td>\n",
              "      <td>[B00000DMB4, B008LYNLFI, B00001ZT9E, B000006RG...</td>\n",
              "      <td>[B008LYNLFI, B00000DMB4, B00002SFNG, B00001ZT9...</td>\n",
              "      <td>4.833333</td>\n",
              "      <td>laras back explore new worlds awesome classic ...</td>\n",
              "      <td>video games retro gaming microconsoles playsta...</td>\n",
              "      <td>square enix</td>\n",
              "      <td>classic actionadventure game sequel new moves ...</td>\n",
              "      <td>tomb raider ii best series followed original s...</td>\n",
              "      <td>best tomb raider better game original perfect ...</td>\n",
              "    </tr>\n",
              "  </tbody>\n",
              "</table>\n",
              "</div>"
            ],
            "text/plain": [
              "         asin  ...                                            summary\n",
              "0  0804161380  ...  great five stars five stars epic collection fi...\n",
              "1  9629971372  ...  works 95 games nice expected first ps2 memory ...\n",
              "2  B000006OVJ  ...  hmm mega man legends playstation megaman ocari...\n",
              "3  B000006P0K  ...  tekken 2 five stars one best fighting games ti...\n",
              "4  B000006RGR  ...  best tomb raider better game original perfect ...\n",
              "\n",
              "[5 rows x 11 columns]"
            ]
          },
          "metadata": {},
          "execution_count": 7
        }
      ],
      "source": [
        "stop = stopwords.words('english')\n",
        "removeStopWords = lambda x:' '.join([word for word in x.split() if word not in (stop)])\n",
        "\n",
        "meta[['description', 'category', 'brand', 'feature', 'reviewText', 'summary']] = meta.apply({\n",
        "    'description': lambda x: removeStopWords(x), \n",
        "    'category': lambda x: removeStopWords(x), \n",
        "    'brand': lambda x: removeStopWords(x), \n",
        "    'feature': lambda x: removeStopWords(x),\n",
        "    'reviewText': lambda x: removeStopWords(x), \n",
        "    'summary': lambda x: removeStopWords(x)})\n",
        "\n",
        "meta.head()"
      ]
    },
    {
      "cell_type": "code",
      "execution_count": 8,
      "metadata": {
        "colab": {
          "base_uri": "https://localhost:8080/",
          "height": 612
        },
        "id": "lnc6sbSbgSSg",
        "outputId": "f37492bb-7147-443f-e472-1eb63c8dd931"
      },
      "outputs": [
        {
          "output_type": "execute_result",
          "data": {
            "text/html": [
              "<div>\n",
              "<style scoped>\n",
              "    .dataframe tbody tr th:only-of-type {\n",
              "        vertical-align: middle;\n",
              "    }\n",
              "\n",
              "    .dataframe tbody tr th {\n",
              "        vertical-align: top;\n",
              "    }\n",
              "\n",
              "    .dataframe thead th {\n",
              "        text-align: right;\n",
              "    }\n",
              "</style>\n",
              "<table border=\"1\" class=\"dataframe\">\n",
              "  <thead>\n",
              "    <tr style=\"text-align: right;\">\n",
              "      <th></th>\n",
              "      <th>asin</th>\n",
              "      <th>title</th>\n",
              "      <th>also_buy</th>\n",
              "      <th>also_view</th>\n",
              "      <th>overall</th>\n",
              "      <th>description</th>\n",
              "      <th>category</th>\n",
              "      <th>brand</th>\n",
              "      <th>feature</th>\n",
              "      <th>reviewText</th>\n",
              "      <th>summary</th>\n",
              "    </tr>\n",
              "  </thead>\n",
              "  <tbody>\n",
              "    <tr>\n",
              "      <th>0</th>\n",
              "      <td>0804161380</td>\n",
              "      <td>Legend of Zelda Box Set Prima Official Game Guide</td>\n",
              "      <td>[1911015214, 1911015222, 1506703356, 110189843...</td>\n",
              "      <td>[1911015486, 1506703356, 1616550414, 150670740...</td>\n",
              "      <td>4.733333</td>\n",
              "      <td>6 legend zelda strategy guide offered numbered...</td>\n",
              "      <td></td>\n",
              "      <td>diamond select toy</td>\n",
              "      <td>set includes 6x legend zelda strategy guide of...</td>\n",
              "      <td>amazingnncool awesome interesting guide legend...</td>\n",
              "      <td>great five star five star epic collection five...</td>\n",
              "    </tr>\n",
              "    <tr>\n",
              "      <th>1</th>\n",
              "      <td>9629971372</td>\n",
              "      <td>Dotop Sony Playstation 2 PS2 64MB Memory Card</td>\n",
              "      <td>[B01LY4QRT8, B0000C7GHG, B00004SQPD, B000SEU92...</td>\n",
              "      <td>[]</td>\n",
              "      <td>4.588235</td>\n",
              "      <td>memory card 128mb playstation 2 ps2 building b...</td>\n",
              "      <td>video game retro gaming amp microconsoles play...</td>\n",
              "      <td>dotop</td>\n",
              "      <td>brand new</td>\n",
              "      <td>go wrong obtaining 128 megabyte memory card ps...</td>\n",
              "      <td>work 95 game nice expected first ps2 memory ca...</td>\n",
              "    </tr>\n",
              "    <tr>\n",
              "      <th>2</th>\n",
              "      <td>B000006OVJ</td>\n",
              "      <td>Mega Man Legends</td>\n",
              "      <td>[B00004XONL, B0045L3SNQ, B0009XBWY6, B00005MA9...</td>\n",
              "      <td>[B0045L3SNQ, B00004XONL, B00000K1VC, B000050FA...</td>\n",
              "      <td>4.400000</td>\n",
              "      <td>world covered endless water small patch land s...</td>\n",
              "      <td>video game retro gaming microconsoles playstat...</td>\n",
              "      <td>capcom</td>\n",
              "      <td></td>\n",
              "      <td>well far person sold go game came described we...</td>\n",
              "      <td>hmm mega man legend playstation megaman ocarin...</td>\n",
              "    </tr>\n",
              "    <tr>\n",
              "      <th>3</th>\n",
              "      <td>B000006P0K</td>\n",
              "      <td>Tekken 2</td>\n",
              "      <td>[B00000K2X5, B000006P0J, B0000664JF, B0002CHJ8...</td>\n",
              "      <td>[B00000K2X5, B0002CHJ8C, B0000664JF, B000006P0...</td>\n",
              "      <td>5.000000</td>\n",
              "      <td>new green label theyre heihachi paul phoenix k...</td>\n",
              "      <td>video game retro gaming microconsoles playstat...</td>\n",
              "      <td>namco</td>\n",
              "      <td></td>\n",
              "      <td>go tekken 2 played never owned im officially b...</td>\n",
              "      <td>tekken 2 five star one best fighting game time...</td>\n",
              "    </tr>\n",
              "    <tr>\n",
              "      <th>4</th>\n",
              "      <td>B000006RGR</td>\n",
              "      <td>Tomb Raider II</td>\n",
              "      <td>[B00000DMB4, B008LYNLFI, B00001ZT9E, B000006RG...</td>\n",
              "      <td>[B008LYNLFI, B00000DMB4, B00002SFNG, B00001ZT9...</td>\n",
              "      <td>4.833333</td>\n",
              "      <td>laras back explore new world awesome classic g...</td>\n",
              "      <td>video game retro gaming microconsoles playstat...</td>\n",
              "      <td>square enix</td>\n",
              "      <td>classic actionadventure game sequel new move c...</td>\n",
              "      <td>tomb raider ii best series followed original s...</td>\n",
              "      <td>best tomb raider better game original perfect ...</td>\n",
              "    </tr>\n",
              "  </tbody>\n",
              "</table>\n",
              "</div>"
            ],
            "text/plain": [
              "         asin  ...                                            summary\n",
              "0  0804161380  ...  great five star five star epic collection five...\n",
              "1  9629971372  ...  work 95 game nice expected first ps2 memory ca...\n",
              "2  B000006OVJ  ...  hmm mega man legend playstation megaman ocarin...\n",
              "3  B000006P0K  ...  tekken 2 five star one best fighting game time...\n",
              "4  B000006RGR  ...  best tomb raider better game original perfect ...\n",
              "\n",
              "[5 rows x 11 columns]"
            ]
          },
          "metadata": {},
          "execution_count": 8
        }
      ],
      "source": [
        "lemmatizer = WordNetLemmatizer()\n",
        "lemmtizeText = lambda sentence: ' '.join([lemmatizer.lemmatize(w) for w in nltk.word_tokenize(sentence)])\n",
        "\n",
        "meta[['description', 'category', 'brand', 'feature', 'reviewText', 'summary']] = meta.apply({\n",
        "    'description': lambda x: lemmtizeText(x), \n",
        "    'category': lambda x: lemmtizeText(x), \n",
        "    'brand': lambda x: lemmtizeText(x), \n",
        "    'feature': lambda x: lemmtizeText(x),\n",
        "    'reviewText': lambda x: lemmtizeText(x), \n",
        "    'summary': lambda x: lemmtizeText(x)})\n",
        "\n",
        "meta.head()"
      ]
    },
    {
      "cell_type": "markdown",
      "source": [
        "In order to incorporate review data, we include the 'summary' column, i.e, summary of each review, instead of the actual reviews. This is done to keep the dimension of our sparse matrices relatively less."
      ],
      "metadata": {
        "id": "4Q0to5Q8rSsp"
      }
    },
    {
      "cell_type": "code",
      "execution_count": 9,
      "metadata": {
        "colab": {
          "base_uri": "https://localhost:8080/",
          "height": 700
        },
        "id": "K1rZ5CZfhn_F",
        "outputId": "2c9f52d5-fa7f-4bd4-9623-bea55605fed3"
      },
      "outputs": [
        {
          "output_type": "execute_result",
          "data": {
            "text/html": [
              "<div>\n",
              "<style scoped>\n",
              "    .dataframe tbody tr th:only-of-type {\n",
              "        vertical-align: middle;\n",
              "    }\n",
              "\n",
              "    .dataframe tbody tr th {\n",
              "        vertical-align: top;\n",
              "    }\n",
              "\n",
              "    .dataframe thead th {\n",
              "        text-align: right;\n",
              "    }\n",
              "</style>\n",
              "<table border=\"1\" class=\"dataframe\">\n",
              "  <thead>\n",
              "    <tr style=\"text-align: right;\">\n",
              "      <th></th>\n",
              "      <th>asin</th>\n",
              "      <th>title</th>\n",
              "      <th>also_buy</th>\n",
              "      <th>also_view</th>\n",
              "      <th>overall</th>\n",
              "      <th>description</th>\n",
              "      <th>category</th>\n",
              "      <th>brand</th>\n",
              "      <th>feature</th>\n",
              "      <th>reviewText</th>\n",
              "      <th>summary</th>\n",
              "      <th>without review data</th>\n",
              "      <th>with summary</th>\n",
              "      <th>with reviews</th>\n",
              "    </tr>\n",
              "  </thead>\n",
              "  <tbody>\n",
              "    <tr>\n",
              "      <th>0</th>\n",
              "      <td>0804161380</td>\n",
              "      <td>Legend of Zelda Box Set Prima Official Game Guide</td>\n",
              "      <td>[1911015214, 1911015222, 1506703356, 110189843...</td>\n",
              "      <td>[1911015486, 1506703356, 1616550414, 150670740...</td>\n",
              "      <td>4.733333</td>\n",
              "      <td>6 legend zelda strategy guide offered numbered...</td>\n",
              "      <td></td>\n",
              "      <td>diamond select toy</td>\n",
              "      <td>set includes 6x legend zelda strategy guide of...</td>\n",
              "      <td>amazingnncool awesome interesting guide legend...</td>\n",
              "      <td>great five star five star epic collection five...</td>\n",
              "      <td>6 legend zelda strategy guide offered numbered...</td>\n",
              "      <td>6 legend zelda strategy guide offered numbered...</td>\n",
              "      <td>6 legend zelda strategy guide offered numbered...</td>\n",
              "    </tr>\n",
              "    <tr>\n",
              "      <th>1</th>\n",
              "      <td>9629971372</td>\n",
              "      <td>Dotop Sony Playstation 2 PS2 64MB Memory Card</td>\n",
              "      <td>[B01LY4QRT8, B0000C7GHG, B00004SQPD, B000SEU92...</td>\n",
              "      <td>[]</td>\n",
              "      <td>4.588235</td>\n",
              "      <td>memory card 128mb playstation 2 ps2 building b...</td>\n",
              "      <td>video game retro gaming amp microconsoles play...</td>\n",
              "      <td>dotop</td>\n",
              "      <td>brand new</td>\n",
              "      <td>go wrong obtaining 128 megabyte memory card ps...</td>\n",
              "      <td>work 95 game nice expected first ps2 memory ca...</td>\n",
              "      <td>memory card 128mb playstation 2 ps2 building b...</td>\n",
              "      <td>memory card 128mb playstation 2 ps2 building b...</td>\n",
              "      <td>memory card 128mb playstation 2 ps2 building b...</td>\n",
              "    </tr>\n",
              "    <tr>\n",
              "      <th>2</th>\n",
              "      <td>B000006OVJ</td>\n",
              "      <td>Mega Man Legends</td>\n",
              "      <td>[B00004XONL, B0045L3SNQ, B0009XBWY6, B00005MA9...</td>\n",
              "      <td>[B0045L3SNQ, B00004XONL, B00000K1VC, B000050FA...</td>\n",
              "      <td>4.400000</td>\n",
              "      <td>world covered endless water small patch land s...</td>\n",
              "      <td>video game retro gaming microconsoles playstat...</td>\n",
              "      <td>capcom</td>\n",
              "      <td></td>\n",
              "      <td>well far person sold go game came described we...</td>\n",
              "      <td>hmm mega man legend playstation megaman ocarin...</td>\n",
              "      <td>world covered endless water small patch land s...</td>\n",
              "      <td>world covered endless water small patch land s...</td>\n",
              "      <td>world covered endless water small patch land s...</td>\n",
              "    </tr>\n",
              "    <tr>\n",
              "      <th>3</th>\n",
              "      <td>B000006P0K</td>\n",
              "      <td>Tekken 2</td>\n",
              "      <td>[B00000K2X5, B000006P0J, B0000664JF, B0002CHJ8...</td>\n",
              "      <td>[B00000K2X5, B0002CHJ8C, B0000664JF, B000006P0...</td>\n",
              "      <td>5.000000</td>\n",
              "      <td>new green label theyre heihachi paul phoenix k...</td>\n",
              "      <td>video game retro gaming microconsoles playstat...</td>\n",
              "      <td>namco</td>\n",
              "      <td></td>\n",
              "      <td>go tekken 2 played never owned im officially b...</td>\n",
              "      <td>tekken 2 five star one best fighting game time...</td>\n",
              "      <td>new green label theyre heihachi paul phoenix k...</td>\n",
              "      <td>new green label theyre heihachi paul phoenix k...</td>\n",
              "      <td>new green label theyre heihachi paul phoenix k...</td>\n",
              "    </tr>\n",
              "    <tr>\n",
              "      <th>4</th>\n",
              "      <td>B000006RGR</td>\n",
              "      <td>Tomb Raider II</td>\n",
              "      <td>[B00000DMB4, B008LYNLFI, B00001ZT9E, B000006RG...</td>\n",
              "      <td>[B008LYNLFI, B00000DMB4, B00002SFNG, B00001ZT9...</td>\n",
              "      <td>4.833333</td>\n",
              "      <td>laras back explore new world awesome classic g...</td>\n",
              "      <td>video game retro gaming microconsoles playstat...</td>\n",
              "      <td>square enix</td>\n",
              "      <td>classic actionadventure game sequel new move c...</td>\n",
              "      <td>tomb raider ii best series followed original s...</td>\n",
              "      <td>best tomb raider better game original perfect ...</td>\n",
              "      <td>laras back explore new world awesome classic g...</td>\n",
              "      <td>laras back explore new world awesome classic g...</td>\n",
              "      <td>laras back explore new world awesome classic g...</td>\n",
              "    </tr>\n",
              "  </tbody>\n",
              "</table>\n",
              "</div>"
            ],
            "text/plain": [
              "         asin  ...                                       with reviews\n",
              "0  0804161380  ...  6 legend zelda strategy guide offered numbered...\n",
              "1  9629971372  ...  memory card 128mb playstation 2 ps2 building b...\n",
              "2  B000006OVJ  ...  world covered endless water small patch land s...\n",
              "3  B000006P0K  ...  new green label theyre heihachi paul phoenix k...\n",
              "4  B000006RGR  ...  laras back explore new world awesome classic g...\n",
              "\n",
              "[5 rows x 14 columns]"
            ]
          },
          "metadata": {},
          "execution_count": 9
        }
      ],
      "source": [
        "meta['without review data'] = meta['description'] + meta['category'] + meta['brand'] + meta['feature']\n",
        "meta['with summary'] = meta['description'] + meta['category'] + meta['brand'] + meta['feature'] + meta['summary']\n",
        "meta['with reviews'] = meta['description'] + meta['category'] + meta['brand'] + meta['feature'] + meta['reviewText']\n",
        "meta.head()"
      ]
    },
    {
      "cell_type": "markdown",
      "metadata": {
        "id": "syhMNveY8NeQ"
      },
      "source": [
        "# 4. Model Building"
      ]
    },
    {
      "cell_type": "code",
      "execution_count": 10,
      "metadata": {
        "id": "dSnJzbh0ix8W"
      },
      "outputs": [],
      "source": [
        "def tf_similarity(df, col):\n",
        "  tf = TfidfVectorizer(ngram_range=(1,2))\n",
        "  mat = tf.fit_transform(df[col])\n",
        "  # print('Tfidf Matrix Shape: {}'.format(mat.shape))\n",
        "  sim = linear_kernel(mat, mat)\n",
        "  # print('Similarity Matrix Shape: {}\\n'.format(sim.shape))\n",
        "  return sim\n",
        "\n",
        "def cv_similarity(df, col):\n",
        "  cv = CountVectorizer(ngram_range=(1,2))\n",
        "  mat = cv.fit_transform(df[col])\n",
        "  # print('CV Matrix Shape: {}'.format(mat.shape))\n",
        "  sim = linear_kernel(mat, mat)\n",
        "  # print('Similarity Matrix Shape: {}\\n'.format(sim.shape))\n",
        "  return sim\n",
        "\n",
        "def similarity(df, col, method):\n",
        "  sim = tf_similarity(df, col) if method == 'tfidf' else cv_similarity(df, col)\n",
        "  return sim\n",
        "\n",
        "def get_recommendations(df, sim, id):\n",
        "  # find recommendations\n",
        "  ids = df['asin']\n",
        "  indices = pd.Series(df.index, index=df['asin'])\n",
        "  idx = indices[id]\n",
        "  sim_scores = list(enumerate(sim[idx]))\n",
        "  sim_scores = sorted(sim_scores, key=lambda x: x[1], reverse=True)\n",
        "  sim_scores = sim_scores[1:31]\n",
        "  prod_indices = [i[0] for i in sim_scores]\n",
        "  prod_indices = list(set(prod_indices))\n",
        "  return ids.iloc[prod_indices]\n",
        "\n",
        "def display_recommendations(df, sim, id):\n",
        "  # get recommendations\n",
        "  recommendations = get_recommendations(df, sim, id)\n",
        "  for rid in recommendations.head(10).values:\n",
        "    print(df[df['asin'] == rid]['title'].unique())\n",
        "    "
      ]
    },
    {
      "cell_type": "markdown",
      "metadata": {
        "id": "Ir7JwYKHlxj7"
      },
      "source": [
        "**Recommendations**"
      ]
    },
    {
      "cell_type": "code",
      "execution_count": 11,
      "metadata": {
        "colab": {
          "base_uri": "https://localhost:8080/"
        },
        "id": "IPT-li15lXGG",
        "outputId": "2c8b01c9-0ee3-444e-aa4a-9ed11c745411"
      },
      "outputs": [
        {
          "output_type": "stream",
          "name": "stdout",
          "text": [
            "--- Recommendations created using Tfidf without review data\n",
            "\n",
            "--- Displaying games similar to: Legend of Zelda Box Set Prima Official Game Guide\n",
            "\n",
            "['Xbox One Limited Edition Call of Duty: Advanced Warfare Bundle']\n",
            "['The Legend of Zelda: Ocarina of Time']\n",
            "[\"Mortal Kombat X: Kollector's Edition - PlayStation 4\"]\n",
            "['The Legend of Zelda: Twilight Princess (Nintendo Selects)']\n",
            "['Secret of Mana']\n",
            "['The Legend of Zelda: Spirit Tracks']\n",
            "['Forza Motorsport 5 Limited Edition']\n",
            "['The Legend of Zelda: The Wind Waker']\n",
            "['The Legend of Zelda: The Wind Waker (HD Deluxe Set) for Nintendo Wii U']\n",
            "['Nintendo Selects: The Legend of Zelda: The Wind Waker HD - Wii U']\n"
          ]
        }
      ],
      "source": [
        "print('--- Recommendations created using Tfidf without review data')\n",
        "print('\\n--- Displaying games similar to: {}\\n'.format(data[data['asin']=='0804161380']['title'].unique()[0]))\n",
        "sim = similarity(meta, 'without review data', 'tfidf')\n",
        "display_recommendations(meta, sim, '0804161380')"
      ]
    },
    {
      "cell_type": "code",
      "execution_count": 12,
      "metadata": {
        "colab": {
          "base_uri": "https://localhost:8080/"
        },
        "id": "ns-L9jZxvl7o",
        "outputId": "4673bf4c-d4b3-41ab-a56d-5ed3e708affe"
      },
      "outputs": [
        {
          "output_type": "stream",
          "name": "stdout",
          "text": [
            "--- Recommendations created using Tfidf with summary\n",
            "\n",
            "--- Displaying games similar to: Legend of Zelda Box Set Prima Official Game Guide\n",
            "\n",
            "['The Legend of Zelda: Ocarina of Time']\n",
            "['The Legend of Zelda: Twilight Princess (Nintendo Selects)']\n",
            "[\"Mortal Kombat X: Kollector's Edition - PlayStation 4\"]\n",
            "['The Legend of Zelda: Spirit Tracks']\n",
            "['The Legend of Zelda: Twilight Princess']\n",
            "['The Legend of Zelda: The Wind Waker']\n",
            "['The Legend of Zelda: The Wind Waker (HD Deluxe Set) for Nintendo Wii U']\n",
            "['Nintendo Selects: The Legend of Zelda: The Wind Waker HD - Wii U']\n",
            "['The Legend of Zelda: Twilight Princess HD - Wii U']\n",
            "['Zelda II: The Adventure of Link (Classic NES Series)']\n"
          ]
        }
      ],
      "source": [
        "print('--- Recommendations created using Tfidf with summary')\n",
        "print('\\n--- Displaying games similar to: {}\\n'.format(data[data['asin']=='0804161380']['title'].unique()[0]))\n",
        "sim = similarity(meta, 'with summary', 'tfidf')\n",
        "display_recommendations(meta, sim, '0804161380')"
      ]
    },
    {
      "cell_type": "code",
      "source": [
        "print('--- Recommendations created using Tfidf with reviews')\n",
        "print('\\n--- Displaying games similar to: {}\\n'.format(data[data['asin']=='0804161380']['title'].unique()[0]))\n",
        "sim = similarity(meta, 'with reviews', 'tfidf')\n",
        "display_recommendations(meta, sim, '0804161380')"
      ],
      "metadata": {
        "colab": {
          "base_uri": "https://localhost:8080/"
        },
        "id": "RQu2toT3yGRQ",
        "outputId": "faeaa058-3100-415d-e693-787a1996e7a6"
      },
      "execution_count": 13,
      "outputs": [
        {
          "output_type": "stream",
          "name": "stdout",
          "text": [
            "--- Recommendations created using Tfidf with reviews\n",
            "\n",
            "--- Displaying games similar to: Legend of Zelda Box Set Prima Official Game Guide\n",
            "\n",
            "['The Legend of Zelda: Ocarina of Time']\n",
            "['The Legend of Zelda: Twilight Princess (Nintendo Selects)']\n",
            "['The Legend of Zelda: Spirit Tracks']\n",
            "['The Legend of Zelda: Twilight Princess']\n",
            "['The Legend of Zelda: The Wind Waker']\n",
            "['The Legend of Zelda: The Wind Waker (HD Deluxe Set) for Nintendo Wii U']\n",
            "['The Legend of Zelda: Twilight Princess HD - Wii U']\n",
            "['Zelda II: The Adventure of Link (Classic NES Series)']\n",
            "['The Legend of Zelda - The Minish Cap']\n",
            "['The Legend of Zelda: Ocarina of Time (w/ Master Quest)']\n"
          ]
        }
      ]
    },
    {
      "cell_type": "code",
      "source": [
        "print('--- Recommendations created using CV without review data')\n",
        "print('\\n--- Displaying games similar to: {}\\n'.format(data[data['asin']=='0804161380']['title'].unique()[0]))\n",
        "sim = similarity(meta, 'without review data', 'cv')\n",
        "display_recommendations(meta, sim, '0804161380')"
      ],
      "metadata": {
        "colab": {
          "base_uri": "https://localhost:8080/"
        },
        "id": "9o3uR_g73hRn",
        "outputId": "97a3b1b6-d598-4f37-9758-3635d5ace307"
      },
      "execution_count": 14,
      "outputs": [
        {
          "output_type": "stream",
          "name": "stdout",
          "text": [
            "--- Recommendations created using CV without review data\n",
            "\n",
            "--- Displaying games similar to: Legend of Zelda Box Set Prima Official Game Guide\n",
            "\n",
            "['Legend of Zelda Box Set Prima Official Game Guide']\n",
            "['Prince of Persia: Sands of Time']\n",
            "['The Legend of Zelda: Twilight Princess (Nintendo Selects)']\n",
            "['Gears of War 2 Limited Edition -Xbox 360']\n",
            "['Call of Duty: Ghosts Prestige Edition - PlayStation 3']\n",
            "['LittleBigPlanet - Game of the Year Edition Playstation 3']\n",
            "['Forza Motorsport 5 Limited Edition']\n",
            "['WWE Legends of WrestleMania']\n",
            "['The Legend of Zelda: The Wind Waker']\n",
            "['The Legend of Zelda: The Wind Waker (HD Deluxe Set) for Nintendo Wii U']\n"
          ]
        }
      ]
    },
    {
      "cell_type": "code",
      "source": [
        "print('--- Recommendations created using CV with summary')\n",
        "print('\\n--- Displaying games similar to: {}\\n'.format(data[data['asin']=='0804161380']['title'].unique()[0]))\n",
        "sim = similarity(meta, 'with summary', 'cv')\n",
        "display_recommendations(meta, sim, '0804161380')\n"
      ],
      "metadata": {
        "colab": {
          "base_uri": "https://localhost:8080/"
        },
        "id": "qc9YoUlX3m1D",
        "outputId": "2e9e155d-2d7d-450a-d3fd-6d1df10cd801"
      },
      "execution_count": 15,
      "outputs": [
        {
          "output_type": "stream",
          "name": "stdout",
          "text": [
            "--- Recommendations created using CV with summary\n",
            "\n",
            "--- Displaying games similar to: Legend of Zelda Box Set Prima Official Game Guide\n",
            "\n",
            "['Tomb Raider: Definitive Edition - PlayStation 4']\n",
            "['Batman: Arkham Knight - PlayStation 4 [Digital Code]']\n",
            "['Xbox One Wireless Controller (Without 3.5 millimeter headset jack)']\n",
            "['inFAMOUS: Second Son Standard Edition (PlayStation 4)']\n",
            "['Yoshi amiibo (Super Smash Bros Series)']\n",
            "[\"Assassin's Creed - Playstation 3\"]\n",
            "[\"Assassin's Creed\"]\n",
            "['Xbox 360 Wireless Controller - Glossy Black']\n",
            "['Gears of War 3']\n",
            "['PlayStation 4 500GB Console [Old Model][Discontinued]']\n"
          ]
        }
      ]
    },
    {
      "cell_type": "code",
      "source": [
        "print('--- Recommendations created using CV with reviews')\n",
        "print('\\n--- Displaying games similar to: {}\\n'.format(data[data['asin']=='0804161380']['title'].unique()[0]))\n",
        "sim = similarity(meta, 'with reviews', 'cv')\n",
        "display_recommendations(meta, sim, '0804161380')"
      ],
      "metadata": {
        "colab": {
          "base_uri": "https://localhost:8080/"
        },
        "id": "xRldAtv3yXXR",
        "outputId": "f348e2db-7c12-4802-d7fe-fb61e3c67a35"
      },
      "execution_count": 16,
      "outputs": [
        {
          "output_type": "stream",
          "name": "stdout",
          "text": [
            "--- Recommendations created using CV with reviews\n",
            "\n",
            "--- Displaying games similar to: Legend of Zelda Box Set Prima Official Game Guide\n",
            "\n",
            "['Final Fantasy X']\n",
            "['Heavy Rain - Greatest Hits']\n",
            "['Mass Effect - Xbox 360']\n",
            "[\"Uncharted: Drake's Fortune - Playstation 3\"]\n",
            "['Xbox One + Kinect']\n",
            "[\"Assassin's Creed - Playstation 3\"]\n",
            "[\"Assassin's Creed\"]\n",
            "[' Mass Effect 2 Platinum Hits']\n",
            "['The Legend of Zelda: The Wind Waker']\n",
            "['Wii']\n"
          ]
        }
      ]
    },
    {
      "cell_type": "markdown",
      "metadata": {
        "id": "J2mi5LkB8Q19"
      },
      "source": [
        "# 5. Evaluation"
      ]
    },
    {
      "cell_type": "markdown",
      "source": [
        "Let $A$ denote the set of product IDs, i.e, list of values in meta['asin']\n",
        "\n",
        "For a given product id $x\\in A$, let $R(x)$ denote the set of similar items for this item built buy our model. \n",
        "\n",
        "\n",
        "Let $\\text{also_buy}(x)$ represent the set of items in the 'also_buy' column for the row corresponding to 'asin'$=x$, and similarly for $\\text{also_view}(x)$, then, we have the following scores,\n",
        "\n",
        "$$\\text{also_buy} =\\text{mean} \\{\\frac{|R(x)\\cap \\text{also_buy}(x)|}{|R(x)|} \\;\\big|\\; x \\in A\\}$$\n",
        "\n",
        "$$\\text{also_view} =\\text{mean} \\{\\frac{|R(x)\\cap \\text{also_view}(x)|}{|R(x)|} \\;\\big|\\; x \\in A\\}$$"
      ],
      "metadata": {
        "id": "wCNEaS64E0HZ"
      }
    },
    {
      "cell_type": "code",
      "execution_count": 17,
      "metadata": {
        "id": "pC6424XRxtAd"
      },
      "outputs": [],
      "source": [
        "def evaluate(items, df, col, method):\n",
        "    arr_buy = []\n",
        "    arr_view = []\n",
        "    print('--- Building Recommendations ---')\n",
        "    i = 1\n",
        "    sim = similarity(df, col, method)\n",
        "\n",
        "    for id in items:\n",
        "        recommendations_ = get_recommendations(df, sim, id)[0:5]\n",
        "        recommendations_ = set(recommendations_)\n",
        "\n",
        "        also_buy_ = list(df[df['asin']==id].also_buy)[0]\n",
        "        also_buy_ = set(also_buy_)\n",
        "\n",
        "        also_view_ = list(df[df['asin']==id].also_view)[0]\n",
        "        also_view_ = set(also_view_)\n",
        "\n",
        "        intr_buy = also_buy_.intersection(recommendations_)\n",
        "        intr_view = also_view_.intersection(recommendations_)\n",
        "\n",
        "        arr_buy.append(len(intr_buy)/len(recommendations_))\n",
        "        arr_view.append(len(intr_view)/len(recommendations_))\n",
        "\n",
        "        if (i%500 == 0 and i>500):\n",
        "            print('{} IDs processed'.format(i))\n",
        "        i += 1  \n",
        "\n",
        "    print('\\nTotal IDs Processed: {}'.format(len(df)))\n",
        "    print('\\n\\n--- Evaluation Result ---')\n",
        "    print('Model Parameters: {}, method-{}'.format(col, method))\n",
        "    buy_score = sum(arr_buy)/len(arr_buy)\n",
        "    view_score = sum(arr_view)/len(arr_view)\n",
        "\n",
        "    print('Also Buy Score: {}'.format(buy_score))\n",
        "    print('Also View Score: {}\\n\\n'.format(view_score))\n",
        "    return buy_score, view_score"
      ]
    },
    {
      "cell_type": "code",
      "source": [
        "e = evaluate(list(meta.asin.values), meta, 'without review data', 'tfidf')"
      ],
      "metadata": {
        "colab": {
          "base_uri": "https://localhost:8080/"
        },
        "id": "AdtalZfcSB3k",
        "outputId": "a26b0e27-6ec7-44d6-b5e9-13c9114c2fb5"
      },
      "execution_count": 18,
      "outputs": [
        {
          "output_type": "stream",
          "name": "stdout",
          "text": [
            "--- Building Recommendations ---\n",
            "1000 IDs processed\n",
            "1500 IDs processed\n",
            "2000 IDs processed\n",
            "2500 IDs processed\n",
            "3000 IDs processed\n",
            "3500 IDs processed\n",
            "\n",
            "Total IDs Processed: 3784\n",
            "\n",
            "\n",
            "--- Evaluation Result ---\n",
            "Model Parameters: without review data, method-tfidf\n",
            "Also Buy Score: 0.13234672304439463\n",
            "Also View Score: 0.1404862579281158\n",
            "\n",
            "\n"
          ]
        }
      ]
    },
    {
      "cell_type": "code",
      "source": [
        "e = evaluate(list(meta.asin.values), meta, 'with summary', 'tfidf')"
      ],
      "metadata": {
        "colab": {
          "base_uri": "https://localhost:8080/"
        },
        "id": "p86uwfuySTph",
        "outputId": "7b4a2dec-416a-4edc-d2c6-de626d811357"
      },
      "execution_count": 19,
      "outputs": [
        {
          "output_type": "stream",
          "name": "stdout",
          "text": [
            "--- Building Recommendations ---\n",
            "1000 IDs processed\n",
            "1500 IDs processed\n",
            "2000 IDs processed\n",
            "2500 IDs processed\n",
            "3000 IDs processed\n",
            "3500 IDs processed\n",
            "\n",
            "Total IDs Processed: 3784\n",
            "\n",
            "\n",
            "--- Evaluation Result ---\n",
            "Model Parameters: with summary, method-tfidf\n",
            "Also Buy Score: 0.15338266384777843\n",
            "Also View Score: 0.16146934460887874\n",
            "\n",
            "\n"
          ]
        }
      ]
    },
    {
      "cell_type": "code",
      "source": [
        "e = evaluate(list(meta.asin.values), meta, 'with reviews', 'tfidf')"
      ],
      "metadata": {
        "colab": {
          "base_uri": "https://localhost:8080/"
        },
        "id": "eU2hIVVd09JA",
        "outputId": "26217e5c-3505-4a45-efd8-1deda64f2cf2"
      },
      "execution_count": 20,
      "outputs": [
        {
          "output_type": "stream",
          "name": "stdout",
          "text": [
            "--- Building Recommendations ---\n",
            "1000 IDs processed\n",
            "1500 IDs processed\n",
            "2000 IDs processed\n",
            "2500 IDs processed\n",
            "3000 IDs processed\n",
            "3500 IDs processed\n",
            "\n",
            "Total IDs Processed: 3784\n",
            "\n",
            "\n",
            "--- Evaluation Result ---\n",
            "Model Parameters: with reviews, method-tfidf\n",
            "Also Buy Score: 0.16353065539112072\n",
            "Also View Score: 0.1694503171247359\n",
            "\n",
            "\n"
          ]
        }
      ]
    },
    {
      "cell_type": "code",
      "source": [
        "e = evaluate(list(meta.asin.values), meta, 'without review data', 'cv')"
      ],
      "metadata": {
        "colab": {
          "base_uri": "https://localhost:8080/"
        },
        "id": "qzMEfA_NSUHv",
        "outputId": "92049eb2-71bf-40a6-e3c1-5383a1b4466e"
      },
      "execution_count": 21,
      "outputs": [
        {
          "output_type": "stream",
          "name": "stdout",
          "text": [
            "--- Building Recommendations ---\n",
            "1000 IDs processed\n",
            "1500 IDs processed\n",
            "2000 IDs processed\n",
            "2500 IDs processed\n",
            "3000 IDs processed\n",
            "3500 IDs processed\n",
            "\n",
            "Total IDs Processed: 3784\n",
            "\n",
            "\n",
            "--- Evaluation Result ---\n",
            "Model Parameters: without review data, method-cv\n",
            "Also Buy Score: 0.041014799154333974\n",
            "Also View Score: 0.04941860465116247\n",
            "\n",
            "\n"
          ]
        }
      ]
    },
    {
      "cell_type": "code",
      "source": [
        "e = evaluate(list(meta.asin.values), meta, 'with summary', 'cv')"
      ],
      "metadata": {
        "colab": {
          "base_uri": "https://localhost:8080/"
        },
        "id": "0l_reSafSUdF",
        "outputId": "ca7fcfe6-cec2-4cb9-d258-ef7173d7cc5b"
      },
      "execution_count": 22,
      "outputs": [
        {
          "output_type": "stream",
          "name": "stdout",
          "text": [
            "--- Building Recommendations ---\n",
            "1000 IDs processed\n",
            "1500 IDs processed\n",
            "2000 IDs processed\n",
            "2500 IDs processed\n",
            "3000 IDs processed\n",
            "3500 IDs processed\n",
            "\n",
            "Total IDs Processed: 3784\n",
            "\n",
            "\n",
            "--- Evaluation Result ---\n",
            "Model Parameters: with summary, method-cv\n",
            "Also Buy Score: 0.035940803382664005\n",
            "Also View Score: 0.03033826638477823\n",
            "\n",
            "\n"
          ]
        }
      ]
    },
    {
      "cell_type": "code",
      "source": [
        "e = evaluate(list(meta.asin.values), meta, 'with reviews', 'cv')"
      ],
      "metadata": {
        "colab": {
          "base_uri": "https://localhost:8080/"
        },
        "id": "4e77DjbZDpNQ",
        "outputId": "2d323243-d5cd-4dab-e5ce-937879e4e842"
      },
      "execution_count": 23,
      "outputs": [
        {
          "output_type": "stream",
          "name": "stdout",
          "text": [
            "--- Building Recommendations ---\n",
            "1000 IDs processed\n",
            "1500 IDs processed\n",
            "2000 IDs processed\n",
            "2500 IDs processed\n",
            "3000 IDs processed\n",
            "3500 IDs processed\n",
            "\n",
            "Total IDs Processed: 3784\n",
            "\n",
            "\n",
            "--- Evaluation Result ---\n",
            "Model Parameters: with reviews, method-cv\n",
            "Also Buy Score: 0.021247357293869056\n",
            "Also View Score: 0.012790697674418636\n",
            "\n",
            "\n"
          ]
        }
      ]
    },
    {
      "cell_type": "markdown",
      "source": [
        "We see that the tfidf method massively outperforms cout vectorizer. \n",
        "\n",
        "We also observe that including the summary of review texts along with metadata provides a significant boost in performance. \n",
        "\n",
        "Including the actual reviews further increased our performance aswell. \n",
        "\n",
        "Best parameters: method='tfidf', col='with reviews'\n",
        "\n"
      ],
      "metadata": {
        "id": "c-eT3rP8Szmt"
      }
    },
    {
      "cell_type": "markdown",
      "source": [
        "Let us build personalised recommendations using best parameters found."
      ],
      "metadata": {
        "id": "tpsRMIOBEc-s"
      }
    },
    {
      "cell_type": "markdown",
      "source": [
        "**Personalized Recommendations for Users**"
      ],
      "metadata": {
        "id": "y-5lhaOzEs_X"
      }
    },
    {
      "cell_type": "code",
      "source": [
        "user_df = data.loc[data[\"overall\"] == 5]\n",
        "user_df = data.groupby(\"reviewerID\")[\"asin\"].apply(lambda x: \",\".join(x)).reset_index()\n",
        "\n",
        "def get_rec_user(df, col, method, id):\n",
        "    \n",
        "    rec_set = set()\n",
        "    product_list = user_df.loc[user_df['reviewerID'] == id]['asin']\n",
        "    product_list = list(product_list)[0].split(\",\")\n",
        "    sim = similarity(df, col, method)\n",
        "    for item in product_list:\n",
        "        rec_list = get_recommendations(df, sim, item).head(2) #Top 2 recommendation for each product reviewed\n",
        "        \n",
        "        for r in rec_list:\n",
        "            rec_set.add(r)\n",
        "    \n",
        "    for i in rec_set:\n",
        "        print(df[df['asin'] == i]['title'].unique())\n",
        "\n",
        "\n",
        "print('--- Personalized Recommendations created using Tfidf with reviews')\n",
        "print('\\n--- Displaying games for reviewer: {}\\n'.format(data[data['reviewerID']=='A0380485C177Q6QQNJIX']['reviewerName'].unique()[0]))\n",
        "get_rec_user(meta,\"with reviews\",'tfidf',\"A0380485C177Q6QQNJIX\")"
      ],
      "metadata": {
        "colab": {
          "base_uri": "https://localhost:8080/"
        },
        "id": "rxUSkM35Ecgg",
        "outputId": "ce244344-a4a6-49f4-d34e-8e5f5ae62777"
      },
      "execution_count": 24,
      "outputs": [
        {
          "output_type": "stream",
          "name": "stdout",
          "text": [
            "--- Personalized Recommendations created using Tfidf with reviews\n",
            "\n",
            "--- Displaying games for reviewer: Franklin Tineo\n",
            "\n",
            "['Guitar Hero Metallica - Playstation 3']\n",
            "['Nintendo 3DS XL - Black [Old Model]']\n",
            "['Ratchet and Clank Future: Tools of Destruction - Playstation 3']\n",
            "['PlayStation Vita - The Walking Dead Bundle']\n",
            "['Borderlands 2 - Limited Edition - PlayStation Vita Bundle']\n",
            "['inFAMOUS: Second Son Standard Edition (PlayStation 4)']\n",
            "[\"Assassin's Creed: Revelations\"]\n",
            "[\"Assassin's Creed: Revelations\"]\n",
            "['Fallout 3']\n",
            "['Mass Effect - Xbox 360']\n",
            "['FINAL FANTASY X|X-2 HD Remaster - PlayStation Vita']\n",
            "['PDP PSVita Trigger Grips']\n",
            "['PlayStation 2 Memory Card (8MB)']\n",
            "[\"PDP PSVita Pull 'N Go Folio\"]\n",
            "['Need for Speed: Hot Pursuit, XBOX 360']\n",
            "['Metal Gear Solid: The Essential Collection']\n",
            "['Heavy Rain - Greatest Hits']\n",
            "[\"Nintendo - New 3DS XL Legend of Zelda: Majora's Mask Limited Edition - Gold/Black\"]\n",
            "['Metal Gear Solid 3 Subsistence']\n",
            "['Tomb Raider: Definitive Edition - PlayStation 4']\n",
            "[\"Uncharted: Drake's Fortune - Playstation 3\"]\n",
            "['Gran Turismo 3 A-spec']\n",
            "['Rocksmith']\n",
            "['Jak and Daxter Collection - PlayStation Vita']\n"
          ]
        }
      ]
    },
    {
      "cell_type": "markdown",
      "source": [
        "We can also build personalized recommendations using sentiment polarity scores of reviews"
      ],
      "metadata": {
        "id": "zsc6_4VfGZfb"
      }
    },
    {
      "cell_type": "code",
      "source": [
        "meta_sentiment = meta\n",
        "meta_sentiment['sentiment'] = [TextBlob(x).sentiment.polarity for x in meta_sentiment['reviewText']]\n",
        "\n",
        "def get_rec_user2(df, col, method, id):\n",
        "    \n",
        "    rec_set = set()\n",
        "    product_list = user_df.loc[user_df['reviewerID'] == id]['asin']\n",
        "    product_list = list(product_list)[0].split(\",\")\n",
        "    sim = similarity(df, col, method)\n",
        "    for item in product_list:\n",
        "        rec_list = get_recommendations(df, sim, item).head(2) #Top 2 recommendation for each product reviewed\n",
        "        \n",
        "        for r in rec_list:\n",
        "            rec_set.add(r)\n",
        "    \n",
        "    for i in rec_set:\n",
        "        print(df[df['asin'] == i]['title'].unique(), df[df['asin'] == i]['sentiment'].unique())\n",
        "\n",
        "print('--- Personalized Recommendations created using Tfidf with reviews and sentient scores')\n",
        "print('\\n--- Displaying games for reviewer: {}\\n'.format(data[data['reviewerID']=='A0380485C177Q6QQNJIX']['reviewerName'].unique()[0]))\n",
        "get_rec_user2(meta_sentiment,\"with reviews\",'tfidf',\"A0380485C177Q6QQNJIX\")"
      ],
      "metadata": {
        "colab": {
          "base_uri": "https://localhost:8080/"
        },
        "id": "Nki_sfuHTRHZ",
        "outputId": "09fc47b1-c845-404c-99c3-71e46922a2b5"
      },
      "execution_count": 25,
      "outputs": [
        {
          "output_type": "stream",
          "name": "stdout",
          "text": [
            "--- Personalized Recommendations created using Tfidf with reviews and sentient scores\n",
            "\n",
            "--- Displaying games for reviewer: Franklin Tineo\n",
            "\n",
            "['Guitar Hero Metallica - Playstation 3'] [0.14036688]\n",
            "['Nintendo 3DS XL - Black [Old Model]'] [0.14048065]\n",
            "['Ratchet and Clank Future: Tools of Destruction - Playstation 3'] [0.0891597]\n",
            "['PlayStation Vita - The Walking Dead Bundle'] [0.16957287]\n",
            "['Borderlands 2 - Limited Edition - PlayStation Vita Bundle'] [0.13758568]\n",
            "['inFAMOUS: Second Son Standard Edition (PlayStation 4)'] [0.0468283]\n",
            "[\"Assassin's Creed: Revelations\"] [0.0678516]\n",
            "[\"Assassin's Creed: Revelations\"] [0.04393441]\n",
            "['Fallout 3'] [0.03836331]\n",
            "['Mass Effect - Xbox 360'] [0.06019702]\n",
            "['FINAL FANTASY X|X-2 HD Remaster - PlayStation Vita'] [0.0789998]\n",
            "['PDP PSVita Trigger Grips'] [0.15593813]\n",
            "['PlayStation 2 Memory Card (8MB)'] [0.12940558]\n",
            "[\"PDP PSVita Pull 'N Go Folio\"] [0.09772855]\n",
            "['Need for Speed: Hot Pursuit, XBOX 360'] [0.08401457]\n",
            "['Metal Gear Solid: The Essential Collection'] [0.06977618]\n",
            "['Heavy Rain - Greatest Hits'] [0.02392846]\n",
            "[\"Nintendo - New 3DS XL Legend of Zelda: Majora's Mask Limited Edition - Gold/Black\"] [0.1049925]\n",
            "['Metal Gear Solid 3 Subsistence'] [0.07698204]\n",
            "['Tomb Raider: Definitive Edition - PlayStation 4'] [0.0829808]\n",
            "[\"Uncharted: Drake's Fortune - Playstation 3\"] [0.06387093]\n",
            "['Gran Turismo 3 A-spec'] [0.11908864]\n",
            "['Rocksmith'] [0.07745785]\n",
            "['Jak and Daxter Collection - PlayStation Vita'] [-0.02205564]\n"
          ]
        }
      ]
    },
    {
      "cell_type": "code",
      "source": [
        ""
      ],
      "metadata": {
        "id": "Cgaz7TklG7Av"
      },
      "execution_count": 25,
      "outputs": []
    }
  ],
  "metadata": {
    "accelerator": "GPU",
    "colab": {
      "machine_shape": "hm",
      "name": "video_games_content_based_filtering.ipynb",
      "provenance": [],
      "collapsed_sections": []
    },
    "kernelspec": {
      "display_name": "Python 3",
      "language": "python",
      "name": "python3"
    },
    "language_info": {
      "codemirror_mode": {
        "name": "ipython",
        "version": 3
      },
      "file_extension": ".py",
      "mimetype": "text/x-python",
      "name": "python",
      "nbconvert_exporter": "python",
      "pygments_lexer": "ipython3",
      "version": "3.8.8"
    }
  },
  "nbformat": 4,
  "nbformat_minor": 0
}