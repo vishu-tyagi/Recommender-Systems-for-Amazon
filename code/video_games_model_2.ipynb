{
  "nbformat": 4,
  "nbformat_minor": 0,
  "metadata": {
    "colab": {
      "name": "video_games_model_2.ipynb",
      "provenance": [],
      "machine_shape": "hm"
    },
    "kernelspec": {
      "name": "python3",
      "display_name": "Python 3"
    },
    "language_info": {
      "name": "python"
    },
    "accelerator": "GPU"
  },
  "cells": [
    {
      "cell_type": "markdown",
      "source": [
        "# 1. Import Libraries\n",
        "\n"
      ],
      "metadata": {
        "id": "IzYtNwzw77dg"
      }
    },
    {
      "cell_type": "code",
      "execution_count": 110,
      "metadata": {
        "colab": {
          "base_uri": "https://localhost:8080/"
        },
        "id": "sHCYf0EMgJxA",
        "outputId": "b41a929b-1428-4392-915b-3562caf52ab6"
      },
      "outputs": [
        {
          "output_type": "stream",
          "name": "stdout",
          "text": [
            "[nltk_data] Downloading package stopwords to /root/nltk_data...\n",
            "[nltk_data]   Package stopwords is already up-to-date!\n",
            "[nltk_data] Downloading package wordnet to /root/nltk_data...\n",
            "[nltk_data]   Package wordnet is already up-to-date!\n"
          ]
        }
      ],
      "source": [
        "import re\n",
        "import os\n",
        "import random\n",
        "\n",
        "import numpy as np\n",
        "import pandas as pd\n",
        "import matplotlib.pyplot as plt\n",
        "import seaborn as sns\n",
        "import scipy\n",
        "\n",
        "from collections import defaultdict\n",
        "from sklearn.model_selection import train_test_split\n",
        "from sklearn.feature_extraction.text import ENGLISH_STOP_WORDS, CountVectorizer, TfidfVectorizer\n",
        "from sklearn.metrics.pairwise import linear_kernel\n",
        "\n",
        "import nltk\n",
        "nltk.download('stopwords');\n",
        "nltk.download('wordnet');\n",
        "\n",
        "from nltk.corpus import stopwords\n",
        "from nltk.tokenize import word_tokenize\n",
        "from nltk.stem.porter import *\n",
        "from nltk.stem.wordnet import WordNetLemmatizer\n"
      ]
    },
    {
      "cell_type": "markdown",
      "source": [
        "# 2. Load Data\n"
      ],
      "metadata": {
        "id": "GbEmustG8A1j"
      }
    },
    {
      "cell_type": "code",
      "source": [
        "from google.colab import drive\n",
        "drive.mount('/content/drive')"
      ],
      "metadata": {
        "colab": {
          "base_uri": "https://localhost:8080/"
        },
        "id": "h5tAs_wzgeJ-",
        "outputId": "a484d55b-d091-4d81-a1b4-8f7c72a44ada"
      },
      "execution_count": 111,
      "outputs": [
        {
          "output_type": "stream",
          "name": "stdout",
          "text": [
            "Drive already mounted at /content/drive; to attempt to forcibly remount, call drive.mount(\"/content/drive\", force_remount=True).\n"
          ]
        }
      ]
    },
    {
      "cell_type": "code",
      "source": [
        "data = df = pd.read_csv('/content/drive/MyDrive/Applied_ML/data/10_core_Video_Games_Processed.csv')\n",
        "data.head()"
      ],
      "metadata": {
        "colab": {
          "base_uri": "https://localhost:8080/",
          "height": 649
        },
        "id": "hHbyDRUlgOPe",
        "outputId": "f593e058-ba2d-4000-9834-06d3db6289c2"
      },
      "execution_count": 112,
      "outputs": [
        {
          "output_type": "execute_result",
          "data": {
            "text/html": [
              "<div>\n",
              "<style scoped>\n",
              "    .dataframe tbody tr th:only-of-type {\n",
              "        vertical-align: middle;\n",
              "    }\n",
              "\n",
              "    .dataframe tbody tr th {\n",
              "        vertical-align: top;\n",
              "    }\n",
              "\n",
              "    .dataframe thead th {\n",
              "        text-align: right;\n",
              "    }\n",
              "</style>\n",
              "<table border=\"1\" class=\"dataframe\">\n",
              "  <thead>\n",
              "    <tr style=\"text-align: right;\">\n",
              "      <th></th>\n",
              "      <th>overall</th>\n",
              "      <th>verified</th>\n",
              "      <th>reviewTime</th>\n",
              "      <th>reviewerID</th>\n",
              "      <th>asin</th>\n",
              "      <th>reviewerName</th>\n",
              "      <th>reviewText</th>\n",
              "      <th>summary</th>\n",
              "      <th>category</th>\n",
              "      <th>description</th>\n",
              "      <th>title</th>\n",
              "      <th>also_buy</th>\n",
              "      <th>brand</th>\n",
              "      <th>feature</th>\n",
              "      <th>also_view</th>\n",
              "      <th>similar_item</th>\n",
              "      <th>details</th>\n",
              "    </tr>\n",
              "  </thead>\n",
              "  <tbody>\n",
              "    <tr>\n",
              "      <th>0</th>\n",
              "      <td>5.0</td>\n",
              "      <td>False</td>\n",
              "      <td>2001-01-01</td>\n",
              "      <td>A3BEJOL2X8PS8I</td>\n",
              "      <td>B00004TC6E</td>\n",
              "      <td>ATHF Fan</td>\n",
              "      <td>Before I start this review let me get somethin...</td>\n",
              "      <td>The best RPG... Ever!</td>\n",
              "      <td>['Video Games', 'Retro Gaming &amp; Microconsoles'...</td>\n",
              "      <td>[\"While it's officially a sequel to the immens...</td>\n",
              "      <td>Chrono Cross - PlayStation</td>\n",
              "      <td>['B00002R28C', 'B00005LOXE', 'B00004Y57G', 'B0...</td>\n",
              "      <td>by\\n    \\n    Square Enix</td>\n",
              "      <td>['PSX']</td>\n",
              "      <td>['B0045L3SNQ', 'B00005LOXE', 'B00004Y57G', 'B0...</td>\n",
              "      <td>NaN</td>\n",
              "      <td>NaN</td>\n",
              "    </tr>\n",
              "    <tr>\n",
              "      <th>1</th>\n",
              "      <td>5.0</td>\n",
              "      <td>False</td>\n",
              "      <td>2003-01-01</td>\n",
              "      <td>A3E0MSKBIWMU6F</td>\n",
              "      <td>B000069D39</td>\n",
              "      <td>obryanstars</td>\n",
              "      <td>Well, at first, getting used to the controls i...</td>\n",
              "      <td>A Great Game, a HALO for the PS2 (maybe)</td>\n",
              "      <td>['Video Games', 'Retro Gaming &amp;amp; Microconso...</td>\n",
              "      <td>['The evil race of TimeSplitters is traveling ...</td>\n",
              "      <td>Time Splitters 2 - PlayStation 2</td>\n",
              "      <td>['B00004WKN9', 'B0006ZJP8M', 'B0009O7HVM', 'B0...</td>\n",
              "      <td>by\\n    \\n    Square Enix</td>\n",
              "      <td>[\"This time you've got to stop the evil lords ...</td>\n",
              "      <td>['B0006ZJP8M', 'B00006AVB1', 'B00004WKN9', 'B0...</td>\n",
              "      <td>NaN</td>\n",
              "      <td>NaN</td>\n",
              "    </tr>\n",
              "    <tr>\n",
              "      <th>2</th>\n",
              "      <td>4.0</td>\n",
              "      <td>False</td>\n",
              "      <td>2003-01-01</td>\n",
              "      <td>A3KI73MFVL0QWH</td>\n",
              "      <td>B00005NN5J</td>\n",
              "      <td>GAMEMASTER</td>\n",
              "      <td>this game is pretty good its graphics and game...</td>\n",
              "      <td>cool game</td>\n",
              "      <td>['Video Games', 'Retro Gaming &amp; Microconsoles'...</td>\n",
              "      <td>[\"Danger takes wing again, as Namco's breaknec...</td>\n",
              "      <td>Namco Ace Combat 4 Shattered Skies</td>\n",
              "      <td>['B01L1P49OA', 'B00JA81WQE', 'B0000C7GHG', 'B0...</td>\n",
              "      <td>Playstation</td>\n",
              "      <td>['Soar through the blue in 24 missions, piloti...</td>\n",
              "      <td>['B00065QTT0', 'B01A0P8NBC', 'B015PJ68BK', 'B0...</td>\n",
              "      <td>NaN</td>\n",
              "      <td>NaN</td>\n",
              "    </tr>\n",
              "    <tr>\n",
              "      <th>3</th>\n",
              "      <td>5.0</td>\n",
              "      <td>False</td>\n",
              "      <td>2003-01-01</td>\n",
              "      <td>A3E0MSKBIWMU6F</td>\n",
              "      <td>B00007E1OC</td>\n",
              "      <td>obryanstars</td>\n",
              "      <td>The Lord of the Rings: The Two Towers (the gam...</td>\n",
              "      <td>So Much Fun, So Many Things To Do!  A Classic!!!</td>\n",
              "      <td>['Video Games', 'Retro Gaming &amp; Microconsoles'...</td>\n",
              "      <td>['Features detailed tactical component.', '&lt;I&gt;...</td>\n",
              "      <td>Lord of the Rings The Two Towers - Gamecube</td>\n",
              "      <td>['B00009VE6B', 'B0002I9RQI', 'B01LWA474D', 'B0...</td>\n",
              "      <td>by\\n    \\n    Electronic Arts</td>\n",
              "      <td>[\"The evil Wizard Saruman has built is buildin...</td>\n",
              "      <td>['B00009VE6B', 'B00008KTW7', 'B0002I9RQI', 'B0...</td>\n",
              "      <td>NaN</td>\n",
              "      <td>NaN</td>\n",
              "    </tr>\n",
              "    <tr>\n",
              "      <th>4</th>\n",
              "      <td>4.0</td>\n",
              "      <td>False</td>\n",
              "      <td>2003-01-01</td>\n",
              "      <td>A3713PP4MADKED</td>\n",
              "      <td>B00006GSNZ</td>\n",
              "      <td>Nick Watkins</td>\n",
              "      <td>I got this game for Christmas, and played it a...</td>\n",
              "      <td>Good...BUT TOO HARD!!!!!!</td>\n",
              "      <td>['Video Games', 'Retro Gaming &amp; Microconsoles'...</td>\n",
              "      <td>[\"Battle the evil forces of Mordor and experie...</td>\n",
              "      <td>Lord of the Rings The Two Towers - PlayStation 2</td>\n",
              "      <td>['B00009VE6D', 'B00006LEM9', 'B0002IQD1U', 'B0...</td>\n",
              "      <td>by\\n    \\n    Electronic Arts</td>\n",
              "      <td>['Enter the pastoral world of Middle Earth whe...</td>\n",
              "      <td>['B00009VE6D', 'B00006LEM9', 'B0002IQD1U', 'B0...</td>\n",
              "      <td>NaN</td>\n",
              "      <td>NaN</td>\n",
              "    </tr>\n",
              "  </tbody>\n",
              "</table>\n",
              "</div>"
            ],
            "text/plain": [
              "   overall  verified  ... similar_item details\n",
              "0      5.0     False  ...          NaN     NaN\n",
              "1      5.0     False  ...          NaN     NaN\n",
              "2      4.0     False  ...          NaN     NaN\n",
              "3      5.0     False  ...          NaN     NaN\n",
              "4      4.0     False  ...          NaN     NaN\n",
              "\n",
              "[5 rows x 17 columns]"
            ]
          },
          "metadata": {},
          "execution_count": 112
        }
      ]
    },
    {
      "cell_type": "markdown",
      "source": [
        "# 3. Preprocessing"
      ],
      "metadata": {
        "id": "9hzzCDc-8GXm"
      }
    },
    {
      "cell_type": "code",
      "source": [
        "data[['description','reviewText', 'summary', 'also_buy', 'also_view']] = data[['description','reviewText', 'summary', 'also_buy', 'also_view']].fillna('')\n",
        "\n",
        "meta = data[['asin', 'title', 'also_buy', 'also_view', 'overall', 'description', 'reviewText', 'summary']]\n",
        "meta = meta.groupby(['asin', 'title', 'also_buy', 'also_view'], as_index=False).agg({'overall':'mean', \n",
        "                                                                                     'description':'first',\n",
        "                                                                                     'reviewText': lambda x: ''.join(str(x.values)),\n",
        "                                                                                     'summary': lambda x: ''.join(str(x.values))})\n",
        "\n",
        "meta.head()"
      ],
      "metadata": {
        "colab": {
          "base_uri": "https://localhost:8080/",
          "height": 374
        },
        "id": "H6oFl84xgSdE",
        "outputId": "0cd3068a-8bb7-42c2-8c30-2c031228cb19"
      },
      "execution_count": 113,
      "outputs": [
        {
          "output_type": "execute_result",
          "data": {
            "text/html": [
              "<div>\n",
              "<style scoped>\n",
              "    .dataframe tbody tr th:only-of-type {\n",
              "        vertical-align: middle;\n",
              "    }\n",
              "\n",
              "    .dataframe tbody tr th {\n",
              "        vertical-align: top;\n",
              "    }\n",
              "\n",
              "    .dataframe thead th {\n",
              "        text-align: right;\n",
              "    }\n",
              "</style>\n",
              "<table border=\"1\" class=\"dataframe\">\n",
              "  <thead>\n",
              "    <tr style=\"text-align: right;\">\n",
              "      <th></th>\n",
              "      <th>asin</th>\n",
              "      <th>title</th>\n",
              "      <th>also_buy</th>\n",
              "      <th>also_view</th>\n",
              "      <th>overall</th>\n",
              "      <th>description</th>\n",
              "      <th>reviewText</th>\n",
              "      <th>summary</th>\n",
              "    </tr>\n",
              "  </thead>\n",
              "  <tbody>\n",
              "    <tr>\n",
              "      <th>0</th>\n",
              "      <td>0804161380</td>\n",
              "      <td>Legend of Zelda Box Set Prima Official Game Guide</td>\n",
              "      <td>['1911015214', '1911015222', '1506703356', '11...</td>\n",
              "      <td>['1911015486', '1506703356', '1616550414', '15...</td>\n",
              "      <td>4.733333</td>\n",
              "      <td>[\"It's 6 Legend Of Zelda strategy guides, offe...</td>\n",
              "      <td>['amazing\\n\\ncool awesome interesting guides o...</td>\n",
              "      <td>['Great' 'Five Stars' 'Five Stars' 'Epic colle...</td>\n",
              "    </tr>\n",
              "    <tr>\n",
              "      <th>1</th>\n",
              "      <td>9629971372</td>\n",
              "      <td>Dotop Sony Playstation 2 PS2 64MB Memory Card</td>\n",
              "      <td>['B01LY4QRT8', 'B0000C7GHG', 'B00004SQPD', 'B0...</td>\n",
              "      <td></td>\n",
              "      <td>4.588235</td>\n",
              "      <td>[\"This is Memory Card 128MB for PlayStation 2 ...</td>\n",
              "      <td>['How can you go wrong with obtaining a 128 Me...</td>\n",
              "      <td>['Works on 95% of games!' 'nice' 'As Expected'...</td>\n",
              "    </tr>\n",
              "    <tr>\n",
              "      <th>2</th>\n",
              "      <td>B000006OVJ</td>\n",
              "      <td>Mega Man Legends</td>\n",
              "      <td>['B00004XONL', 'B0045L3SNQ', 'B0009XBWY6', 'B0...</td>\n",
              "      <td>['B0045L3SNQ', 'B00004XONL', 'B00000K1VC', 'B0...</td>\n",
              "      <td>4.400000</td>\n",
              "      <td>['It is a world covered by endless water. Only...</td>\n",
              "      <td>['Well as far as the person who sold this to m...</td>\n",
              "      <td>['Hmm' 'Mega Man Legends For The PlayStation'\\...</td>\n",
              "    </tr>\n",
              "    <tr>\n",
              "      <th>3</th>\n",
              "      <td>B000006P0K</td>\n",
              "      <td>Tekken 2</td>\n",
              "      <td>['B00000K2X5', 'B000006P0J', 'B0000664JF', 'B0...</td>\n",
              "      <td>['B00000K2X5', 'B0002CHJ8C', 'B0000664JF', 'B0...</td>\n",
              "      <td>5.000000</td>\n",
              "      <td>['New green label', \"They're all here Heihachi...</td>\n",
              "      <td>[\"Same goes for Tekken 2: played but never own...</td>\n",
              "      <td>['Tekken 2' 'Five Stars' 'One of the best figh...</td>\n",
              "    </tr>\n",
              "    <tr>\n",
              "      <th>4</th>\n",
              "      <td>B000006RGR</td>\n",
              "      <td>Tomb Raider II</td>\n",
              "      <td>['B00000DMB4', 'B008LYNLFI', 'B00001ZT9E', 'B0...</td>\n",
              "      <td>['B008LYNLFI', 'B00000DMB4', 'B00002SFNG', 'B0...</td>\n",
              "      <td>4.833333</td>\n",
              "      <td>[\"Lara's Back. Explore new worlds. Awesome Cla...</td>\n",
              "      <td>[\"Tomb Raider II is the best of the series, fo...</td>\n",
              "      <td>['best tomb raider' 'A better game than the or...</td>\n",
              "    </tr>\n",
              "  </tbody>\n",
              "</table>\n",
              "</div>"
            ],
            "text/plain": [
              "         asin  ...                                            summary\n",
              "0  0804161380  ...  ['Great' 'Five Stars' 'Five Stars' 'Epic colle...\n",
              "1  9629971372  ...  ['Works on 95% of games!' 'nice' 'As Expected'...\n",
              "2  B000006OVJ  ...  ['Hmm' 'Mega Man Legends For The PlayStation'\\...\n",
              "3  B000006P0K  ...  ['Tekken 2' 'Five Stars' 'One of the best figh...\n",
              "4  B000006RGR  ...  ['best tomb raider' 'A better game than the or...\n",
              "\n",
              "[5 rows x 8 columns]"
            ]
          },
          "metadata": {},
          "execution_count": 113
        }
      ]
    },
    {
      "cell_type": "code",
      "source": [
        "process = lambda x: str(x).replace(' ', '').replace(\"'\", '')[1:-1].split(',')\n",
        "cleanText = lambda x: (re.sub(r'[^A-Za-z0-9 ]+', '', x)).lower()\n",
        "\n",
        "meta[['description', 'reviewText', 'summary', 'also_buy', 'also_view']] = meta.apply({'description': lambda x: cleanText(x), \n",
        "                                                                                      'reviewText': lambda x: cleanText(x), \n",
        "                                                                                      'summary': lambda x: cleanText(x), \n",
        "                                                                                      'also_buy': lambda x: process(x), \n",
        "                                                                                      'also_view': lambda x: process(x)})\n",
        "\n",
        "meta.head()"
      ],
      "metadata": {
        "colab": {
          "base_uri": "https://localhost:8080/",
          "height": 459
        },
        "id": "gKpWZ83RgSZJ",
        "outputId": "ee35b4b3-a3df-4013-be85-ae0f5bcb5da7"
      },
      "execution_count": 114,
      "outputs": [
        {
          "output_type": "execute_result",
          "data": {
            "text/html": [
              "<div>\n",
              "<style scoped>\n",
              "    .dataframe tbody tr th:only-of-type {\n",
              "        vertical-align: middle;\n",
              "    }\n",
              "\n",
              "    .dataframe tbody tr th {\n",
              "        vertical-align: top;\n",
              "    }\n",
              "\n",
              "    .dataframe thead th {\n",
              "        text-align: right;\n",
              "    }\n",
              "</style>\n",
              "<table border=\"1\" class=\"dataframe\">\n",
              "  <thead>\n",
              "    <tr style=\"text-align: right;\">\n",
              "      <th></th>\n",
              "      <th>asin</th>\n",
              "      <th>title</th>\n",
              "      <th>also_buy</th>\n",
              "      <th>also_view</th>\n",
              "      <th>overall</th>\n",
              "      <th>description</th>\n",
              "      <th>reviewText</th>\n",
              "      <th>summary</th>\n",
              "    </tr>\n",
              "  </thead>\n",
              "  <tbody>\n",
              "    <tr>\n",
              "      <th>0</th>\n",
              "      <td>0804161380</td>\n",
              "      <td>Legend of Zelda Box Set Prima Official Game Guide</td>\n",
              "      <td>[1911015214, 1911015222, 1506703356, 110189843...</td>\n",
              "      <td>[1911015486, 1506703356, 1616550414, 150670740...</td>\n",
              "      <td>4.733333</td>\n",
              "      <td>its 6 legend of zelda strategy guides offered ...</td>\n",
              "      <td>amazingnncool awesome interesting guides of th...</td>\n",
              "      <td>great five stars five stars epic collection fi...</td>\n",
              "    </tr>\n",
              "    <tr>\n",
              "      <th>1</th>\n",
              "      <td>9629971372</td>\n",
              "      <td>Dotop Sony Playstation 2 PS2 64MB Memory Card</td>\n",
              "      <td>[B01LY4QRT8, B0000C7GHG, B00004SQPD, B000SEU92...</td>\n",
              "      <td>[]</td>\n",
              "      <td>4.588235</td>\n",
              "      <td>this is memory card 128mb for playstation 2 ps...</td>\n",
              "      <td>how can you go wrong with obtaining a 128 mega...</td>\n",
              "      <td>works on 95 of games nice as expected my first...</td>\n",
              "    </tr>\n",
              "    <tr>\n",
              "      <th>2</th>\n",
              "      <td>B000006OVJ</td>\n",
              "      <td>Mega Man Legends</td>\n",
              "      <td>[B00004XONL, B0045L3SNQ, B0009XBWY6, B00005MA9...</td>\n",
              "      <td>[B0045L3SNQ, B00004XONL, B00000K1VC, B000050FA...</td>\n",
              "      <td>4.400000</td>\n",
              "      <td>it is a world covered by endless water only sm...</td>\n",
              "      <td>well as far as the person who sold this to me ...</td>\n",
              "      <td>hmm mega man legends for the playstation megam...</td>\n",
              "    </tr>\n",
              "    <tr>\n",
              "      <th>3</th>\n",
              "      <td>B000006P0K</td>\n",
              "      <td>Tekken 2</td>\n",
              "      <td>[B00000K2X5, B000006P0J, B0000664JF, B0002CHJ8...</td>\n",
              "      <td>[B00000K2X5, B0002CHJ8C, B0000664JF, B000006P0...</td>\n",
              "      <td>5.000000</td>\n",
              "      <td>new green label theyre all here heihachi paul ...</td>\n",
              "      <td>same goes for tekken 2 played but never owned ...</td>\n",
              "      <td>tekken 2 five stars one of the best fighting g...</td>\n",
              "    </tr>\n",
              "    <tr>\n",
              "      <th>4</th>\n",
              "      <td>B000006RGR</td>\n",
              "      <td>Tomb Raider II</td>\n",
              "      <td>[B00000DMB4, B008LYNLFI, B00001ZT9E, B000006RG...</td>\n",
              "      <td>[B008LYNLFI, B00000DMB4, B00002SFNG, B00001ZT9...</td>\n",
              "      <td>4.833333</td>\n",
              "      <td>laras back explore new worlds awesome classic ...</td>\n",
              "      <td>tomb raider ii is the best of the series follo...</td>\n",
              "      <td>best tomb raider a better game than the origin...</td>\n",
              "    </tr>\n",
              "  </tbody>\n",
              "</table>\n",
              "</div>"
            ],
            "text/plain": [
              "         asin  ...                                            summary\n",
              "0  0804161380  ...  great five stars five stars epic collection fi...\n",
              "1  9629971372  ...  works on 95 of games nice as expected my first...\n",
              "2  B000006OVJ  ...  hmm mega man legends for the playstation megam...\n",
              "3  B000006P0K  ...  tekken 2 five stars one of the best fighting g...\n",
              "4  B000006RGR  ...  best tomb raider a better game than the origin...\n",
              "\n",
              "[5 rows x 8 columns]"
            ]
          },
          "metadata": {},
          "execution_count": 114
        }
      ]
    },
    {
      "cell_type": "code",
      "source": [
        "stop = stopwords.words('english')\n",
        "removeStopWords = lambda x:' '.join([word for word in x.split() if word not in (stop)])\n",
        "\n",
        "meta[['description', 'reviewText', 'summary']] = meta.apply({\n",
        "    'description': lambda x: removeStopWords(x), \n",
        "    'reviewText': lambda x: removeStopWords(x), \n",
        "    'summary': lambda x: removeStopWords(x)})\n",
        "\n",
        "meta.head()"
      ],
      "metadata": {
        "colab": {
          "base_uri": "https://localhost:8080/",
          "height": 459
        },
        "id": "E8ioa89YgSVi",
        "outputId": "40f780d9-116e-4524-fe18-9b809f9f8705"
      },
      "execution_count": 115,
      "outputs": [
        {
          "output_type": "execute_result",
          "data": {
            "text/html": [
              "<div>\n",
              "<style scoped>\n",
              "    .dataframe tbody tr th:only-of-type {\n",
              "        vertical-align: middle;\n",
              "    }\n",
              "\n",
              "    .dataframe tbody tr th {\n",
              "        vertical-align: top;\n",
              "    }\n",
              "\n",
              "    .dataframe thead th {\n",
              "        text-align: right;\n",
              "    }\n",
              "</style>\n",
              "<table border=\"1\" class=\"dataframe\">\n",
              "  <thead>\n",
              "    <tr style=\"text-align: right;\">\n",
              "      <th></th>\n",
              "      <th>asin</th>\n",
              "      <th>title</th>\n",
              "      <th>also_buy</th>\n",
              "      <th>also_view</th>\n",
              "      <th>overall</th>\n",
              "      <th>description</th>\n",
              "      <th>reviewText</th>\n",
              "      <th>summary</th>\n",
              "    </tr>\n",
              "  </thead>\n",
              "  <tbody>\n",
              "    <tr>\n",
              "      <th>0</th>\n",
              "      <td>0804161380</td>\n",
              "      <td>Legend of Zelda Box Set Prima Official Game Guide</td>\n",
              "      <td>[1911015214, 1911015222, 1506703356, 110189843...</td>\n",
              "      <td>[1911015486, 1506703356, 1616550414, 150670740...</td>\n",
              "      <td>4.733333</td>\n",
              "      <td>6 legend zelda strategy guides offered numbere...</td>\n",
              "      <td>amazingnncool awesome interesting guides legen...</td>\n",
              "      <td>great five stars five stars epic collection fi...</td>\n",
              "    </tr>\n",
              "    <tr>\n",
              "      <th>1</th>\n",
              "      <td>9629971372</td>\n",
              "      <td>Dotop Sony Playstation 2 PS2 64MB Memory Card</td>\n",
              "      <td>[B01LY4QRT8, B0000C7GHG, B00004SQPD, B000SEU92...</td>\n",
              "      <td>[]</td>\n",
              "      <td>4.588235</td>\n",
              "      <td>memory card 128mb playstation 2 ps2 building b...</td>\n",
              "      <td>go wrong obtaining 128 megabyte memory card ps...</td>\n",
              "      <td>works 95 games nice expected first ps2 memory ...</td>\n",
              "    </tr>\n",
              "    <tr>\n",
              "      <th>2</th>\n",
              "      <td>B000006OVJ</td>\n",
              "      <td>Mega Man Legends</td>\n",
              "      <td>[B00004XONL, B0045L3SNQ, B0009XBWY6, B00005MA9...</td>\n",
              "      <td>[B0045L3SNQ, B00004XONL, B00000K1VC, B000050FA...</td>\n",
              "      <td>4.400000</td>\n",
              "      <td>world covered endless water small patches land...</td>\n",
              "      <td>well far person sold goes game came described ...</td>\n",
              "      <td>hmm mega man legends playstation megaman ocari...</td>\n",
              "    </tr>\n",
              "    <tr>\n",
              "      <th>3</th>\n",
              "      <td>B000006P0K</td>\n",
              "      <td>Tekken 2</td>\n",
              "      <td>[B00000K2X5, B000006P0J, B0000664JF, B0002CHJ8...</td>\n",
              "      <td>[B00000K2X5, B0002CHJ8C, B0000664JF, B000006P0...</td>\n",
              "      <td>5.000000</td>\n",
              "      <td>new green label theyre heihachi paul phoenix k...</td>\n",
              "      <td>goes tekken 2 played never owned im officially...</td>\n",
              "      <td>tekken 2 five stars one best fighting games ti...</td>\n",
              "    </tr>\n",
              "    <tr>\n",
              "      <th>4</th>\n",
              "      <td>B000006RGR</td>\n",
              "      <td>Tomb Raider II</td>\n",
              "      <td>[B00000DMB4, B008LYNLFI, B00001ZT9E, B000006RG...</td>\n",
              "      <td>[B008LYNLFI, B00000DMB4, B00002SFNG, B00001ZT9...</td>\n",
              "      <td>4.833333</td>\n",
              "      <td>laras back explore new worlds awesome classic ...</td>\n",
              "      <td>tomb raider ii best series followed original s...</td>\n",
              "      <td>best tomb raider better game original perfect ...</td>\n",
              "    </tr>\n",
              "  </tbody>\n",
              "</table>\n",
              "</div>"
            ],
            "text/plain": [
              "         asin  ...                                            summary\n",
              "0  0804161380  ...  great five stars five stars epic collection fi...\n",
              "1  9629971372  ...  works 95 games nice expected first ps2 memory ...\n",
              "2  B000006OVJ  ...  hmm mega man legends playstation megaman ocari...\n",
              "3  B000006P0K  ...  tekken 2 five stars one best fighting games ti...\n",
              "4  B000006RGR  ...  best tomb raider better game original perfect ...\n",
              "\n",
              "[5 rows x 8 columns]"
            ]
          },
          "metadata": {},
          "execution_count": 115
        }
      ]
    },
    {
      "cell_type": "code",
      "source": [
        "lemmatizer = WordNetLemmatizer()\n",
        "lemmtizeText = lambda sentence: ' '.join([lemmatizer.lemmatize(w) for w in nltk.word_tokenize(sentence)])\n",
        "\n",
        "meta[['description', 'reviewText', 'summary']] = meta.apply({\n",
        "    'description': lambda x: lemmtizeText(x), \n",
        "    'reviewText': lambda x: lemmtizeText(x), \n",
        "    'summary': lambda x: lemmtizeText(x)})\n",
        "\n",
        "meta.head()"
      ],
      "metadata": {
        "colab": {
          "base_uri": "https://localhost:8080/",
          "height": 459
        },
        "id": "lnc6sbSbgSSg",
        "outputId": "5fcd73c3-0a7e-491f-d9e5-17939d802b9f"
      },
      "execution_count": 116,
      "outputs": [
        {
          "output_type": "execute_result",
          "data": {
            "text/html": [
              "<div>\n",
              "<style scoped>\n",
              "    .dataframe tbody tr th:only-of-type {\n",
              "        vertical-align: middle;\n",
              "    }\n",
              "\n",
              "    .dataframe tbody tr th {\n",
              "        vertical-align: top;\n",
              "    }\n",
              "\n",
              "    .dataframe thead th {\n",
              "        text-align: right;\n",
              "    }\n",
              "</style>\n",
              "<table border=\"1\" class=\"dataframe\">\n",
              "  <thead>\n",
              "    <tr style=\"text-align: right;\">\n",
              "      <th></th>\n",
              "      <th>asin</th>\n",
              "      <th>title</th>\n",
              "      <th>also_buy</th>\n",
              "      <th>also_view</th>\n",
              "      <th>overall</th>\n",
              "      <th>description</th>\n",
              "      <th>reviewText</th>\n",
              "      <th>summary</th>\n",
              "    </tr>\n",
              "  </thead>\n",
              "  <tbody>\n",
              "    <tr>\n",
              "      <th>0</th>\n",
              "      <td>0804161380</td>\n",
              "      <td>Legend of Zelda Box Set Prima Official Game Guide</td>\n",
              "      <td>[1911015214, 1911015222, 1506703356, 110189843...</td>\n",
              "      <td>[1911015486, 1506703356, 1616550414, 150670740...</td>\n",
              "      <td>4.733333</td>\n",
              "      <td>6 legend zelda strategy guide offered numbered...</td>\n",
              "      <td>amazingnncool awesome interesting guide legend...</td>\n",
              "      <td>great five star five star epic collection five...</td>\n",
              "    </tr>\n",
              "    <tr>\n",
              "      <th>1</th>\n",
              "      <td>9629971372</td>\n",
              "      <td>Dotop Sony Playstation 2 PS2 64MB Memory Card</td>\n",
              "      <td>[B01LY4QRT8, B0000C7GHG, B00004SQPD, B000SEU92...</td>\n",
              "      <td>[]</td>\n",
              "      <td>4.588235</td>\n",
              "      <td>memory card 128mb playstation 2 ps2 building b...</td>\n",
              "      <td>go wrong obtaining 128 megabyte memory card ps...</td>\n",
              "      <td>work 95 game nice expected first ps2 memory ca...</td>\n",
              "    </tr>\n",
              "    <tr>\n",
              "      <th>2</th>\n",
              "      <td>B000006OVJ</td>\n",
              "      <td>Mega Man Legends</td>\n",
              "      <td>[B00004XONL, B0045L3SNQ, B0009XBWY6, B00005MA9...</td>\n",
              "      <td>[B0045L3SNQ, B00004XONL, B00000K1VC, B000050FA...</td>\n",
              "      <td>4.400000</td>\n",
              "      <td>world covered endless water small patch land s...</td>\n",
              "      <td>well far person sold go game came described we...</td>\n",
              "      <td>hmm mega man legend playstation megaman ocarin...</td>\n",
              "    </tr>\n",
              "    <tr>\n",
              "      <th>3</th>\n",
              "      <td>B000006P0K</td>\n",
              "      <td>Tekken 2</td>\n",
              "      <td>[B00000K2X5, B000006P0J, B0000664JF, B0002CHJ8...</td>\n",
              "      <td>[B00000K2X5, B0002CHJ8C, B0000664JF, B000006P0...</td>\n",
              "      <td>5.000000</td>\n",
              "      <td>new green label theyre heihachi paul phoenix k...</td>\n",
              "      <td>go tekken 2 played never owned im officially b...</td>\n",
              "      <td>tekken 2 five star one best fighting game time...</td>\n",
              "    </tr>\n",
              "    <tr>\n",
              "      <th>4</th>\n",
              "      <td>B000006RGR</td>\n",
              "      <td>Tomb Raider II</td>\n",
              "      <td>[B00000DMB4, B008LYNLFI, B00001ZT9E, B000006RG...</td>\n",
              "      <td>[B008LYNLFI, B00000DMB4, B00002SFNG, B00001ZT9...</td>\n",
              "      <td>4.833333</td>\n",
              "      <td>laras back explore new world awesome classic g...</td>\n",
              "      <td>tomb raider ii best series followed original s...</td>\n",
              "      <td>best tomb raider better game original perfect ...</td>\n",
              "    </tr>\n",
              "  </tbody>\n",
              "</table>\n",
              "</div>"
            ],
            "text/plain": [
              "         asin  ...                                            summary\n",
              "0  0804161380  ...  great five star five star epic collection five...\n",
              "1  9629971372  ...  work 95 game nice expected first ps2 memory ca...\n",
              "2  B000006OVJ  ...  hmm mega man legend playstation megaman ocarin...\n",
              "3  B000006P0K  ...  tekken 2 five star one best fighting game time...\n",
              "4  B000006RGR  ...  best tomb raider better game original perfect ...\n",
              "\n",
              "[5 rows x 8 columns]"
            ]
          },
          "metadata": {},
          "execution_count": 116
        }
      ]
    },
    {
      "cell_type": "code",
      "source": [
        "meta['without reviewText'] = meta['summary'] + meta['description']\n",
        "meta['with reviewText'] = meta['summary'] + meta['description'] + meta['reviewText']\n",
        "meta.head()"
      ],
      "metadata": {
        "colab": {
          "base_uri": "https://localhost:8080/",
          "height": 527
        },
        "id": "K1rZ5CZfhn_F",
        "outputId": "11fdfaa2-606a-4b5d-ba9d-bbdfbb87c469"
      },
      "execution_count": 117,
      "outputs": [
        {
          "output_type": "execute_result",
          "data": {
            "text/html": [
              "<div>\n",
              "<style scoped>\n",
              "    .dataframe tbody tr th:only-of-type {\n",
              "        vertical-align: middle;\n",
              "    }\n",
              "\n",
              "    .dataframe tbody tr th {\n",
              "        vertical-align: top;\n",
              "    }\n",
              "\n",
              "    .dataframe thead th {\n",
              "        text-align: right;\n",
              "    }\n",
              "</style>\n",
              "<table border=\"1\" class=\"dataframe\">\n",
              "  <thead>\n",
              "    <tr style=\"text-align: right;\">\n",
              "      <th></th>\n",
              "      <th>asin</th>\n",
              "      <th>title</th>\n",
              "      <th>also_buy</th>\n",
              "      <th>also_view</th>\n",
              "      <th>overall</th>\n",
              "      <th>description</th>\n",
              "      <th>reviewText</th>\n",
              "      <th>summary</th>\n",
              "      <th>without reviewText</th>\n",
              "      <th>with reviewText</th>\n",
              "    </tr>\n",
              "  </thead>\n",
              "  <tbody>\n",
              "    <tr>\n",
              "      <th>0</th>\n",
              "      <td>0804161380</td>\n",
              "      <td>Legend of Zelda Box Set Prima Official Game Guide</td>\n",
              "      <td>[1911015214, 1911015222, 1506703356, 110189843...</td>\n",
              "      <td>[1911015486, 1506703356, 1616550414, 150670740...</td>\n",
              "      <td>4.733333</td>\n",
              "      <td>6 legend zelda strategy guide offered numbered...</td>\n",
              "      <td>amazingnncool awesome interesting guide legend...</td>\n",
              "      <td>great five star five star epic collection five...</td>\n",
              "      <td>great five star five star epic collection five...</td>\n",
              "      <td>great five star five star epic collection five...</td>\n",
              "    </tr>\n",
              "    <tr>\n",
              "      <th>1</th>\n",
              "      <td>9629971372</td>\n",
              "      <td>Dotop Sony Playstation 2 PS2 64MB Memory Card</td>\n",
              "      <td>[B01LY4QRT8, B0000C7GHG, B00004SQPD, B000SEU92...</td>\n",
              "      <td>[]</td>\n",
              "      <td>4.588235</td>\n",
              "      <td>memory card 128mb playstation 2 ps2 building b...</td>\n",
              "      <td>go wrong obtaining 128 megabyte memory card ps...</td>\n",
              "      <td>work 95 game nice expected first ps2 memory ca...</td>\n",
              "      <td>work 95 game nice expected first ps2 memory ca...</td>\n",
              "      <td>work 95 game nice expected first ps2 memory ca...</td>\n",
              "    </tr>\n",
              "    <tr>\n",
              "      <th>2</th>\n",
              "      <td>B000006OVJ</td>\n",
              "      <td>Mega Man Legends</td>\n",
              "      <td>[B00004XONL, B0045L3SNQ, B0009XBWY6, B00005MA9...</td>\n",
              "      <td>[B0045L3SNQ, B00004XONL, B00000K1VC, B000050FA...</td>\n",
              "      <td>4.400000</td>\n",
              "      <td>world covered endless water small patch land s...</td>\n",
              "      <td>well far person sold go game came described we...</td>\n",
              "      <td>hmm mega man legend playstation megaman ocarin...</td>\n",
              "      <td>hmm mega man legend playstation megaman ocarin...</td>\n",
              "      <td>hmm mega man legend playstation megaman ocarin...</td>\n",
              "    </tr>\n",
              "    <tr>\n",
              "      <th>3</th>\n",
              "      <td>B000006P0K</td>\n",
              "      <td>Tekken 2</td>\n",
              "      <td>[B00000K2X5, B000006P0J, B0000664JF, B0002CHJ8...</td>\n",
              "      <td>[B00000K2X5, B0002CHJ8C, B0000664JF, B000006P0...</td>\n",
              "      <td>5.000000</td>\n",
              "      <td>new green label theyre heihachi paul phoenix k...</td>\n",
              "      <td>go tekken 2 played never owned im officially b...</td>\n",
              "      <td>tekken 2 five star one best fighting game time...</td>\n",
              "      <td>tekken 2 five star one best fighting game time...</td>\n",
              "      <td>tekken 2 five star one best fighting game time...</td>\n",
              "    </tr>\n",
              "    <tr>\n",
              "      <th>4</th>\n",
              "      <td>B000006RGR</td>\n",
              "      <td>Tomb Raider II</td>\n",
              "      <td>[B00000DMB4, B008LYNLFI, B00001ZT9E, B000006RG...</td>\n",
              "      <td>[B008LYNLFI, B00000DMB4, B00002SFNG, B00001ZT9...</td>\n",
              "      <td>4.833333</td>\n",
              "      <td>laras back explore new world awesome classic g...</td>\n",
              "      <td>tomb raider ii best series followed original s...</td>\n",
              "      <td>best tomb raider better game original perfect ...</td>\n",
              "      <td>best tomb raider better game original perfect ...</td>\n",
              "      <td>best tomb raider better game original perfect ...</td>\n",
              "    </tr>\n",
              "  </tbody>\n",
              "</table>\n",
              "</div>"
            ],
            "text/plain": [
              "         asin  ...                                    with reviewText\n",
              "0  0804161380  ...  great five star five star epic collection five...\n",
              "1  9629971372  ...  work 95 game nice expected first ps2 memory ca...\n",
              "2  B000006OVJ  ...  hmm mega man legend playstation megaman ocarin...\n",
              "3  B000006P0K  ...  tekken 2 five star one best fighting game time...\n",
              "4  B000006RGR  ...  best tomb raider better game original perfect ...\n",
              "\n",
              "[5 rows x 10 columns]"
            ]
          },
          "metadata": {},
          "execution_count": 117
        }
      ]
    },
    {
      "cell_type": "markdown",
      "source": [
        "# 4. Model Building"
      ],
      "metadata": {
        "id": "syhMNveY8NeQ"
      }
    },
    {
      "cell_type": "code",
      "source": [
        "def tf_similarity(df, col):\n",
        "  tf = TfidfVectorizer()\n",
        "  mat = tf.fit_transform(df[col])\n",
        "  # print('Tfidf Matrix Shape: {}'.format(mat.shape))\n",
        "  sim = linear_kernel(mat, mat)\n",
        "  # print('Similarity Matrix Shape: {}\\n'.format(sim.shape))\n",
        "  return sim\n",
        "\n",
        "def cv_similarity(df, col):\n",
        "  cv = CountVectorizer()\n",
        "  mat = cv.fit_transform(df[col])\n",
        "  # print('CV Matrix Shape: {}'.format(mat.shape))\n",
        "  sim = linear_kernel(mat, mat)\n",
        "  # print('Similarity Matrix Shape: {}\\n'.format(sim.shape))\n",
        "  return sim\n",
        "\n",
        "def get_recommendations(df, col, method, id):\n",
        "  # similarity matrix\n",
        "  sim = tf_similarity(df, col) if method == 'tfidf' else cv_similarity(df, col)\n",
        "\n",
        "  # find recommendations\n",
        "  ids = df['asin']\n",
        "  indices = pd.Series(df.index, index=df['asin'])\n",
        "  idx = indices[id]\n",
        "  sim_scores = list(enumerate(sim[idx]))\n",
        "  sim_scores = sorted(sim_scores, key=lambda x: x[1], reverse=True)\n",
        "  sim_scores = sim_scores[1:31]\n",
        "  prod_indices = [i[0] for i in sim_scores]\n",
        "  return ids.iloc[prod_indices]\n",
        "\n",
        "def display_recommendations(df, col, method, id):\n",
        "  for rid in get_recommendations(df, col, method, id).head(10).values:\n",
        "    print(df[df['asin'] == rid]['title'].unique())"
      ],
      "metadata": {
        "id": "dSnJzbh0ix8W"
      },
      "execution_count": 143,
      "outputs": []
    },
    {
      "cell_type": "code",
      "source": [
        "without_reviewText_tf = tf_similarity(meta, 'without reviewText')"
      ],
      "metadata": {
        "id": "ZcZF2xKPk-Kj",
        "colab": {
          "base_uri": "https://localhost:8080/"
        },
        "outputId": "f971a71c-3ff5-4427-ce68-9ded0ac3b024"
      },
      "execution_count": 119,
      "outputs": [
        {
          "output_type": "stream",
          "name": "stdout",
          "text": [
            "Tfidf Matrix Shape: (3784, 57232)\n",
            "Similarity Matrix Shape: (3784, 3784)\n",
            "\n"
          ]
        }
      ]
    },
    {
      "cell_type": "code",
      "source": [
        "without_reviewText_tf_sim.shape"
      ],
      "metadata": {
        "id": "IrFZT-7wlMF7",
        "colab": {
          "base_uri": "https://localhost:8080/"
        },
        "outputId": "a96a6c86-9001-46e9-d4fb-0b9ac12dda82"
      },
      "execution_count": 120,
      "outputs": [
        {
          "output_type": "execute_result",
          "data": {
            "text/plain": [
              "(3784, 3784)"
            ]
          },
          "metadata": {},
          "execution_count": 120
        }
      ]
    },
    {
      "cell_type": "code",
      "source": [
        "display_recommendations(meta, 'without reviewText', 'tfidf', '0804161380')"
      ],
      "metadata": {
        "id": "IPT-li15lXGG",
        "colab": {
          "base_uri": "https://localhost:8080/"
        },
        "outputId": "d45f00fa-b5a9-4731-e373-3fb0c1027271"
      },
      "execution_count": 121,
      "outputs": [
        {
          "output_type": "stream",
          "name": "stdout",
          "text": [
            "Tfidf Matrix Shape: (3784, 57232)\n",
            "Similarity Matrix Shape: (3784, 3784)\n",
            "\n",
            "['The Legend of Zelda:  Phantom Hourglass']\n",
            "['The Legend of Zelda: The Wind Waker']\n",
            "['The Legend of Zelda: A Link Between Worlds 3D']\n",
            "['The Legend of Zelda: Twilight Princess HD - Wii U']\n",
            "['The Legend of Zelda: Skyward Sword']\n",
            "['The Legend of Zelda: Twilight Princess']\n",
            "['Zelda II: The Adventure of Link']\n",
            "['The Legend of Zelda: Spirit Tracks']\n",
            "['The Legend of Zelda']\n",
            "['The Legend of Zelda: TriForce Heroes - 3DS']\n"
          ]
        }
      ]
    },
    {
      "cell_type": "code",
      "source": [
        "display_recommendations(meta, 'with reviewText', 'cv', '0804161380')"
      ],
      "metadata": {
        "colab": {
          "base_uri": "https://localhost:8080/"
        },
        "id": "ns-L9jZxvl7o",
        "outputId": "728233d4-230e-49e4-9256-932897f28a65"
      },
      "execution_count": 122,
      "outputs": [
        {
          "output_type": "stream",
          "name": "stdout",
          "text": [
            "CV Matrix Shape: (3784, 329436)\n",
            "Similarity Matrix Shape: (3784, 3784)\n",
            "\n",
            "['Bloodborne']\n",
            "[\"Assassin's Creed\"]\n",
            "['Uncharted 2: Among Thieves - Playstation 3']\n",
            "['Metal Gear Solid 4: Guns of the Patriots']\n",
            "['Destiny - Standard Edition - PlayStation 4']\n",
            "[' Mass Effect 2 Platinum Hits']\n",
            "['Wii']\n",
            "['Final Fantasy X']\n",
            "['Diablo III']\n",
            "['Grand Theft Auto IV']\n"
          ]
        }
      ]
    },
    {
      "cell_type": "markdown",
      "source": [
        "# 5. Evaluation"
      ],
      "metadata": {
        "id": "J2mi5LkB8Q19"
      }
    },
    {
      "cell_type": "code",
      "source": [
        "def evaluate(items, df, col, method):\n",
        "  arr_buy = []\n",
        "  arr_view = []\n",
        "  print('--- Building Recommendations ---')\n",
        "  i = 1\n",
        "  for id in items:\n",
        "    recommendations_ = get_recommendations(df, col, method, id)[0:5]\n",
        "    recommendations_ = set(recommendations_)\n",
        "\n",
        "    also_buy_ = list(df[df['asin']==id].also_buy)[0]\n",
        "    also_buy_ = set(also_buy_)\n",
        "\n",
        "    also_view_ = list(df[df['asin']==id].also_view)[0]\n",
        "    also_view_ = set(also_view_)\n",
        "\n",
        "    intr_buy = also_buy_.intersection(recommendations_)\n",
        "    intr_view = also_view_.intersection(recommendations_)\n",
        "    \n",
        "    arr_buy.append(len(intr_buy)/len(recommendations_))\n",
        "    arr_view.append(len(intr_view)/len(recommendations_))\n",
        "\n",
        "    if (i%20 == 0):\n",
        "      print('{} IDs processed'.format(i))\n",
        "    i += 1\n",
        "\n",
        "  print('\\n\\n--- Evaluation Result ---')\n",
        "  buy_score = sum(arr_buy)/len(arr_buy)\n",
        "  view_score = sum(arr_view)/len(arr_view)\n",
        "\n",
        "  print('Also Buy Score: {}'.format(buy_score))\n",
        "  print('Also View Score: {}'.format(view_score))\n",
        "  return buy_score, view_score"
      ],
      "metadata": {
        "id": "pC6424XRxtAd"
      },
      "execution_count": 176,
      "outputs": []
    },
    {
      "cell_type": "code",
      "source": [
        "random.seed(1024)\n",
        "rdf = meta.sample(100)\n",
        "tfidf_without_reviewText_buy_score = evaluate(list(rdf.asin.values), meta, 'without reviewText', 'tfidf')"
      ],
      "metadata": {
        "colab": {
          "base_uri": "https://localhost:8080/"
        },
        "id": "lbBVRveL4jTm",
        "outputId": "85922379-17aa-46c2-d35d-2c42aefd052c"
      },
      "execution_count": 177,
      "outputs": [
        {
          "output_type": "stream",
          "name": "stdout",
          "text": [
            "--- Building Recommendations ---\n",
            "20 IDs processed\n",
            "40 IDs processed\n",
            "60 IDs processed\n",
            "80 IDs processed\n",
            "100 IDs processed\n",
            "\n",
            "\n",
            "--- Evaluation Result ---\n",
            "Also Buy Score: 0.2499999999999999\n",
            "Also View Score: 0.3179999999999998\n"
          ]
        }
      ]
    },
    {
      "cell_type": "code",
      "source": [
        ""
      ],
      "metadata": {
        "id": "jDwez2P2FRAl"
      },
      "execution_count": null,
      "outputs": []
    }
  ]
}